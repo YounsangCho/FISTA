{
 "cells": [
  {
   "cell_type": "code",
   "execution_count": 1,
   "id": "cc39375c",
   "metadata": {},
   "outputs": [],
   "source": [
    "import torch\n",
    "import numpy as np\n",
    "import time"
   ]
  },
  {
   "cell_type": "code",
   "execution_count": 2,
   "id": "604b949b",
   "metadata": {},
   "outputs": [],
   "source": [
    "def soft_thresh(x, alpha):\n",
    "    device = torch.device(\"cuda:0\")\n",
    "    x = x.to(device)\n",
    "    n = x.shape[0]\n",
    "    res = torch.maximum(x - alpha, torch.zeros(n).to(device)) * torch.sign(x)\n",
    "    \n",
    "    return res"
   ]
  },
  {
   "cell_type": "code",
   "execution_count": 3,
   "id": "7f1b1993",
   "metadata": {},
   "outputs": [],
   "source": [
    "def FISTA(beta, X, y, lamb, L, eta , tol = 1e-08, max_iter = 5000, dtype = torch.float64):\n",
    "    \n",
    "    if(dtype == torch.float64):\n",
    "        torch.set_default_tensor_type(torch.DoubleTensor)\n",
    "    else:\n",
    "        torch.set_default_tensor_type(torch.FloatTensor)\n",
    "    \n",
    "    device = torch.device(\"cuda:0\")\n",
    "    \n",
    "    n = X.shape[0]\n",
    "    p = X.shape[1]\n",
    "    \n",
    "    \n",
    "    beta = torch.Tensor(beta).to(device)\n",
    "    X = torch.Tensor(X).to(device)\n",
    "    y = torch.Tensor(y).to(device)\n",
    "    \n",
    "    XT = X.transpose(0,1)\n",
    "    XT = XT.to(device)\n",
    "    \n",
    "    \n",
    "    t = torch.ones(1, dtype = dtype).to(device)\n",
    "    crit = np.zeros(max_iter)\n",
    "    beta_p = torch.zeros(p, dtype =dtype, device = device)\n",
    "    beta_prev = torch.zeros(p, dtype =dtype, device = device)\n",
    "    \n",
    "    L_prev = L\n",
    "    \n",
    "    for k in range(max_iter):\n",
    "        ymXbp = y - X@beta_p\n",
    "        rbp = torch.dot(ymXbp, ymXbp)\n",
    "        \n",
    "        XTrbp = XT@ymXbp\n",
    "        \n",
    "        i_k = -1\n",
    "        cond = True\n",
    "        while cond:\n",
    "            i_k += 1\n",
    "            L_cur = L_prev * (eta ** i_k)\n",
    "            \n",
    "            bstar = beta_p + XTrbp / L_cur\n",
    "            d_beta = soft_thresh(bstar, lamb / L_cur)\n",
    "            \n",
    "            #RHS\n",
    "            diff_beta = d_beta - beta_p\n",
    "            RHS_1st = torch.dot(diff_beta, diff_beta)\n",
    "            RHS_2nd = torch.dot(diff_beta, XTrbp)\n",
    "            \n",
    "            RHS = L_cur * RHS_1st - 2.0 * RHS_2nd\n",
    "            \n",
    "            #LHS\n",
    "            ymXb = y - X@d_beta\n",
    "            LHS = torch.dot(ymXb, ymXb)  - rbp\n",
    "            \n",
    "            cond = (LHS > RHS)\n",
    "        \n",
    "        L_prev = L_cur\n",
    "        tnext =  (1.0 + torch.sqrt(1 + 4 * t**2)) / 2.0\n",
    "        diff_beta = d_beta - beta_prev\n",
    "        \n",
    "        t1 = (t - 1.0 ) / tnext\n",
    "        beta_p = d_beta + t1 * diff_beta\n",
    "        \n",
    "        crit[k] = torch.norm(diff_beta)\n",
    "        \n",
    "        if crit[k] < tol:\n",
    "            break\n",
    "        \n",
    "        t = tnext\n",
    "        beta_prev = d_beta\n",
    "    \n",
    "    res = d_beta.to('cpu')\n",
    "    \n",
    "    \n",
    "    return res.numpy(), crit, k"
   ]
  },
  {
   "cell_type": "markdown",
   "id": "aff5612e",
   "metadata": {},
   "source": [
    "## Double precision test"
   ]
  },
  {
   "cell_type": "code",
   "execution_count": 4,
   "id": "98ed7650",
   "metadata": {},
   "outputs": [],
   "source": [
    "np.random.seed(2022)\n",
    "n = 100; p = 200\n",
    "xmat = np.random.normal(size = (n, p)).astype(\"float64\")\n",
    "beta = np.zeros(p)\n",
    "beta[:int(0.05*p)] = 1.0\n",
    "y = np.dot(xmat, beta) + np.random.normal(size = n)\n",
    "beta_sol = np.zeros(p, dtype = \"float64\")\n",
    "\n",
    "lamb = np.float64(np.sqrt(2 * np.log(p) / n) )\n",
    "L = np.float64(10)\n",
    "eta = np.float64(2)\n",
    "tol = np.float64(1e-04)"
   ]
  },
  {
   "cell_type": "code",
   "execution_count": 9,
   "id": "ba89ff7c",
   "metadata": {},
   "outputs": [
    {
     "name": "stdout",
     "output_type": "stream",
     "text": [
      "\n",
      " 1 -th iteration, Elapsed time(double):  0.4206995964050293 , Elapsed time(single):  0.47515153884887695\n",
      "\n",
      " 2 -th iteration, Elapsed time(double):  0.4394409656524658 , Elapsed time(single):  0.4901621341705322\n",
      "\n",
      " 3 -th iteration, Elapsed time(double):  0.4497029781341553 , Elapsed time(single):  0.5435874462127686\n",
      "\n",
      " 4 -th iteration, Elapsed time(double):  0.5258321762084961 , Elapsed time(single):  0.5039727687835693\n",
      "\n",
      " 5 -th iteration, Elapsed time(double):  0.49323415756225586 , Elapsed time(single):  0.46979451179504395\n",
      "\n",
      " 6 -th iteration, Elapsed time(double):  0.4060664176940918 , Elapsed time(single):  0.4055190086364746\n",
      "\n",
      " 7 -th iteration, Elapsed time(double):  0.5602684020996094 , Elapsed time(single):  0.5138263702392578\n",
      "\n",
      " 8 -th iteration, Elapsed time(double):  0.4467203617095947 , Elapsed time(single):  0.4526200294494629\n",
      "\n",
      " 9 -th iteration, Elapsed time(double):  0.5377271175384521 , Elapsed time(single):  0.44888997077941895\n",
      "\n",
      " 10 -th iteration, Elapsed time(double):  0.4489290714263916 , Elapsed time(single):  0.4330446720123291\n",
      "\n",
      " 11 -th iteration, Elapsed time(double):  0.4915282726287842 , Elapsed time(single):  0.3937981128692627\n"
     ]
    }
   ],
   "source": [
    "niter = 11\n",
    "comp_time_torch = np.zeros((niter,2))\n",
    "\n",
    "n = 500; p = 1000\n",
    "for i in range(niter):\n",
    "    \n",
    "    xmat = np.random.normal(size = (n, p)).astype(\"float64\")\n",
    "    beta = np.zeros(p)\n",
    "    beta[:int(0.05*p)] = 1.0\n",
    "    y = np.dot(xmat, beta) + np.random.normal(size = n)\n",
    "    lamb = np.float64(np.sqrt(2 * np.log(p) / n) )\n",
    "    L = np.float64(10)\n",
    "    eta = np.float64(2)\n",
    "    tol = np.float64(1e-04)\n",
    "    \n",
    "    beta_sol = np.zeros(p, dtype = \"float64\")\n",
    "    \n",
    "    t1 = time.time()\n",
    "    res = FISTA(beta_sol, xmat, y, lamb, L, eta, tol = tol, max_iter = 5000)\n",
    "    t2 = time.time()\n",
    "    \n",
    "    comp_time_torch[i,0] = t2 - t1\n",
    "    \n",
    "    xmat = np.random.normal(size = (n, p)).astype(\"float32\")\n",
    "    beta = np.zeros(p, dtype = np.float32)\n",
    "    beta[:int(0.05*p)] = 1.0\n",
    "    y = np.dot(xmat, beta) + np.random.normal(size = n).astype(np.float32)\n",
    "    beta_sol = np.zeros(p, dtype = \"float32\")\n",
    "    \n",
    "    lamb = np.float32(np.sqrt(2 * np.log(p) / n) )\n",
    "    L = np.float32(10)\n",
    "    eta = np.float32(2)\n",
    "    tol = np.float32(1e-04)\n",
    "    \n",
    "    t1 = time.time()\n",
    "    res = FISTA(beta_sol, xmat, y, lamb, L, eta, tol = tol, max_iter = 5000, dtype = torch.float32)\n",
    "    t2 = time.time()\n",
    "    \n",
    "    comp_time_torch[i, 1] = t2 - t1\n",
    "    \n",
    "    print(\"\\n\", i+1, \"-th iteration, Elapsed time(double): \", comp_time_torch[i,0],\n",
    "         ', Elapsed time(single): ', comp_time_torch[i,1])\n",
    "    \n",
    "    \n",
    "    \n",
    "    "
   ]
  },
  {
   "cell_type": "code",
   "execution_count": 6,
   "id": "5dadd506",
   "metadata": {},
   "outputs": [
    {
     "data": {
      "text/plain": [
       "array([1.0846289 , 1.1303933 , 0.9725525 , 0.81222254, 0.84910697,\n",
       "       0.8344582 , 0.9020498 , 1.1550989 , 0.6405729 , 0.83180326,\n",
       "       1.1096005 , 1.0489771 , 0.88255185, 1.273143  , 1.2337017 ,\n",
       "       1.0239142 , 1.1536824 , 1.2027469 , 0.90862584, 0.93551725],\n",
       "      dtype=float32)"
      ]
     },
     "execution_count": 6,
     "metadata": {},
     "output_type": "execute_result"
    }
   ],
   "source": [
    "res[0][:20]"
   ]
  },
  {
   "cell_type": "markdown",
   "id": "eb604341",
   "metadata": {},
   "source": [
    "## Single precision test"
   ]
  },
  {
   "cell_type": "code",
   "execution_count": 17,
   "id": "20d739f2",
   "metadata": {},
   "outputs": [],
   "source": [
    "np.random.seed(2022)\n",
    "n = 100; p = 200\n",
    "xmat = np.random.normal(size = (n, p)).astype(\"float32\")\n",
    "beta = np.zeros(p, dtype = np.float32)\n",
    "beta[:int(0.05*p)] = 1.0\n",
    "y = np.dot(xmat, beta) + np.random.normal(size = n).astype(np.float32)\n",
    "beta_sol = np.zeros(p, dtype = \"float32\")\n",
    "\n",
    "lamb = np.float32(np.sqrt(2 * np.log(p) / n) )\n",
    "L = np.float32(10)\n",
    "eta = np.float32(2)\n",
    "tol = np.float32(1e-04)"
   ]
  },
  {
   "cell_type": "code",
   "execution_count": 18,
   "id": "aafa6a4c",
   "metadata": {},
   "outputs": [
    {
     "name": "stdout",
     "output_type": "stream",
     "text": [
      "Elapsed time: 0.164206\n"
     ]
    }
   ],
   "source": [
    "t1 = time.time()\n",
    "res = FISTA(beta_sol, xmat, y, lamb, L, eta, tol = tol, max_iter = 5000, dtype = torch.float32)\n",
    "t2 = time.time()\n",
    "print(\"Elapsed time: {:4f}\".format(t2-t1))"
   ]
  },
  {
   "cell_type": "code",
   "execution_count": 19,
   "id": "8bd66326",
   "metadata": {},
   "outputs": [
    {
     "data": {
      "text/plain": [
       "array([1.068292  , 0.9096012 , 1.2106907 , 1.124822  , 1.1573865 ,\n",
       "       1.0303564 , 0.8849843 , 0.8242552 , 1.5445442 , 1.0892318 ,\n",
       "       0.        , 0.        , 0.33762506, 0.        , 0.07564396,\n",
       "       0.5808942 , 0.        , 0.        , 0.        , 0.        ],\n",
       "      dtype=float32)"
      ]
     },
     "execution_count": 19,
     "metadata": {},
     "output_type": "execute_result"
    }
   ],
   "source": [
    "res[0][:20]"
   ]
  }
 ],
 "metadata": {
  "kernelspec": {
   "display_name": "TF20",
   "language": "python",
   "name": "tf2_gpu"
  },
  "language_info": {
   "codemirror_mode": {
    "name": "ipython",
    "version": 3
   },
   "file_extension": ".py",
   "mimetype": "text/x-python",
   "name": "python",
   "nbconvert_exporter": "python",
   "pygments_lexer": "ipython3",
   "version": "3.6.9"
  }
 },
 "nbformat": 4,
 "nbformat_minor": 5
}
