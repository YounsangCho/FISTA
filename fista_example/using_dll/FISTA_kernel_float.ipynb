{
 "cells": [
  {
   "cell_type": "code",
   "execution_count": 1,
   "metadata": {},
   "outputs": [],
   "source": [
    "from ctypes import *\n",
    "import numpy as np\n",
    "import time"
   ]
  },
  {
   "cell_type": "code",
   "execution_count": 2,
   "metadata": {},
   "outputs": [
    {
     "data": {
      "text/plain": [
       "'/home/dyu/Dropbox/tf-notebooks/cuda_comp/fista_example/using_dll'"
      ]
     },
     "execution_count": 2,
     "metadata": {},
     "output_type": "execute_result"
    }
   ],
   "source": [
    "import os\n",
    "os.getcwd()"
   ]
  },
  {
   "cell_type": "code",
   "execution_count": 3,
   "metadata": {},
   "outputs": [],
   "source": [
    "libc_FISTA_dll = CDLL(\"./fista_kernel.so\")\n",
    "FISTA_Kernel_S = libc_FISTA_dll.FISTA_S"
   ]
  },
  {
   "cell_type": "code",
   "execution_count": 4,
   "metadata": {},
   "outputs": [],
   "source": [
    "libc_FISTA_blas = CDLL(\"./fista_cublas.so\")\n",
    "FISTA_blas_S = libc_FISTA_blas.FISTA_S"
   ]
  },
  {
   "cell_type": "code",
   "execution_count": 5,
   "metadata": {},
   "outputs": [],
   "source": [
    "FISTA_Kernel_S.restype = None\n",
    "FISTA_Kernel_S.argtypes = (POINTER(c_float), POINTER(c_float), POINTER(c_float), \n",
    "                         POINTER(c_float), POINTER(c_float), POINTER(c_float), POINTER(c_float), POINTER(c_float),\n",
    "                         POINTER(c_int), POINTER(c_int),POINTER(c_int),POINTER(c_int))"
   ]
  },
  {
   "cell_type": "code",
   "execution_count": 6,
   "metadata": {},
   "outputs": [],
   "source": [
    "FISTA_blas_S.restype = None\n",
    "FISTA_blas_S.argtypes = (POINTER(c_float), POINTER(c_float), POINTER(c_float), \n",
    "                         POINTER(c_float), POINTER(c_float), POINTER(c_float), POINTER(c_float), POINTER(c_float),\n",
    "                         POINTER(c_int), POINTER(c_int),POINTER(c_int),POINTER(c_int))"
   ]
  },
  {
   "cell_type": "code",
   "execution_count": 7,
   "metadata": {},
   "outputs": [],
   "source": [
    "n = 500\n",
    "p = 1000\n",
    "\n",
    "import numpy as np\n",
    "np.random.seed(2022)\n",
    "X = np.random.randn(n,p).astype(np.float32)\n",
    "tr_beta = np.zeros(p).astype(np.float32)\n",
    "tr_beta[:int(0.05*p)] = 1.0\n",
    "y = np.dot(X, tr_beta) + np.random.randn(n).astype(np.float32)"
   ]
  },
  {
   "cell_type": "code",
   "execution_count": 8,
   "metadata": {},
   "outputs": [],
   "source": [
    "## input\n",
    "beta = np.zeros(p).astype(np.float32)\n",
    "beta_cr = beta.ctypes.data_as(POINTER(c_float))\n",
    "X_cr =  X.ctypes.data_as(POINTER(c_float))## n*p 에 () 반드시 필요, c_double * dim 형태만 지원 \n",
    "y_cr = y.ctypes.data_as(POINTER(c_float))"
   ]
  },
  {
   "cell_type": "code",
   "execution_count": 9,
   "metadata": {},
   "outputs": [],
   "source": [
    "## Parameters\n",
    "max_iter = 5000\n",
    "loss = np.zeros(max_iter).astype(np.float32)\n",
    "loss_c = loss.ctypes.data_as(POINTER(c_float)) \n",
    "lam =  np.sqrt(2 * np.log(p) / n)\n",
    "lam_c = c_float(lam)\n",
    "L_c = c_float(10)\n",
    "eta_c = c_float(2.0)\n",
    "tol_c = c_float(1e-04)\n",
    "\n",
    "iter_c = c_int(max_iter)\n",
    "n_c = c_int(n)\n",
    "p_c = c_int(p)\n",
    "step_c = c_int(0)"
   ]
  },
  {
   "cell_type": "code",
   "execution_count": 10,
   "metadata": {},
   "outputs": [
    {
     "name": "stdout",
     "output_type": "stream",
     "text": [
      "Elapsed time:  1.9729347229003906 secs\n"
     ]
    }
   ],
   "source": [
    "tic = time.time()\n",
    "FISTA_Kernel_S(beta_cr, X_cr, y_cr, lam_c, L_c, eta_c, tol_c, loss_c, iter_c, n_c, p_c, step_c)\n",
    "toc = time.time()\n",
    "print(\"Elapsed time: \", toc - tic, \"secs\")"
   ]
  },
  {
   "cell_type": "code",
   "execution_count": 11,
   "metadata": {},
   "outputs": [
    {
     "data": {
      "text/plain": [
       "c_int(1721)"
      ]
     },
     "execution_count": 11,
     "metadata": {},
     "output_type": "execute_result"
    }
   ],
   "source": [
    "step_c"
   ]
  },
  {
   "cell_type": "code",
   "execution_count": 12,
   "metadata": {},
   "outputs": [
    {
     "data": {
      "text/plain": [
       "array([0.9855122 , 0.9981539 , 0.9732941 , 0.94141245, 0.9619718 ,\n",
       "       0.93535745, 0.94177866, 1.0285132 , 0.8439329 , 0.92502004],\n",
       "      dtype=float32)"
      ]
     },
     "execution_count": 12,
     "metadata": {},
     "output_type": "execute_result"
    }
   ],
   "source": [
    "beta[:10]"
   ]
  },
  {
   "cell_type": "code",
   "execution_count": 13,
   "metadata": {},
   "outputs": [],
   "source": [
    "## input\n",
    "beta = np.zeros(p).astype(np.float32)\n",
    "beta_cc = beta.ctypes.data_as(POINTER(c_float))\n",
    "X_c =  X.ravel(order = \"F\")              ## n*p 에 () 반드시 필요, c_double * dim 형태만 지원 \n",
    "X_cc = X_c.ctypes.data_as(POINTER(c_float))\n",
    "#y_c = y.ravel(order = \"F\")\n",
    "y_cc = y.ctypes.data_as(POINTER(c_float))\n",
    "\n",
    "loss = np.zeros(5000).astype(np.float32)## max_iter size만큼\n",
    "loss_c = loss.ctypes.data_as(POINTER(c_float)) \n",
    "lam =  np.sqrt(2 * np.log(p) / n)\n",
    "lam_c = c_float(lam)\n",
    "L_c = c_float(10)\n",
    "eta_c = c_float(2.0)\n",
    "tol_c = c_float(1e-04)\n",
    "\n",
    "iter_c = c_int(5000)\n",
    "n_c = c_int(n)\n",
    "p_c = c_int(p)\n",
    "step_c = c_int(0)"
   ]
  },
  {
   "cell_type": "code",
   "execution_count": 14,
   "metadata": {},
   "outputs": [
    {
     "name": "stdout",
     "output_type": "stream",
     "text": [
      "Elapsed time:  1.2909228801727295 secs\n"
     ]
    }
   ],
   "source": [
    "tic = time.time()\n",
    "FISTA_blas_S(beta_cc, X_cc, y_cc, lam_c, L_c, eta_c, tol_c, loss_c, iter_c, n_c, p_c, step_c)\n",
    "toc = time.time()\n",
    "    \n",
    "print(\"Elapsed time: \", toc - tic, \"secs\")"
   ]
  },
  {
   "cell_type": "code",
   "execution_count": 15,
   "metadata": {
    "scrolled": true
   },
   "outputs": [
    {
     "data": {
      "text/plain": [
       "c_int(1721)"
      ]
     },
     "execution_count": 15,
     "metadata": {},
     "output_type": "execute_result"
    }
   ],
   "source": [
    "step_c"
   ]
  },
  {
   "cell_type": "code",
   "execution_count": 16,
   "metadata": {
    "scrolled": true
   },
   "outputs": [
    {
     "data": {
      "text/plain": [
       "array([0.9854982 , 0.99852866, 0.97280145, 0.9412902 , 0.961787  ,\n",
       "       0.9346652 , 0.9422157 , 1.028061  , 0.8439065 , 0.925274  ],\n",
       "      dtype=float32)"
      ]
     },
     "execution_count": 16,
     "metadata": {},
     "output_type": "execute_result"
    }
   ],
   "source": [
    "beta[:10]"
   ]
  },
  {
   "cell_type": "code",
   "execution_count": 1,
   "metadata": {},
   "outputs": [
    {
     "name": "stdout",
     "output_type": "stream",
     "text": [
      "\n",
      "  1 -th iteration, Collapsed Time:  1.9186515808105469\n",
      "\n",
      "  2 -th iteration, Collapsed Time:  1.746856689453125\n",
      "\n",
      "  3 -th iteration, Collapsed Time:  1.7461161613464355\n",
      "\n",
      "  4 -th iteration, Collapsed Time:  1.7446577548980713\n",
      "\n",
      "  5 -th iteration, Collapsed Time:  1.7492587566375732\n",
      "\n",
      "  6 -th iteration, Collapsed Time:  1.752138614654541\n",
      "\n",
      "  7 -th iteration, Collapsed Time:  1.7510583400726318\n",
      "\n",
      "  8 -th iteration, Collapsed Time:  1.7472164630889893\n",
      "\n",
      "  9 -th iteration, Collapsed Time:  1.753765344619751\n",
      "\n",
      "  10 -th iteration, Collapsed Time:  1.7499644756317139\n",
      "\n",
      "  11 -th iteration, Collapsed Time:  1.7489697933197021\n"
     ]
    }
   ],
   "source": [
    "n = 500\n",
    "p = 1000\n",
    "\n",
    "import time\n",
    "import numpy as np\n",
    "from ctypes import *\n",
    "\n",
    "np.random.seed(2022)\n",
    "X = np.random.randn(n,p).astype(np.float32)\n",
    "tr_beta = np.zeros(p).astype(np.float32)\n",
    "tr_beta[:int(0.05*p)] = 1.0\n",
    "y = np.dot(X, tr_beta) + np.random.randn(n).astype(np.float32)\n",
    "\n",
    "libc_FISTA_dll = CDLL(\"./fista_kernel.so\")\n",
    "FISTA_Kernel_S = libc_FISTA_dll.FISTA_S\n",
    "\n",
    "FISTA_Kernel_S.restype = None\n",
    "FISTA_Kernel_S.argtypes = (POINTER(c_float), POINTER(c_float), POINTER(c_float), \n",
    "                         POINTER(c_float), POINTER(c_float), POINTER(c_float), POINTER(c_float), POINTER(c_float),\n",
    "                         POINTER(c_int), POINTER(c_int),POINTER(c_int),POINTER(c_int))\n",
    "\n",
    "niter = 11\n",
    "comp_time_ker = np.zeros(niter)\n",
    "\n",
    "\n",
    "for i in np.arange(niter):\n",
    "    \n",
    "    beta = np.zeros(p).astype(np.float32)\n",
    "    beta_cr = beta.ctypes.data_as(POINTER(c_float))\n",
    "    X_cr =  X.ctypes.data_as(POINTER(c_float)) \n",
    "    y_cr = y.ctypes.data_as(POINTER(c_float))\n",
    "\n",
    "\n",
    "    loss = np.zeros(5000).astype(np.float32)## max_iter size만큼\n",
    "    loss_c = loss.ctypes.data_as(POINTER(c_float)) \n",
    "    lam =  np.sqrt(2 * np.log(p) / n)\n",
    "    lam_c = c_float(lam)\n",
    "    L_c = c_float(10)\n",
    "    eta_c = c_float(2.0)\n",
    "    tol_c = c_float(1e-04)\n",
    "\n",
    "    iter_c = c_int(5000)\n",
    "    n_c = c_int(n)\n",
    "    p_c = c_int(p)\n",
    "    step_c = c_int(0)\n",
    "\n",
    "    t1 = time.time()\n",
    "    FISTA_Kernel_S(beta_cr, X_cr, y_cr, lam_c, L_c, eta_c, tol_c, loss_c, iter_c, n_c, p_c, step_c)\n",
    "    t2 = time.time()\n",
    "    comp_time_ker[i] = t2-t1\n",
    "    \n",
    "    print('\\n ',i+1,'-th iteration, Collapsed Time: ', comp_time_ker[i])\n",
    "    \n"
   ]
  },
  {
   "cell_type": "code",
   "execution_count": 2,
   "metadata": {},
   "outputs": [
    {
     "name": "stdout",
     "output_type": "stream",
     "text": [
      "\n",
      "  1 -th iteration, Collapsed Time:  1.2808589935302734\n",
      "\n",
      "  2 -th iteration, Collapsed Time:  0.9993188381195068\n",
      "\n",
      "  3 -th iteration, Collapsed Time:  0.9991343021392822\n",
      "\n",
      "  4 -th iteration, Collapsed Time:  0.999342679977417\n",
      "\n",
      "  5 -th iteration, Collapsed Time:  0.9962754249572754\n",
      "\n",
      "  6 -th iteration, Collapsed Time:  1.0015130043029785\n",
      "\n",
      "  7 -th iteration, Collapsed Time:  0.9994418621063232\n",
      "\n",
      "  8 -th iteration, Collapsed Time:  0.9991240501403809\n",
      "\n",
      "  9 -th iteration, Collapsed Time:  0.9936964511871338\n",
      "\n",
      "  10 -th iteration, Collapsed Time:  0.999852180480957\n",
      "\n",
      "  11 -th iteration, Collapsed Time:  0.9994001388549805\n"
     ]
    }
   ],
   "source": [
    "n = 500\n",
    "p = 1000\n",
    "\n",
    "import time\n",
    "import numpy as np\n",
    "from ctypes import *\n",
    "\n",
    "np.random.seed(2022)\n",
    "X = np.random.randn(n,p).astype(np.float32)\n",
    "tr_beta = np.zeros(p).astype(np.float32)\n",
    "tr_beta[:int(0.05*p)] = 1.0\n",
    "y = np.dot(X, tr_beta) + np.random.randn(n).astype(np.float32)\n",
    "\n",
    "libc_FISTA_blas = CDLL(\"./fista_cublas.so\")\n",
    "FISTA_blas_S = libc_FISTA_blas.FISTA_S\n",
    "\n",
    "FISTA_blas_S.restype = None\n",
    "FISTA_blas_S.argtypes = (POINTER(c_float), POINTER(c_float), POINTER(c_float), \n",
    "                         POINTER(c_float), POINTER(c_float), POINTER(c_float), POINTER(c_float), POINTER(c_float),\n",
    "                         POINTER(c_int), POINTER(c_int),POINTER(c_int),POINTER(c_int))\n",
    "\n",
    "niter = 11\n",
    "comp_time_blas = np.zeros(niter)\n",
    "\n",
    "\n",
    "for i in np.arange(niter):\n",
    "    \n",
    "    beta = np.zeros(p).astype(np.float32)\n",
    "    beta_cc = beta.ctypes.data_as(POINTER(c_float))\n",
    "    X_c =  X.ravel(order = \"F\")              ## n*p 에 () 반드시 필요, c_double * dim 형태만 지원 \n",
    "    X_cc = X_c.ctypes.data_as(POINTER(c_float))\n",
    "    y_cc = y.ctypes.data_as(POINTER(c_float))\n",
    "\n",
    "    loss = np.zeros(5000).astype(np.float32)## max_iter size만큼\n",
    "    loss_c = loss.ctypes.data_as(POINTER(c_float)) \n",
    "    lam =  np.sqrt(2 * np.log(p) / n)\n",
    "    lam_c = c_float(lam)\n",
    "    L_c = c_float(10)\n",
    "    eta_c = c_float(2.0)\n",
    "    tol_c = c_float(1e-04)\n",
    "\n",
    "    iter_c = c_int(5000)\n",
    "    n_c = c_int(n)\n",
    "    p_c = c_int(p)\n",
    "    step_c = c_int(0)\n",
    "\n",
    "    t1 = time.time()\n",
    "    FISTA_blas_S(beta_cc, X_cc, y_cc, lam_c, L_c, eta_c, tol_c, loss_c, iter_c, n_c, p_c, step_c)\n",
    "    t2 = time.time()\n",
    "    comp_time_blas[i] = t2-t1\n",
    "    \n",
    "    print('\\n ',i+1,'-th iteration, Collapsed Time: ', comp_time_blas[i])\n",
    "    \n"
   ]
  },
  {
   "cell_type": "code",
   "execution_count": null,
   "metadata": {},
   "outputs": [],
   "source": []
  }
 ],
 "metadata": {
  "kernelspec": {
   "display_name": "TF20",
   "language": "python",
   "name": "tf2_gpu"
  },
  "language_info": {
   "codemirror_mode": {
    "name": "ipython",
    "version": 3
   },
   "file_extension": ".py",
   "mimetype": "text/x-python",
   "name": "python",
   "nbconvert_exporter": "python",
   "pygments_lexer": "ipython3",
   "version": "3.6.9"
  }
 },
 "nbformat": 4,
 "nbformat_minor": 2
}
