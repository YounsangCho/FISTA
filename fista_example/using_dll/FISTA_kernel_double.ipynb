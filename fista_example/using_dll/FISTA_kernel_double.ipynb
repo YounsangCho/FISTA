{
 "cells": [
  {
   "cell_type": "code",
   "execution_count": 1,
   "metadata": {},
   "outputs": [],
   "source": [
    "from ctypes import *\n",
    "import numpy as np\n",
    "import time"
   ]
  },
  {
   "cell_type": "code",
   "execution_count": 2,
   "metadata": {},
   "outputs": [
    {
     "data": {
      "text/plain": [
       "'/home/dyu/Dropbox/tf-notebooks/cuda_comp/fista_example/using_dll'"
      ]
     },
     "execution_count": 2,
     "metadata": {},
     "output_type": "execute_result"
    }
   ],
   "source": [
    "import os\n",
    "os.getcwd()"
   ]
  },
  {
   "cell_type": "code",
   "execution_count": 3,
   "metadata": {},
   "outputs": [],
   "source": [
    "libc_FISTA_dll = CDLL(\"./fista_kernel.so\")\n",
    "FISTA_Kernel_D = libc_FISTA_dll.FISTA_D"
   ]
  },
  {
   "cell_type": "code",
   "execution_count": 4,
   "metadata": {},
   "outputs": [],
   "source": [
    "libc_FISTA_blas = CDLL(\"./fista_cublas.so\")\n",
    "FISTA_blas_D = libc_FISTA_blas.FISTA_D"
   ]
  },
  {
   "cell_type": "code",
   "execution_count": 50,
   "metadata": {},
   "outputs": [],
   "source": [
    "FISTA_Kernel_D.restype = None\n",
    "FISTA_Kernel_D.argtypes = (POINTER(c_double), POINTER(c_double), POINTER(c_double), \n",
    "                         POINTER(c_double), POINTER(c_double), POINTER(c_double), POINTER(c_double), POINTER(c_double),\n",
    "                         POINTER(c_int), POINTER(c_int),POINTER(c_int),POINTER(c_int))"
   ]
  },
  {
   "cell_type": "code",
   "execution_count": 51,
   "metadata": {},
   "outputs": [],
   "source": [
    "FISTA_blas_D.restype = None\n",
    "FISTA_blas_D.argtypes = (POINTER(c_double), POINTER(c_double), POINTER(c_double), \n",
    "                         POINTER(c_double), POINTER(c_double), POINTER(c_double), POINTER(c_double), POINTER(c_double),\n",
    "                         POINTER(c_int), POINTER(c_int),POINTER(c_int),POINTER(c_int))"
   ]
  },
  {
   "cell_type": "code",
   "execution_count": 52,
   "metadata": {},
   "outputs": [],
   "source": [
    "n = 500\n",
    "p = 1000\n",
    "\n",
    "import numpy as np\n",
    "np.random.seed(2022)\n",
    "X = np.random.randn(n,p).astype(np.float64)\n",
    "tr_beta = np.zeros(p).astype(np.float64)\n",
    "tr_beta[:int(0.05*p)] = 1.0\n",
    "y = np.dot(X, tr_beta) + np.random.randn(n).astype(np.float64)"
   ]
  },
  {
   "cell_type": "code",
   "execution_count": 53,
   "metadata": {},
   "outputs": [],
   "source": [
    "## input\n",
    "beta = np.zeros(p).astype(np.float64)\n",
    "beta_cr = beta.ctypes.data_as(POINTER(c_double))\n",
    "X_cr =  X.ctypes.data_as(POINTER(c_double))## n*p 에 () 반드시 필요, c_double * dim 형태만 지원 \n",
    "y_cr = y.ctypes.data_as(POINTER(c_double))"
   ]
  },
  {
   "cell_type": "code",
   "execution_count": 54,
   "metadata": {},
   "outputs": [],
   "source": [
    "## Parameters\n",
    "loss = np.zeros(10000).astype(np.float64)## max_iter size만큼\n",
    "loss_c = loss.ctypes.data_as(POINTER(c_double)) \n",
    "lam =  np.sqrt(2 * np.log(p) / n)\n",
    "lam_c = c_double(lam)\n",
    "L_c = c_double(10)\n",
    "eta_c = c_double(2)\n",
    "tol_c = c_double(1e-04)\n",
    "\n",
    "iter_c = c_int(10000)\n",
    "n_c = c_int(n)\n",
    "p_c = c_int(p)\n",
    "step_c = c_int(0)"
   ]
  },
  {
   "cell_type": "code",
   "execution_count": 55,
   "metadata": {
    "scrolled": true
   },
   "outputs": [
    {
     "name": "stdout",
     "output_type": "stream",
     "text": [
      "Elapsed time:  2.5550453662872314 secs\n"
     ]
    }
   ],
   "source": [
    "tic = time.time()\n",
    "FISTA_Kernel_D(beta_cr, X_cr, y_cr, lam_c, L_c, eta_c, tol_c, loss_c, iter_c, n_c, p_c, step_c)\n",
    "toc = time.time()\n",
    "print(\"Elapsed time: \", toc - tic, \"secs\")"
   ]
  },
  {
   "cell_type": "code",
   "execution_count": 56,
   "metadata": {},
   "outputs": [
    {
     "data": {
      "text/plain": [
       "c_int(1624)"
      ]
     },
     "execution_count": 56,
     "metadata": {},
     "output_type": "execute_result"
    }
   ],
   "source": [
    "step_c"
   ]
  },
  {
   "cell_type": "code",
   "execution_count": 28,
   "metadata": {},
   "outputs": [
    {
     "data": {
      "text/plain": [
       "array([3.25126311e+00, 1.04598456e+00, 7.23532077e-01, ...,\n",
       "       2.84848637e-04, 2.72734073e-04, 2.66540958e-04])"
      ]
     },
     "execution_count": 28,
     "metadata": {},
     "output_type": "execute_result"
    }
   ],
   "source": [
    "loss"
   ]
  },
  {
   "cell_type": "code",
   "execution_count": 62,
   "metadata": {},
   "outputs": [],
   "source": [
    "## input\n",
    "beta = np.zeros(p).astype(np.float64)\n",
    "beta_cc = beta.ctypes.data_as(POINTER(c_double))\n",
    "X_c =  X.ravel(order = \"F\")              ## n*p 에 () 반드시 필요, c_double * dim 형태만 지원 \n",
    "X_cc = X_c.ctypes.data_as(POINTER(c_double))\n",
    "#y_c = y.ravel(order = \"F\")\n",
    "y_cc = y.ctypes.data_as(POINTER(c_double))\n",
    "\n",
    "loss = np.zeros(10000).astype(np.float64)## max_iter size만큼\n",
    "loss_c = loss.ctypes.data_as(POINTER(c_double)) \n",
    "lam =  np.sqrt(2 * np.log(p) / n)\n",
    "lam_c = c_double(lam)\n",
    "L_c = c_double(10)\n",
    "eta_c = c_double(2.0)\n",
    "tol_c = c_double(1e-04)\n",
    "\n",
    "iter_c = c_int(5000)\n",
    "n_c = c_int(n)\n",
    "p_c = c_int(p)\n",
    "step_c = c_int(0)"
   ]
  },
  {
   "cell_type": "code",
   "execution_count": 63,
   "metadata": {},
   "outputs": [
    {
     "name": "stdout",
     "output_type": "stream",
     "text": [
      "Elapsed time:  1.1587193012237549 secs\n"
     ]
    }
   ],
   "source": [
    "tic = time.time()\n",
    "FISTA_blas_D(beta_cc, X_cc, y_cc, lam_c, L_c, eta_c, tol_c, loss_c, iter_c, n_c, p_c, step_c)\n",
    "toc = time.time()\n",
    "    \n",
    "print(\"Elapsed time: \", toc - tic, \"secs\")"
   ]
  },
  {
   "cell_type": "code",
   "execution_count": 64,
   "metadata": {
    "scrolled": true
   },
   "outputs": [
    {
     "data": {
      "text/plain": [
       "c_int(1550)"
      ]
     },
     "execution_count": 64,
     "metadata": {},
     "output_type": "execute_result"
    }
   ],
   "source": [
    "step_c"
   ]
  },
  {
   "cell_type": "code",
   "execution_count": 18,
   "metadata": {
    "scrolled": true
   },
   "outputs": [
    {
     "data": {
      "text/plain": [
       "array([0.98551965, 0.9991859 , 0.97275275, 0.9404534 , 0.96161795,\n",
       "       0.93524647, 0.9418953 , 1.0280432 , 0.8438578 , 0.92526376],\n",
       "      dtype=float32)"
      ]
     },
     "execution_count": 18,
     "metadata": {},
     "output_type": "execute_result"
    }
   ],
   "source": [
    "beta[:10]"
   ]
  },
  {
   "cell_type": "code",
   "execution_count": 1,
   "metadata": {},
   "outputs": [
    {
     "name": "stdout",
     "output_type": "stream",
     "text": [
      "\n",
      "  1 -th iteration, Collapsed Time:  0.2841172218322754\n",
      "\n",
      "  2 -th iteration, Collapsed Time:  0.13915753364562988\n",
      "\n",
      "  3 -th iteration, Collapsed Time:  0.13265705108642578\n",
      "\n",
      "  4 -th iteration, Collapsed Time:  0.12136077880859375\n",
      "\n",
      "  5 -th iteration, Collapsed Time:  0.11679673194885254\n",
      "\n",
      "  6 -th iteration, Collapsed Time:  0.11533093452453613\n",
      "\n",
      "  7 -th iteration, Collapsed Time:  0.1155397891998291\n",
      "\n",
      "  8 -th iteration, Collapsed Time:  0.1152040958404541\n",
      "\n",
      "  9 -th iteration, Collapsed Time:  0.11488890647888184\n",
      "\n",
      "  10 -th iteration, Collapsed Time:  0.1150357723236084\n",
      "\n",
      "  11 -th iteration, Collapsed Time:  0.11495566368103027\n"
     ]
    }
   ],
   "source": [
    "n = 100\n",
    "p = 200\n",
    "\n",
    "import time\n",
    "import numpy as np\n",
    "from ctypes import *\n",
    "\n",
    "np.random.seed(2022)\n",
    "X = np.random.randn(n,p).astype(np.float64)\n",
    "tr_beta = np.zeros(p).astype(np.float64)\n",
    "tr_beta[:int(0.05*p)] = 1.0\n",
    "y = np.dot(X, tr_beta) + np.random.randn(n).astype(np.float64)\n",
    "\n",
    "libc_FISTA_dll = CDLL(\"./fista_kernel.so\")\n",
    "FISTA_Kernel_D = libc_FISTA_dll.FISTA_D\n",
    "\n",
    "FISTA_Kernel_D.restype = None\n",
    "FISTA_Kernel_D.argtypes = (POINTER(c_double), POINTER(c_double), POINTER(c_double), \n",
    "                         POINTER(c_double), POINTER(c_double), POINTER(c_double), POINTER(c_double), POINTER(c_double),\n",
    "                         POINTER(c_int), POINTER(c_int),POINTER(c_int),POINTER(c_int))\n",
    "\n",
    "niter = 11\n",
    "comp_time_ker = np.zeros(niter)\n",
    "comp_time_ker = np.zeros(niter)\n",
    "\n",
    "\n",
    "for i in np.arange(niter):\n",
    "    \n",
    "    beta = np.zeros(p).astype(np.float64)\n",
    "    beta_cr = beta.ctypes.data_as(POINTER(c_double))\n",
    "    X_cr =  X.ctypes.data_as(POINTER(c_double))## n*p 에 () 반드시 필요, c_double * dim 형태만 지원 \n",
    "    y_cr = y.ctypes.data_as(POINTER(c_double))\n",
    "\n",
    "\n",
    "    loss = np.zeros(10000).astype(np.float64)## max_iter size만큼\n",
    "    loss_c = loss.ctypes.data_as(POINTER(c_double)) \n",
    "    lam =  np.sqrt(2 * np.log(p) / n)\n",
    "    lam_c = c_double(lam)\n",
    "    L_c = c_double(10)\n",
    "    eta_c = c_double(2.0)\n",
    "    tol_c = c_double(1e-04)\n",
    "\n",
    "    iter_c = c_int(10000)\n",
    "    n_c = c_int(n)\n",
    "    p_c = c_int(p)\n",
    "    step_c = c_int(0)\n",
    "\n",
    "    t1 = time.time()\n",
    "    FISTA_Kernel_D(beta_cr, X_cr, y_cr, lam_c, L_c, eta_c, tol_c, loss_c, iter_c, n_c, p_c, step_c)\n",
    "    t2 = time.time()\n",
    "    comp_time_ker[i] = t2-t1\n",
    "    \n",
    "    print('\\n ',i+1,'-th iteration, Collapsed Time: ', comp_time_ker[i])\n",
    "    \n"
   ]
  },
  {
   "cell_type": "code",
   "execution_count": 2,
   "metadata": {},
   "outputs": [
    {
     "name": "stdout",
     "output_type": "stream",
     "text": [
      "\n",
      "  1 -th iteration, Collapsed Time:  0.8475148677825928\n",
      "\n",
      "  2 -th iteration, Collapsed Time:  0.5502657890319824\n",
      "\n",
      "  3 -th iteration, Collapsed Time:  0.5511596202850342\n",
      "\n",
      "  4 -th iteration, Collapsed Time:  0.5509366989135742\n",
      "\n",
      "  5 -th iteration, Collapsed Time:  0.5512492656707764\n",
      "\n",
      "  6 -th iteration, Collapsed Time:  0.5491976737976074\n",
      "\n",
      "  7 -th iteration, Collapsed Time:  0.5507485866546631\n",
      "\n",
      "  8 -th iteration, Collapsed Time:  0.5501794815063477\n",
      "\n",
      "  9 -th iteration, Collapsed Time:  0.5496270656585693\n",
      "\n",
      "  10 -th iteration, Collapsed Time:  0.5495586395263672\n",
      "\n",
      "  11 -th iteration, Collapsed Time:  0.5509135723114014\n"
     ]
    }
   ],
   "source": [
    "n = 500\n",
    "p = 1000\n",
    "\n",
    "import time\n",
    "import numpy as np\n",
    "from ctypes import *\n",
    "\n",
    "np.random.seed(2022)\n",
    "X = np.random.randn(n,p).astype(np.float64)\n",
    "tr_beta = np.zeros(p).astype(np.float64)\n",
    "tr_beta[:int(0.05*p)] = 1.0\n",
    "y = np.dot(X, tr_beta) + np.random.randn(n).astype(np.float64)\n",
    "\n",
    "libc_FISTA_blas = CDLL(\"./fista_cublas.so\")\n",
    "FISTA_blas_D = libc_FISTA_blas.FISTA_S\n",
    "\n",
    "FISTA_blas_D.restype = None\n",
    "FISTA_blas_D.argtypes = (POINTER(c_double), POINTER(c_double), POINTER(c_double), \n",
    "                         POINTER(c_double), POINTER(c_double), POINTER(c_double), POINTER(c_double), POINTER(c_double),\n",
    "                         POINTER(c_int), POINTER(c_int),POINTER(c_int),POINTER(c_int))\n",
    "\n",
    "niter = 11\n",
    "comp_time_blas = np.zeros(niter)\n",
    "\n",
    "\n",
    "for i in np.arange(niter):\n",
    "    \n",
    "    beta = np.zeros(p).astype(np.float64)\n",
    "    beta_cc = beta.ctypes.data_as(POINTER(c_double))\n",
    "    X_c =  X.ravel(order = \"F\")              ## n*p 에 () 반드시 필요, c_double * dim 형태만 지원 \n",
    "    X_cc = X_c.ctypes.data_as(POINTER(c_double))\n",
    "    #y_c = y.ravel(order = \"F\")\n",
    "    y_cc = y.ctypes.data_as(POINTER(c_double))\n",
    "\n",
    "    loss = np.zeros(10000).astype(np.float64)## max_iter size만큼\n",
    "    loss_c = loss.ctypes.data_as(POINTER(c_double)) \n",
    "    lam =  np.sqrt(2 * np.log(p) / n)\n",
    "    lam_c = c_double(lam)\n",
    "    L_c = c_double(10)\n",
    "    eta_c = c_double(2.0)\n",
    "    tol_c = c_double(1e-04)\n",
    "\n",
    "    iter_c = c_int(5000)\n",
    "    n_c = c_int(n)\n",
    "    p_c = c_int(p)\n",
    "    step_c = c_int(0)\n",
    "\n",
    "    t1 = time.time()\n",
    "    FISTA_blas_D(beta_cc, X_cc, y_cc, lam_c, L_c, eta_c, tol_c, loss_c, iter_c, n_c, p_c, step_c)\n",
    "    t2 = time.time()\n",
    "    comp_time_blas[i] = t2-t1\n",
    "    \n",
    "    print('\\n ',i+1,'-th iteration, Collapsed Time: ', comp_time_blas[i])\n",
    "    \n"
   ]
  },
  {
   "cell_type": "code",
   "execution_count": null,
   "metadata": {},
   "outputs": [],
   "source": []
  }
 ],
 "metadata": {
  "kernelspec": {
   "display_name": "TF20",
   "language": "python",
   "name": "tf2_gpu"
  },
  "language_info": {
   "codemirror_mode": {
    "name": "ipython",
    "version": 3
   },
   "file_extension": ".py",
   "mimetype": "text/x-python",
   "name": "python",
   "nbconvert_exporter": "python",
   "pygments_lexer": "ipython3",
   "version": "3.6.9"
  }
 },
 "nbformat": 4,
 "nbformat_minor": 2
}
