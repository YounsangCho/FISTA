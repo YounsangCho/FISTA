{
 "cells": [
  {
   "cell_type": "code",
   "execution_count": 1,
   "id": "02ae3217",
   "metadata": {},
   "outputs": [],
   "source": [
    "import numba\n",
    "import numpy as np\n",
    "import time, math\n",
    "from numba import njit, jit, cuda, types\n",
    "from numba import int32, float32, float64\n",
    "from tqdm import tqdm"
   ]
  },
  {
   "cell_type": "code",
   "execution_count": 2,
   "id": "bc5f0c8a",
   "metadata": {},
   "outputs": [],
   "source": [
    "@cuda.jit\n",
    "def gemv(alpha, A, x, y, tran):\n",
    "    \n",
    "    Row = cuda.grid(1)\n",
    "    n = A.shape[0]\n",
    "    p = A.shape[1]\n",
    "    pvalue = 0.\n",
    "    if tran:\n",
    "        if Row < p:\n",
    "            for i in range(n):\n",
    "                pvalue += A[i, Row] * x[i]\n",
    "            y[Row] += alpha * pvalue\n",
    "    else:\n",
    "        if Row < n:\n",
    "            for j in range(p):\n",
    "                pvalue += A[Row, j] * x[j]\n",
    "            y[Row] += alpha * pvalue"
   ]
  },
  {
   "cell_type": "code",
   "execution_count": 3,
   "id": "114c598a",
   "metadata": {},
   "outputs": [],
   "source": [
    "@cuda.jit\n",
    "def soft_thresh(x, alpha, res):\n",
    "    \n",
    "    idx = cuda.grid(1)\n",
    "    if idx < x.shape[0]:\n",
    "        thresh = math.fabs(x[idx]) - alpha\n",
    "        res[idx] = math.copysign(thresh, x[idx]) if (thresh > 0) else 0.0"
   ]
  },
  {
   "cell_type": "code",
   "execution_count": 4,
   "id": "8623fb44",
   "metadata": {},
   "outputs": [],
   "source": [
    "@cuda.jit\n",
    "def axpy(alpha, x, y):\n",
    "    \n",
    "    idx = cuda.grid(1)\n",
    "    if idx < x.shape[0]:\n",
    "        y[idx] += alpha * x[idx]"
   ]
  },
  {
   "cell_type": "code",
   "execution_count": 5,
   "id": "5cf92460",
   "metadata": {},
   "outputs": [],
   "source": [
    "@cuda.jit\n",
    "def vec_prod(x, y, res):\n",
    "    \n",
    "    idx = cuda.grid(1)\n",
    "    if idx < x.shape[0]:\n",
    "        res[idx] = x[idx] * y[idx]"
   ]
  },
  {
   "cell_type": "code",
   "execution_count": 6,
   "id": "e3437d38",
   "metadata": {},
   "outputs": [],
   "source": [
    "@cuda.reduce\n",
    "def reduce(x, y):\n",
    "    return x+y"
   ]
  },
  {
   "cell_type": "code",
   "execution_count": 7,
   "id": "9a4d40f5",
   "metadata": {},
   "outputs": [],
   "source": [
    "def FISTA(beta, X, y, lamb, L = 10, eta = 1.2, tol = 1e-08, max_iter = 5000, dtype = np.float64):\n",
    "    \n",
    "    n = X.shape[0]\n",
    "    p = X.shape[1]\n",
    "    \n",
    "    if dtype == np.float64:\n",
    "        t = np.float64(1.0)\n",
    "    else:\n",
    "        t=  np.float32(1.0)\n",
    "        \n",
    "    crit = np.zeros(max_iter, dtype = dtype)\n",
    "    d_bstar = np.zeros(p, dtype = dtype)\n",
    "    d_beta = np.zeros(p, dtype = dtype)\n",
    "    d_diff_beta2 = np.zeros(p, dtype = dtype)\n",
    "    d_XTrbpd = np.zeros(p, dtype = dtype)\n",
    "    d_beta_prev = np.zeros(p,dtype = dtype)\n",
    "    d_beta_p = np.zeros(p, dtype = dtype)\n",
    "    d_ymXbp2 = np.zeros(n, dtype = dtype)\n",
    "    d_ymXb2= np.zeros(n, dtype = dtype)\n",
    "    \n",
    "    L_prev = L\n",
    "    \n",
    "    TPB = (32,1)\n",
    "    BPG_p = (math.ceil(p / 32) , 1)\n",
    "    BPG_n = (math.ceil(n / 32) , 1)\n",
    "    \n",
    "    \n",
    "    \n",
    "    for k in range(max_iter):\n",
    "        \n",
    "        ## r(beta')\n",
    "        d_ymXbp = y.copy()\n",
    "        gemv[BPG_n, TPB](-1.0, X, d_beta_p, d_ymXbp, False)\n",
    "        vec_prod[BPG_n, TPB](d_ymXbp, d_ymXbp, d_ymXbp2)\n",
    "        h_rbp = reduce(d_ymXbp2)\n",
    "        \n",
    "        # X^T * r(beta')\n",
    "        d_XTrbp = np.zeros(p, dtype = dtype)\n",
    "        gemv[BPG_p, TPB](1.0, X, d_ymXbp, d_XTrbp, True)\n",
    "        \n",
    "        i_k = -1\n",
    "        cond = True\n",
    "        \n",
    "        while cond:\n",
    "            i_k += 1\n",
    "            L_cur = L_prev * (eta ** i_k)\n",
    "            \n",
    "            d_bstar = d_beta_p.copy()\n",
    "            axpy[BPG_p, TPB]((1.0 / L_cur), d_XTrbp, d_bstar)\n",
    "            soft_thresh[BPG_p, TPB](d_bstar, lamb / L_cur, d_beta)\n",
    "            \n",
    "            ## RHS\n",
    "            d_diff_beta = d_beta.copy()\n",
    "            axpy[BPG_p, TPB](-1.0, d_beta_p, d_diff_beta)\n",
    "            vec_prod[BPG_p, TPB](d_diff_beta, d_diff_beta, d_diff_beta2)\n",
    "            vec_prod[BPG_p, TPB](d_XTrbp, d_diff_beta, d_XTrbpd)\n",
    "            \n",
    "            RHS = L_cur * reduce(d_diff_beta2) - 2.0 * reduce(d_XTrbpd)\n",
    "            \n",
    "            ## LHS\n",
    "            d_ymXb = y.copy()\n",
    "            gemv[BPG_n, TPB](-1.0, X, d_beta, d_ymXb, False)\n",
    "            vec_prod[BPG_n, TPB](d_ymXb, d_ymXb, d_ymXb2)\n",
    "            h_rb = reduce(d_ymXb2)\n",
    "            \n",
    "            LHS =  h_rb - h_rbp\n",
    "            \n",
    "            cond = (LHS > RHS)\n",
    "        \n",
    "        L_prev = L_cur\n",
    "        tnext = (1.0 + math.sqrt(1 + 4 * t**2) ) / 2.0\n",
    "        \n",
    "        d_diff_beta = d_beta.copy()\n",
    "        axpy[BPG_p, TPB](-1.0, d_beta_prev, d_diff_beta)\n",
    "        t1 = (t - 1.0) / tnext\n",
    "        \n",
    "        d_beta_p = d_beta.copy()\n",
    "        axpy[BPG_p, TPB](t1, d_diff_beta, d_beta_p)\n",
    "        \n",
    "        vec_prod[BPG_p, TPB](d_diff_beta, d_diff_beta, d_diff_beta2)\n",
    "        crit[k] = np.sqrt(reduce(d_diff_beta2))\n",
    "        \n",
    "        if crit[k] < tol:\n",
    "            break\n",
    "        t = tnext\n",
    "        d_beta_prev = d_beta.copy()\n",
    "    \n",
    "    return d_beta, crit, k\n",
    "    "
   ]
  },
  {
   "cell_type": "code",
   "execution_count": 13,
   "id": "251dcddf",
   "metadata": {},
   "outputs": [],
   "source": [
    "np.random.seed(2022)\n",
    "n = 100\n",
    "p = 200"
   ]
  },
  {
   "cell_type": "code",
   "execution_count": 14,
   "id": "20d991fc",
   "metadata": {},
   "outputs": [],
   "source": [
    "X = np.random.randn(n,p).astype(np.float64)\n",
    "tr_beta = np.zeros(p).astype(np.float64)\n",
    "tr_beta[:int(0.05*p)] = 1.0\n",
    "y = np.dot(X, tr_beta) + np.random.randn(n).astype(np.float64)\n",
    "\n",
    "loss = np.zeros(5000).astype(np.float64)## max_iter size만큼\n",
    "lam =  np.sqrt(2 * np.log(p) / n)\n",
    "L = np.float64(10)\n",
    "eta = np.float64(2)"
   ]
  },
  {
   "cell_type": "code",
   "execution_count": 15,
   "id": "0586eb68",
   "metadata": {},
   "outputs": [
    {
     "name": "stdout",
     "output_type": "stream",
     "text": [
      "Elapsed time: 10.562849\n"
     ]
    }
   ],
   "source": [
    "beta = np.zeros(p).astype(np.float64)\n",
    "\n",
    "t1 = time.time()\n",
    "res = FISTA(beta, X, y, lam, L, eta, tol = 1e-04, max_iter = 5000)\n",
    "t2 = time.time()\n",
    "print(\"Elapsed time: {:4f}\".format(t2-t1))"
   ]
  },
  {
   "cell_type": "code",
   "execution_count": 17,
   "id": "01abc363",
   "metadata": {},
   "outputs": [
    {
     "data": {
      "text/plain": [
       "dtype('float64')"
      ]
     },
     "execution_count": 17,
     "metadata": {},
     "output_type": "execute_result"
    }
   ],
   "source": [
    "res[0].dtype"
   ]
  },
  {
   "cell_type": "code",
   "execution_count": 18,
   "id": "a01d0830",
   "metadata": {},
   "outputs": [
    {
     "data": {
      "text/plain": [
       "array([ 0.64070707,  1.11958681,  0.82775298,  1.11552658,  0.69531896,\n",
       "        0.82641614,  0.73400349,  1.05100404,  0.91740151,  1.10698033,\n",
       "        0.        , -0.26072158,  0.        ,  0.        ,  0.        ,\n",
       "        0.1230212 , -0.16857445,  0.        , -0.09391906,  0.        ])"
      ]
     },
     "execution_count": 18,
     "metadata": {},
     "output_type": "execute_result"
    }
   ],
   "source": [
    "res[0][:20]"
   ]
  },
  {
   "cell_type": "code",
   "execution_count": 14,
   "id": "26c90c00",
   "metadata": {},
   "outputs": [],
   "source": [
    "np.random.seed(2022)\n",
    "n = 100; p = 200\n",
    "xmat = np.random.normal(size = (n, p)).astype(\"float32\")\n",
    "beta = np.zeros(p, dtype = \"float32\")\n",
    "beta[:int(0.05*p)] = 1.0\n",
    "y = np.dot(xmat, beta) + np.random.normal(size = n).astype(\"float32\")\n",
    "beta_sol = np.zeros(p, dtype = \"float32\")\n",
    "\n",
    "lamb = np.sqrt(2 * np.log(p) / n) \n",
    "L = np.float32(10)\n",
    "eta = np.float32(2)\n",
    "tol = np.float32(1e-08)"
   ]
  },
  {
   "cell_type": "code",
   "execution_count": 15,
   "id": "783086ab",
   "metadata": {},
   "outputs": [],
   "source": [
    "res = FISTA(beta_sol, xmat, y, lamb, L, eta, tol = 1e-08, max_iter = 5000, dtype = np.float32)"
   ]
  },
  {
   "cell_type": "code",
   "execution_count": 17,
   "id": "5cccdbf5",
   "metadata": {},
   "outputs": [
    {
     "data": {
      "text/plain": [
       "dtype('float32')"
      ]
     },
     "execution_count": 17,
     "metadata": {},
     "output_type": "execute_result"
    }
   ],
   "source": [
    "res[0].dtype"
   ]
  },
  {
   "cell_type": "code",
   "execution_count": 1,
   "id": "9c08a2a5",
   "metadata": {},
   "outputs": [
    {
     "data": {
      "text/plain": [
       "1.0"
      ]
     },
     "execution_count": 1,
     "metadata": {},
     "output_type": "execute_result"
    }
   ],
   "source": [
    "import numpy as np\n",
    "dtype = np.float32\n",
    "dtype(1.0)"
   ]
  },
  {
   "cell_type": "code",
   "execution_count": 3,
   "id": "b615e225",
   "metadata": {},
   "outputs": [
    {
     "name": "stdout",
     "output_type": "stream",
     "text": [
      "\n",
      "  1 -th iteration, Collapsed Time:  22.553854942321777\n"
     ]
    }
   ],
   "source": [
    "n = 100\n",
    "p = 200\n",
    "\n",
    "import numpy as np\n",
    "from numba import cuda\n",
    "import math\n",
    "import time\n",
    "\n",
    "\n",
    "@cuda.jit\n",
    "def gemv(alpha, A, x, y, tran):\n",
    "    Row = cuda.grid(1)\n",
    "    n = A.shape[0]\n",
    "    p = A.shape[1]\n",
    "    pvalue = 0.\n",
    "    if tran:\n",
    "        if Row < p:\n",
    "            for i in range(n):\n",
    "                pvalue += A[i, Row] * x[i]\n",
    "            y[Row] += alpha * pvalue\n",
    "    else:\n",
    "        if Row < n:\n",
    "            for j in range(p):\n",
    "                pvalue += A[Row, j] * x[j]\n",
    "            y[Row] += alpha * pvalue\n",
    "\n",
    "@cuda.jit\n",
    "def soft_thr(x, alpha, S):\n",
    "    idx = cuda.grid(1)\n",
    "    if idx < x.shape[0]:\n",
    "        thr = math.fabs(x[idx]) - alpha\n",
    "        if thr > 0:\n",
    "            S[idx] = math.copysign(thr, x[idx])\n",
    "        else:\n",
    "            S[idx] = 0\n",
    "\n",
    "@cuda.jit\n",
    "def axpy(alpha, x, y):\n",
    "    idx = cuda.grid(1)\n",
    "    if idx < x.shape[0]:\n",
    "        y[idx] += alpha * x[idx]\n",
    "\n",
    "        \n",
    "@cuda.jit\n",
    "def vec_prod(x, y, res):\n",
    "    idx = cuda.grid(1)\n",
    "    if idx < x.shape[0]:\n",
    "        res[idx] = x[idx] * y[idx]\n",
    "\n",
    "@cuda.reduce\n",
    "def reduce(x, y):\n",
    "    return x+y\n",
    "\n",
    "def FISTA(beta, X, y, lamb, L = 10, eta = 1.2, tol = 1e-08, \n",
    "          max_iter = 5000, dtype = np.float32):\n",
    "    n = X.shape[0]\n",
    "    p = X.shape[1]\n",
    "    t = dtype(1.0)\n",
    "    crit = np.zeros(max_iter, dtype = dtype)\n",
    "    d_bstar = np.zeros(p, dtype = dtype)\n",
    "    d_beta = np.zeros(p, dtype = dtype)\n",
    "    d_diff_beta2 = np.zeros(p, dtype = dtype)\n",
    "    d_XTrbpd = np.zeros(p, dtype = dtype)\n",
    "    d_beta_prev = np.zeros(p,dtype = dtype)\n",
    "    d_beta_p = np.zeros(p, dtype = dtype)\n",
    "    d_ymXbp2 = np.zeros(n, dtype = dtype)\n",
    "    d_ymXb2= np.zeros(n, dtype = dtype)\n",
    "    L_prev = L\n",
    "    TPB = (32,1)\n",
    "    BPG_p = (math.ceil(p / 32) , 1)\n",
    "    BPG_n = (math.ceil(n / 32) , 1)\n",
    "    \n",
    "    for k in range(max_iter):\n",
    "        d_ymXbp = y.copy()\n",
    "        gemv[BPG_n, TPB](-1.0, X, d_beta_p, d_ymXbp, False)\n",
    "        vec_prod[BPG_n, TPB](d_ymXbp, d_ymXbp, d_ymXbp2)\n",
    "        h_rbp = reduce(d_ymXbp2)\n",
    "        d_XTrbp = np.zeros(p, dtype = dtype)\n",
    "        gemv[BPG_p, TPB](1.0, X, d_ymXbp, d_XTrbp, True)\n",
    "        \n",
    "        i_k = -1\n",
    "        cond = True\n",
    "        while cond:\n",
    "            i_k += 1\n",
    "            L_cur = L_prev * (eta ** i_k)\n",
    "            d_bstar = d_beta_p.copy()\n",
    "            axpy[BPG_p, TPB]((1.0 / L_cur), d_XTrbp, d_bstar)\n",
    "            soft_thr[BPG_p, TPB](d_bstar, lamb / L_cur, d_beta)\n",
    "            d_diff_beta = d_beta.copy()\n",
    "            axpy[BPG_p, TPB](-1.0, d_beta_p, d_diff_beta)\n",
    "            vec_prod[BPG_p, TPB](d_diff_beta, d_diff_beta, d_diff_beta2)\n",
    "            vec_prod[BPG_p, TPB](d_XTrbp, d_diff_beta, d_XTrbpd)\n",
    "            RHS = L_cur * reduce(d_diff_beta2) - 2.0 * reduce(d_XTrbpd)\n",
    "            d_ymXb = y.copy()\n",
    "            gemv[BPG_n, TPB](-1.0, X, d_beta, d_ymXb, False)\n",
    "            vec_prod[BPG_n, TPB](d_ymXb, d_ymXb, d_ymXb2)\n",
    "            h_rb = reduce(d_ymXb2)\n",
    "            LHS =  h_rb - h_rbp\n",
    "            cond = (LHS > RHS)\n",
    "        \n",
    "        L_prev = L_cur\n",
    "        tnext = (1.0 + np.sqrt(1 + 4 * t**2) ) / 2.0\n",
    "        d_diff_beta = d_beta.copy()\n",
    "        axpy[BPG_p, TPB](-1.0, d_beta_prev, d_diff_beta)\n",
    "        t1 = (t - 1.0) / tnext\n",
    "        d_beta_p = d_beta.copy()\n",
    "        axpy[BPG_p, TPB](t1, d_diff_beta, d_beta_p)\n",
    "        vec_prod[BPG_p, TPB](d_diff_beta, d_diff_beta, d_diff_beta2)\n",
    "        crit[k] = np.sqrt(reduce(d_diff_beta2))\n",
    "        if crit[k] < tol:\n",
    "            break\n",
    "        t = tnext\n",
    "        d_beta_prev = d_beta.copy()\n",
    "    return d_beta, crit, k\n",
    "\n",
    "np.random.seed(2022)\n",
    "X = np.random.randn(n,p).astype(np.float64)\n",
    "tr_beta = np.zeros(p).astype(np.float64)\n",
    "tr_beta[:int(0.05*p)] = 1.0\n",
    "y = np.dot(X, tr_beta) + np.random.randn(n).astype(np.float64)\n",
    "\n",
    "niter = 11\n",
    "comp_time_numba = np.zeros(niter)\n",
    "\n",
    "for i in np.arange(niter):\n",
    "\n",
    "    beta = np.zeros(p, dtype = np.float64)\n",
    "    lam = np.sqrt(2*np.log(p)/n).astype(np.float64)\n",
    "    L = np.float64(10)\n",
    "    eta = np.float64(2)\n",
    "    \n",
    "    t1 = time.time()\n",
    "    out = FISTA(beta, X, y, lam, L, eta, tol = 1e-04, max_iter = 5000, dtype=np.float64)\n",
    "    t2 = time.time()\n",
    "    comp_time_numba[i] = t2-t1\n",
    "    \n",
    "    print('\\n ',i+1,'-th iteration, Collapsed Time: ', comp_time_numba[i])\n",
    "    \n"
   ]
  },
  {
   "cell_type": "code",
   "execution_count": 4,
   "id": "fe6441f6",
   "metadata": {},
   "outputs": [
    {
     "data": {
      "text/plain": [
       "(array([ 6.31984770e-01,  1.11394525e+00,  8.37214291e-01,  1.12377369e+00,\n",
       "         6.83480203e-01,  8.27868700e-01,  7.39624679e-01,  1.05381560e+00,\n",
       "         9.09702361e-01,  1.10813928e+00,  0.00000000e+00, -2.69272387e-01,\n",
       "         0.00000000e+00,  0.00000000e+00,  0.00000000e+00,  1.32332742e-01,\n",
       "        -1.59032449e-01,  0.00000000e+00, -9.83042866e-02,  0.00000000e+00,\n",
       "         0.00000000e+00, -1.24380991e-01,  0.00000000e+00,  0.00000000e+00,\n",
       "         0.00000000e+00,  0.00000000e+00,  0.00000000e+00,  9.49611440e-02,\n",
       "        -4.08564329e-01,  9.02729854e-02, -1.68434799e-01,  0.00000000e+00,\n",
       "         0.00000000e+00,  0.00000000e+00,  1.84062183e-01,  0.00000000e+00,\n",
       "         1.75486445e-01,  0.00000000e+00,  0.00000000e+00,  5.76819442e-02,\n",
       "         3.21197324e-02,  1.68470517e-02,  0.00000000e+00, -5.49789406e-02,\n",
       "         0.00000000e+00,  1.42752349e-01,  0.00000000e+00,  0.00000000e+00,\n",
       "         5.80113344e-02, -1.27389178e-01, -4.92529050e-02,  0.00000000e+00,\n",
       "         5.17797321e-02,  0.00000000e+00, -1.60918429e-01,  0.00000000e+00,\n",
       "         3.23978066e-02, -4.56062406e-02, -4.04663831e-02,  0.00000000e+00,\n",
       "        -1.72067612e-01,  0.00000000e+00,  0.00000000e+00,  0.00000000e+00,\n",
       "        -1.51071697e-01, -9.77858752e-02,  4.88352515e-41,  0.00000000e+00,\n",
       "         0.00000000e+00,  1.40036538e-01, -6.93907887e-02,  0.00000000e+00,\n",
       "         8.64395779e-03,  0.00000000e+00, -7.12484941e-02,  1.01339463e-02,\n",
       "         1.59439468e-03,  0.00000000e+00,  0.00000000e+00,  0.00000000e+00,\n",
       "         0.00000000e+00,  0.00000000e+00,  0.00000000e+00, -1.90937281e-01,\n",
       "         0.00000000e+00,  0.00000000e+00,  4.94672371e-41,  0.00000000e+00,\n",
       "         1.24340147e-01,  0.00000000e+00, -2.02018730e-02, -9.53218937e-02,\n",
       "         0.00000000e+00,  0.00000000e+00,  3.74752912e-03,  0.00000000e+00,\n",
       "         0.00000000e+00,  0.00000000e+00,  2.85027139e-02,  0.00000000e+00,\n",
       "         6.67372122e-02,  0.00000000e+00, -1.62941590e-01,  0.00000000e+00,\n",
       "         0.00000000e+00,  0.00000000e+00, -1.50410347e-02,  4.50741090e-02,\n",
       "         0.00000000e+00, -3.77455056e-02,  0.00000000e+00,  0.00000000e+00,\n",
       "        -9.16033685e-02, -9.43453908e-02,  0.00000000e+00,  0.00000000e+00,\n",
       "         0.00000000e+00,  0.00000000e+00,  2.86185175e-01,  0.00000000e+00,\n",
       "         0.00000000e+00,  0.00000000e+00,  0.00000000e+00,  2.86483228e-01,\n",
       "         0.00000000e+00, -8.82575810e-02, -1.17851958e-01,  0.00000000e+00,\n",
       "         0.00000000e+00, -2.62815356e-02,  8.63558128e-02,  6.12905398e-02,\n",
       "        -9.73841622e-02, -1.14184469e-01,  1.45406559e-01,  0.00000000e+00,\n",
       "         0.00000000e+00, -2.81622615e-02,  5.69162816e-02,  1.99109484e-02,\n",
       "         1.87998593e-01,  0.00000000e+00, -1.69963491e-41,  0.00000000e+00,\n",
       "         0.00000000e+00,  2.57796878e-41,  0.00000000e+00, -2.01496072e-02,\n",
       "         0.00000000e+00,  1.98621079e-02,  0.00000000e+00,  1.53680155e-02,\n",
       "        -6.72525987e-02,  1.37261495e-01,  1.41738439e-02,  0.00000000e+00,\n",
       "         6.78557381e-02,  9.94638503e-02,  0.00000000e+00,  1.23930283e-01,\n",
       "         1.40661383e-02,  0.00000000e+00,  0.00000000e+00,  0.00000000e+00,\n",
       "         6.90507144e-02,  4.61129583e-02,  4.42493930e-02, -4.73099016e-02,\n",
       "         0.00000000e+00, -9.77015421e-02,  0.00000000e+00,  0.00000000e+00,\n",
       "         0.00000000e+00, -7.05342814e-02, -8.67135599e-02,  0.00000000e+00,\n",
       "         0.00000000e+00,  0.00000000e+00,  0.00000000e+00, -2.53811181e-01,\n",
       "         0.00000000e+00, -1.05227865e-01,  0.00000000e+00,  7.40252389e-03,\n",
       "         0.00000000e+00, -1.11389771e-01,  1.24468349e-01, -1.52814820e-01,\n",
       "         0.00000000e+00, -1.53819118e-02,  0.00000000e+00,  0.00000000e+00,\n",
       "         0.00000000e+00, -3.88650129e-41, -2.88668424e-01,  4.54077162e-02,\n",
       "         0.00000000e+00,  0.00000000e+00, -3.07678223e-01,  0.00000000e+00],\n",
       "       dtype=float32),\n",
       " array([0.8382025 , 0.4181749 , 0.34053084, ..., 0.        , 0.        ,\n",
       "        0.        ], dtype=float32),\n",
       " 964)"
      ]
     },
     "execution_count": 4,
     "metadata": {},
     "output_type": "execute_result"
    }
   ],
   "source": [
    "out"
   ]
  },
  {
   "cell_type": "code",
   "execution_count": null,
   "id": "22a051ad",
   "metadata": {},
   "outputs": [],
   "source": []
  }
 ],
 "metadata": {
  "kernelspec": {
   "display_name": "TF20",
   "language": "python",
   "name": "tf2_gpu"
  },
  "language_info": {
   "codemirror_mode": {
    "name": "ipython",
    "version": 3
   },
   "file_extension": ".py",
   "mimetype": "text/x-python",
   "name": "python",
   "nbconvert_exporter": "python",
   "pygments_lexer": "ipython3",
   "version": "3.6.9"
  }
 },
 "nbformat": 4,
 "nbformat_minor": 5
}
