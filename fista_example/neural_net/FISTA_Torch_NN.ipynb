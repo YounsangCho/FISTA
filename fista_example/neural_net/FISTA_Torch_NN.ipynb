{
 "cells": [
  {
   "cell_type": "code",
   "execution_count": 1,
   "id": "ea4e9a11",
   "metadata": {},
   "outputs": [],
   "source": [
    "import torch\n",
    "import torch.nn as nn\n",
    "import numpy as np\n",
    "from tqdm import tqdm\n",
    "import time"
   ]
  },
  {
   "cell_type": "code",
   "execution_count": 2,
   "id": "ff2e1cd0",
   "metadata": {},
   "outputs": [],
   "source": [
    "class lasso_nn(nn.Module):\n",
    "    \n",
    "    def __init__(self, p):\n",
    "        super(lasso_nn, self).__init__()\n",
    "        self.linear = nn.Linear(p, 1,bias = False)\n",
    "        \n",
    "    def forward(self, x):\n",
    "        #x = x.view(-1)\n",
    "        out = self.linear(x)\n",
    "        return out\n",
    "    \n",
    "    def l1_loss(self, w):\n",
    "        return torch.abs(w).sum()"
   ]
  },
  {
   "cell_type": "code",
   "execution_count": 3,
   "id": "9f60bab3",
   "metadata": {},
   "outputs": [],
   "source": [
    "np.random.seed(2022)\n",
    "n = 100; p = 200\n",
    "xmat = np.random.normal(size = (n, p)).astype(\"float64\")\n",
    "beta = np.zeros(p)\n",
    "beta[:int(0.05*p)] = 1.0\n",
    "y = np.dot(xmat, beta) + np.random.normal(size = n)\n",
    "\n",
    "lamb = np.sqrt(2 * np.log(p) / n) "
   ]
  },
  {
   "cell_type": "code",
   "execution_count": 4,
   "id": "8f6b006b",
   "metadata": {},
   "outputs": [],
   "source": [
    "x_torch = torch.Tensor(xmat)\n",
    "y_torch = torch.Tensor(y)\n",
    "\n",
    "device = \"cuda:0\"\n",
    "x_dev = x_torch.to(device)\n",
    "y_dev = y_torch.to(device)\n",
    "\n",
    "network = lasso_nn(p= xmat.shape[1])\n",
    "network=network.to(device)\n",
    "\n",
    "mse_loss = nn.MSELoss()\n",
    "optimizer = torch.optim.SGD(network.parameters(), lr= 0.01)"
   ]
  },
  {
   "cell_type": "code",
   "execution_count": 5,
   "id": "43c0a2f5",
   "metadata": {},
   "outputs": [
    {
     "name": "stdout",
     "output_type": "stream",
     "text": [
      "1000 th loss is 0.8472\n",
      "2000 th loss is 0.8099\n",
      "3000 th loss is 0.8079\n",
      "4000 th loss is 0.8077\n",
      "5000 th loss is 0.8077\n",
      "6000 th loss is 0.8076\n",
      "7000 th loss is 0.8077\n",
      "8000 th loss is 0.8076\n",
      "9000 th loss is 0.8076\n",
      "10000 th loss is 0.8076\n"
     ]
    }
   ],
   "source": [
    "for epoch in range(10000):\n",
    "    #print(f\"Starting epoch {epoch+1}\")\n",
    "    \n",
    "    optimizer.zero_grad()\n",
    "    \n",
    "    pred_y = network(x_dev)\n",
    "    pred_y = pred_y.to(device)\n",
    "    \n",
    "    loss = mse_loss(pred_y.view(-1), y_dev)\n",
    "    l1_param = []\n",
    "    \n",
    "    for parameter in network.parameters():\n",
    "        l1_param.append(parameter.view(-1))\n",
    "        \n",
    "    #print(torch.cat(l1_param))\n",
    "    #print(torch.cat(l1_param).size())\n",
    "    \n",
    "    l1 = 0.05 * network.l1_loss(torch.cat(l1_param))\n",
    "    \n",
    "    loss += l1\n",
    "    \n",
    "    loss.backward()\n",
    "    optimizer.step()\n",
    "    \n",
    "    c_loss = loss.item()\n",
    "    \n",
    "    if epoch % 1000 ==  999:\n",
    "        print(\"%d th loss is %.4f\" % (epoch+1, c_loss))"
   ]
  },
  {
   "cell_type": "code",
   "execution_count": 6,
   "id": "875662bf",
   "metadata": {},
   "outputs": [
    {
     "data": {
      "text/plain": [
       "tensor([ 6.3942e-01,  1.0646e+00,  8.0397e-01,  1.0232e+00,  7.0936e-01,\n",
       "         7.8687e-01,  7.2832e-01,  1.0274e+00,  9.7006e-01,  1.0989e+00,\n",
       "         3.8187e-05, -2.5851e-01, -2.1829e-04,  6.7066e-06, -9.9120e-05,\n",
       "         3.6256e-05, -1.6807e-01,  1.0474e-04, -5.1309e-02,  1.7564e-06],\n",
       "       device='cuda:0', grad_fn=<SliceBackward>)"
      ]
     },
     "execution_count": 6,
     "metadata": {},
     "output_type": "execute_result"
    }
   ],
   "source": [
    "param_list = []\n",
    "for param in network.parameters():\n",
    "    param_list.append(param)\n",
    "    \n",
    "param_list[0][0][:20]"
   ]
  }
 ],
 "metadata": {
  "kernelspec": {
   "display_name": "paper_cuda",
   "language": "python",
   "name": "paper_cuda"
  },
  "language_info": {
   "codemirror_mode": {
    "name": "ipython",
    "version": 3
   },
   "file_extension": ".py",
   "mimetype": "text/x-python",
   "name": "python",
   "nbconvert_exporter": "python",
   "pygments_lexer": "ipython3",
   "version": "3.8.10"
  }
 },
 "nbformat": 4,
 "nbformat_minor": 5
}
