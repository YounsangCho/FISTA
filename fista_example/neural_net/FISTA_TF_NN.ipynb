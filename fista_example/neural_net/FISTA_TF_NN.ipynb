{
 "cells": [
  {
   "cell_type": "code",
   "execution_count": 1,
   "id": "36a7ca39",
   "metadata": {},
   "outputs": [
    {
     "name": "stderr",
     "output_type": "stream",
     "text": [
      "2022-03-31 18:58:28.146652: I tensorflow/stream_executor/platform/default/dso_loader.cc:53] Successfully opened dynamic library libcudart.so.11.0\n"
     ]
    }
   ],
   "source": [
    "import tensorflow as tf\n",
    "from tensorflow import keras\n",
    "import numpy as np\n",
    "import time\n",
    "from tqdm import tqdm"
   ]
  },
  {
   "cell_type": "code",
   "execution_count": 2,
   "id": "371c87ba",
   "metadata": {},
   "outputs": [],
   "source": [
    "def build_model(input_shape=[50], lr_rate=0.02, lamb=0.8, seed_num=1993, decay=True, steps=30):\n",
    "    tf.random.set_seed(seed_num)\n",
    "    model = keras.Sequential()\n",
    "    model.add(keras.layers.InputLayer(input_shape=input_shape))\n",
    "    model.add(keras.layers.Dense(1, kernel_regularizer=keras.regularizers.l1(lamb), use_bias=False,\n",
    "                                 kernel_initializer=keras.initializers.RandomNormal(mean=0, stddev=1)))\n",
    "    if decay:\n",
    "        lr_schedule = keras.optimizers.schedules.ExponentialDecay(initial_learning_rate=lr_rate,\n",
    "                                                                  decay_steps=steps, decay_rate=0.95, staircase=True)\n",
    "\n",
    "        optimizer = keras.optimizers.SGD(learning_rate=lr_schedule)\n",
    "    else:\n",
    "        optimizer = keras.optimizers.SGD(learning_rate=lr_rate)\n",
    "    model.compile(loss=\"mse\", optimizer=optimizer)\n",
    "\n",
    "    return model"
   ]
  },
  {
   "cell_type": "code",
   "execution_count": 5,
   "id": "0bf15b21",
   "metadata": {},
   "outputs": [],
   "source": [
    "np.random.seed(2022)\n",
    "n = 100; p = 200\n",
    "xmat = np.random.normal(size = (n, p)).astype(\"float64\")\n",
    "beta = np.zeros(p)\n",
    "beta[:int(0.05*p)] = 1.0\n",
    "y = np.dot(xmat, beta) + np.random.normal(size = n)\n",
    "\n",
    "lamb = np.sqrt(2 * np.log(p) / n) \n",
    "\n",
    "lr_rate = 0.01; seed = 2022; steps = 200"
   ]
  },
  {
   "cell_type": "code",
   "execution_count": 6,
   "id": "c42d69b9",
   "metadata": {},
   "outputs": [
    {
     "name": "stderr",
     "output_type": "stream",
     "text": [
      "2022-03-31 19:03:04.958664: I tensorflow/stream_executor/platform/default/dso_loader.cc:53] Successfully opened dynamic library libcuda.so.1\n",
      "2022-03-31 19:03:05.013750: I tensorflow/stream_executor/cuda/cuda_gpu_executor.cc:937] successful NUMA node read from SysFS had negative value (-1), but there must be at least one NUMA node, so returning NUMA node zero\n",
      "2022-03-31 19:03:05.014206: I tensorflow/core/common_runtime/gpu/gpu_device.cc:1733] Found device 0 with properties: \n",
      "pciBusID: 0000:0d:00.0 name: NVIDIA GeForce RTX 2080 Ti computeCapability: 7.5\n",
      "coreClock: 1.545GHz coreCount: 68 deviceMemorySize: 10.75GiB deviceMemoryBandwidth: 573.69GiB/s\n",
      "2022-03-31 19:03:05.014223: I tensorflow/stream_executor/platform/default/dso_loader.cc:53] Successfully opened dynamic library libcudart.so.11.0\n",
      "2022-03-31 19:03:05.016515: I tensorflow/stream_executor/platform/default/dso_loader.cc:53] Successfully opened dynamic library libcublas.so.11\n",
      "2022-03-31 19:03:05.016539: I tensorflow/stream_executor/platform/default/dso_loader.cc:53] Successfully opened dynamic library libcublasLt.so.11\n",
      "2022-03-31 19:03:05.017114: I tensorflow/stream_executor/platform/default/dso_loader.cc:53] Successfully opened dynamic library libcufft.so.10\n",
      "2022-03-31 19:03:05.017246: I tensorflow/stream_executor/platform/default/dso_loader.cc:53] Successfully opened dynamic library libcurand.so.10\n",
      "2022-03-31 19:03:05.017545: I tensorflow/stream_executor/platform/default/dso_loader.cc:53] Successfully opened dynamic library libcusolver.so.11\n",
      "2022-03-31 19:03:05.018033: I tensorflow/stream_executor/platform/default/dso_loader.cc:53] Successfully opened dynamic library libcusparse.so.11\n",
      "2022-03-31 19:03:05.018107: I tensorflow/stream_executor/platform/default/dso_loader.cc:53] Successfully opened dynamic library libcudnn.so.8\n",
      "2022-03-31 19:03:05.018172: I tensorflow/stream_executor/cuda/cuda_gpu_executor.cc:937] successful NUMA node read from SysFS had negative value (-1), but there must be at least one NUMA node, so returning NUMA node zero\n",
      "2022-03-31 19:03:05.018627: I tensorflow/stream_executor/cuda/cuda_gpu_executor.cc:937] successful NUMA node read from SysFS had negative value (-1), but there must be at least one NUMA node, so returning NUMA node zero\n",
      "2022-03-31 19:03:05.019027: I tensorflow/core/common_runtime/gpu/gpu_device.cc:1871] Adding visible gpu devices: 0\n",
      "2022-03-31 19:03:05.019276: I tensorflow/core/platform/cpu_feature_guard.cc:142] This TensorFlow binary is optimized with oneAPI Deep Neural Network Library (oneDNN) to use the following CPU instructions in performance-critical operations:  AVX2 FMA\n",
      "To enable them in other operations, rebuild TensorFlow with the appropriate compiler flags.\n",
      "2022-03-31 19:03:05.020082: I tensorflow/stream_executor/cuda/cuda_gpu_executor.cc:937] successful NUMA node read from SysFS had negative value (-1), but there must be at least one NUMA node, so returning NUMA node zero\n",
      "2022-03-31 19:03:05.020497: I tensorflow/core/common_runtime/gpu/gpu_device.cc:1733] Found device 0 with properties: \n",
      "pciBusID: 0000:0d:00.0 name: NVIDIA GeForce RTX 2080 Ti computeCapability: 7.5\n",
      "coreClock: 1.545GHz coreCount: 68 deviceMemorySize: 10.75GiB deviceMemoryBandwidth: 573.69GiB/s\n",
      "2022-03-31 19:03:05.020535: I tensorflow/stream_executor/cuda/cuda_gpu_executor.cc:937] successful NUMA node read from SysFS had negative value (-1), but there must be at least one NUMA node, so returning NUMA node zero\n",
      "2022-03-31 19:03:05.020954: I tensorflow/stream_executor/cuda/cuda_gpu_executor.cc:937] successful NUMA node read from SysFS had negative value (-1), but there must be at least one NUMA node, so returning NUMA node zero\n",
      "2022-03-31 19:03:05.021346: I tensorflow/core/common_runtime/gpu/gpu_device.cc:1871] Adding visible gpu devices: 0\n",
      "2022-03-31 19:03:05.021367: I tensorflow/stream_executor/platform/default/dso_loader.cc:53] Successfully opened dynamic library libcudart.so.11.0\n",
      "2022-03-31 19:03:05.339912: I tensorflow/core/common_runtime/gpu/gpu_device.cc:1258] Device interconnect StreamExecutor with strength 1 edge matrix:\n",
      "2022-03-31 19:03:05.339942: I tensorflow/core/common_runtime/gpu/gpu_device.cc:1264]      0 \n",
      "2022-03-31 19:03:05.339948: I tensorflow/core/common_runtime/gpu/gpu_device.cc:1277] 0:   N \n",
      "2022-03-31 19:03:05.340093: I tensorflow/stream_executor/cuda/cuda_gpu_executor.cc:937] successful NUMA node read from SysFS had negative value (-1), but there must be at least one NUMA node, so returning NUMA node zero\n",
      "2022-03-31 19:03:05.340523: I tensorflow/stream_executor/cuda/cuda_gpu_executor.cc:937] successful NUMA node read from SysFS had negative value (-1), but there must be at least one NUMA node, so returning NUMA node zero\n",
      "2022-03-31 19:03:05.340925: I tensorflow/stream_executor/cuda/cuda_gpu_executor.cc:937] successful NUMA node read from SysFS had negative value (-1), but there must be at least one NUMA node, so returning NUMA node zero\n",
      "2022-03-31 19:03:05.341317: I tensorflow/core/common_runtime/gpu/gpu_device.cc:1418] Created TensorFlow device (/job:localhost/replica:0/task:0/device:GPU:0 with 9552 MB memory) -> physical GPU (device: 0, name: NVIDIA GeForce RTX 2080 Ti, pci bus id: 0000:0d:00.0, compute capability: 7.5)\n",
      "2022-03-31 19:03:05.544896: I tensorflow/compiler/mlir/mlir_graph_optimization_pass.cc:176] None of the MLIR Optimization Passes are enabled (registered 2)\n",
      "2022-03-31 19:03:05.545240: I tensorflow/core/platform/profile_utils/cpu_utils.cc:114] CPU Frequency: 3500100000 Hz\n",
      "2022-03-31 19:03:06.041180: I tensorflow/stream_executor/platform/default/dso_loader.cc:53] Successfully opened dynamic library libcublas.so.11\n",
      "2022-03-31 19:03:06.371156: I tensorflow/stream_executor/platform/default/dso_loader.cc:53] Successfully opened dynamic library libcublasLt.so.11\n"
     ]
    }
   ],
   "source": [
    "keras.backend.set_floatx(\"float64\")\n",
    "\n",
    "nn_lasso = keras.wrappers.scikit_learn.KerasRegressor(build_model,verbose = 0)\n",
    "nn_lasso.set_params(input_shape = [xmat.shape[1]], lamb = lamb, lr_rate = lr_rate, \n",
    "                    steps = steps, decay = True, seed_num = seed)\n",
    "            \n",
    "t1 = time.time()\n",
    "nn_lasso.fit(xmat, y, validation_data=(xmat, y), epochs=10000,\n",
    "         callbacks=[keras.callbacks.EarlyStopping(patience=20)])\n",
    "t2 = time.time()"
   ]
  },
  {
   "cell_type": "code",
   "execution_count": 7,
   "id": "e4190dd2",
   "metadata": {},
   "outputs": [
    {
     "data": {
      "text/plain": [
       "3.810309886932373"
      ]
     },
     "execution_count": 7,
     "metadata": {},
     "output_type": "execute_result"
    }
   ],
   "source": [
    "t2-t1"
   ]
  },
  {
   "cell_type": "code",
   "execution_count": 24,
   "id": "575c9772",
   "metadata": {},
   "outputs": [],
   "source": [
    "beta = (nn_lasso.model.layers[0].get_weights()[0]).reshape(p,)"
   ]
  },
  {
   "cell_type": "code",
   "execution_count": 25,
   "id": "9d4b73aa",
   "metadata": {},
   "outputs": [
    {
     "data": {
      "text/plain": [
       "array([ 0.6101553 ,  0.86606187,  0.67166085,  0.91051458,  0.61152677,\n",
       "        0.68742471,  0.67288994,  0.89709712,  0.82466948,  0.78447595,\n",
       "       -0.01059803, -0.28532738, -0.0181754 ,  0.01256181,  0.00351842,\n",
       "        0.00093109, -0.08106986,  0.00299414, -0.00914166, -0.01019493])"
      ]
     },
     "execution_count": 25,
     "metadata": {},
     "output_type": "execute_result"
    }
   ],
   "source": [
    "beta[:20]"
   ]
  }
 ],
 "metadata": {
  "kernelspec": {
   "display_name": "paper_cuda",
   "language": "python",
   "name": "paper_cuda"
  },
  "language_info": {
   "codemirror_mode": {
    "name": "ipython",
    "version": 3
   },
   "file_extension": ".py",
   "mimetype": "text/x-python",
   "name": "python",
   "nbconvert_exporter": "python",
   "pygments_lexer": "ipython3",
   "version": "3.8.10"
  }
 },
 "nbformat": 4,
 "nbformat_minor": 5
}
