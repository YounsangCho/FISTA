{
 "cells": [
  {
   "cell_type": "code",
   "execution_count": 1,
   "id": "0d033147",
   "metadata": {},
   "outputs": [],
   "source": [
    "import numpy as np\n",
    "import math\n",
    "import time\n",
    "from numba import cuda"
   ]
  },
  {
   "cell_type": "code",
   "execution_count": 2,
   "id": "d6d096d0",
   "metadata": {},
   "outputs": [],
   "source": [
    "@cuda.jit\n",
    "def matmul_numba(A,B,C):\n",
    "    i,j = cuda.grid(2)    \n",
    "    if i < C.shape[0] and j <C.shape[1]:\n",
    "        tmp = 0.\n",
    "        for k in range(A.shape[1]):\n",
    "            tmp += A[i,k] * B[k,j]\n",
    "        C[i,j] = tmp"
   ]
  },
  {
   "cell_type": "code",
   "execution_count": 7,
   "id": "0ae4211b",
   "metadata": {},
   "outputs": [],
   "source": [
    "@cuda.jit\n",
    "def matmul_numba2(A,B,C):\n",
    "    i = cuda.blockIdx.x * cuda.blockDim.x + cuda.threadIdx.x\n",
    "    j = cuda.blockIdx.y * cuda.blockDim.y + cuda.threadIdx.y\n",
    "    if i < C.shape[0] and j <C.shape[1]:\n",
    "        tmp = 0.\n",
    "        for k in range(A.shape[1]):\n",
    "            tmp += A[i,k] * B[k,j]\n",
    "        C[i,j] = tmp"
   ]
  },
  {
   "cell_type": "code",
   "execution_count": 8,
   "id": "6f383a9c",
   "metadata": {},
   "outputs": [],
   "source": [
    "np.random.seed(2022)\n",
    "n = 50\n",
    "A = np.random.randn(n,n).astype(np.float64)\n",
    "B = np.random.randn(n,n).astype(np.float64)\n",
    "C = np.zeros_like(A).astype(np.float64)"
   ]
  },
  {
   "cell_type": "code",
   "execution_count": 9,
   "id": "042e265f",
   "metadata": {},
   "outputs": [],
   "source": [
    "TPB = (32,32,1)\n",
    "block = math.ceil(n/32)\n",
    "BPG = (block, block,1)"
   ]
  },
  {
   "cell_type": "code",
   "execution_count": 13,
   "id": "d3971e27",
   "metadata": {},
   "outputs": [],
   "source": [
    "matmul_numba2[BPG,TPB](A,B,C)"
   ]
  },
  {
   "cell_type": "code",
   "execution_count": 14,
   "id": "1cad6fe5",
   "metadata": {},
   "outputs": [
    {
     "data": {
      "text/plain": [
       "dtype('float64')"
      ]
     },
     "execution_count": 14,
     "metadata": {},
     "output_type": "execute_result"
    }
   ],
   "source": [
    "C.dtype"
   ]
  },
  {
   "cell_type": "code",
   "execution_count": 15,
   "id": "9393e069",
   "metadata": {
    "scrolled": true
   },
   "outputs": [
    {
     "data": {
      "text/plain": [
       "array([-4.26516861e+00,  4.47178964e+00,  2.85671449e+00,  1.14224092e+00,\n",
       "       -6.48794556e+00, -4.84272861e+00, -6.42310726e+00,  4.00891832e+00,\n",
       "       -4.56629541e+00, -3.96130001e+00,  3.15290990e+00, -2.86421472e+00,\n",
       "        1.52663492e+01,  8.84744005e+00,  1.38223755e+01, -1.13033539e+01,\n",
       "        1.79882781e+00,  1.30616217e+00, -9.81496667e-01, -1.20863747e+00,\n",
       "        1.23914394e+01, -3.92721535e+00, -4.40115427e+00,  5.57401826e+00,\n",
       "       -4.96962847e+00,  5.68972372e+00, -1.05804794e+01, -1.31119699e+01,\n",
       "       -2.04478926e+00, -3.00779215e+00, -1.16682453e+00, -6.65407033e+00,\n",
       "        3.67307120e+00, -5.86803479e+00,  6.08246045e+00,  9.80986417e+00,\n",
       "       -3.25950414e-01, -4.47629772e+00, -3.13733059e-01, -9.22952897e-03,\n",
       "        1.82561042e+00, -1.71015296e+00,  4.27159228e+00,  1.12619803e+01,\n",
       "       -6.88113315e+00, -1.16252493e+00, -7.94300161e+00, -7.85877981e+00,\n",
       "        4.65615654e-01,  1.01233305e+01])"
      ]
     },
     "execution_count": 15,
     "metadata": {},
     "output_type": "execute_result"
    }
   ],
   "source": [
    "C[0]"
   ]
  },
  {
   "cell_type": "code",
   "execution_count": 7,
   "id": "ce0953a9",
   "metadata": {},
   "outputs": [
    {
     "data": {
      "text/plain": [
       "array([-4.26516861e+00,  4.47178964e+00,  2.85671449e+00,  1.14224092e+00,\n",
       "       -6.48794556e+00, -4.84272861e+00, -6.42310726e+00,  4.00891832e+00,\n",
       "       -4.56629541e+00, -3.96130001e+00,  3.15290990e+00, -2.86421472e+00,\n",
       "        1.52663492e+01,  8.84744005e+00,  1.38223755e+01, -1.13033539e+01,\n",
       "        1.79882781e+00,  1.30616217e+00, -9.81496667e-01, -1.20863747e+00,\n",
       "        1.23914394e+01, -3.92721535e+00, -4.40115427e+00,  5.57401826e+00,\n",
       "       -4.96962847e+00,  5.68972372e+00, -1.05804794e+01, -1.31119699e+01,\n",
       "       -2.04478926e+00, -3.00779215e+00, -1.16682453e+00, -6.65407033e+00,\n",
       "        3.67307120e+00, -5.86803479e+00,  6.08246045e+00,  9.80986417e+00,\n",
       "       -3.25950414e-01, -4.47629772e+00, -3.13733059e-01, -9.22952897e-03,\n",
       "        1.82561042e+00, -1.71015296e+00,  4.27159228e+00,  1.12619803e+01,\n",
       "       -6.88113315e+00, -1.16252493e+00, -7.94300161e+00, -7.85877981e+00,\n",
       "        4.65615654e-01,  1.01233305e+01])"
      ]
     },
     "execution_count": 7,
     "metadata": {},
     "output_type": "execute_result"
    }
   ],
   "source": [
    "D = np.dot(A,B)\n",
    "D[0]"
   ]
  },
  {
   "cell_type": "code",
   "execution_count": 1,
   "id": "89c0654c",
   "metadata": {},
   "outputs": [
    {
     "name": "stdout",
     "output_type": "stream",
     "text": [
      "\n",
      "  1 -th iteration, Collapsed Time:  0.8169958591461182\n",
      "\n",
      "  2 -th iteration, Collapsed Time:  0.47506141662597656\n",
      "\n",
      "  3 -th iteration, Collapsed Time:  0.4832158088684082\n",
      "\n",
      "  4 -th iteration, Collapsed Time:  0.4760856628417969\n",
      "\n",
      "  5 -th iteration, Collapsed Time:  0.4855058193206787\n",
      "\n",
      "  6 -th iteration, Collapsed Time:  0.4770340919494629\n",
      "\n",
      "  7 -th iteration, Collapsed Time:  0.48311758041381836\n",
      "\n",
      "  8 -th iteration, Collapsed Time:  0.4770841598510742\n",
      "\n",
      "  9 -th iteration, Collapsed Time:  0.4836595058441162\n",
      "\n",
      "  10 -th iteration, Collapsed Time:  0.4772765636444092\n",
      "\n",
      "  11 -th iteration, Collapsed Time:  0.4832596778869629\n"
     ]
    }
   ],
   "source": [
    "import numpy as np\n",
    "import math\n",
    "import time\n",
    "from numba import cuda\n",
    "from numba import int32, float32, float64\n",
    "\n",
    "@cuda.jit\n",
    "def matmul_numba(A,B,C):\n",
    "    i,j = cuda.grid(2)    \n",
    "    if i < C.shape[0] and j <C.shape[1]:\n",
    "        tmp = 0.\n",
    "        for k in range(A.shape[1]):\n",
    "            tmp += A[i,k] * B[k,j]\n",
    "        C[i,j] = tmp\n",
    "        \n",
    "np.random.seed(2022)\n",
    "n = 2500\n",
    "A = np.random.randn(n,n).astype(np.float64)\n",
    "B = np.random.randn(n,n).astype(np.float64)\n",
    "niter = 11\n",
    "comp_time_numba = np.zeros(niter)\n",
    "\n",
    "for i in np.arange(niter):\n",
    "\n",
    "    C = np.zeros_like(A).astype(np.float64)\n",
    "    t1 = time.time()\n",
    "    TPB = (32,32,1)\n",
    "    block = math.ceil(n/32)\n",
    "    BPG = (block,block,1)\n",
    "    matmul_numba[BPG,TPB](A,B,C)\n",
    "    t2 = time.time()\n",
    "    comp_time_numba[i] = t2-t1\n",
    "        \n",
    "    print('\\n ',i+1,'-th iteration, Collapsed Time: ', comp_time_numba[i])\n",
    "    \n"
   ]
  },
  {
   "cell_type": "code",
   "execution_count": 2,
   "id": "c5b4e14a",
   "metadata": {},
   "outputs": [
    {
     "data": {
      "text/plain": [
       "0.4801"
      ]
     },
     "execution_count": 2,
     "metadata": {},
     "output_type": "execute_result"
    }
   ],
   "source": [
    "np.round(np.mean(comp_time_numba[1:]),4)"
   ]
  },
  {
   "cell_type": "code",
   "execution_count": 3,
   "id": "b0e6b2ac",
   "metadata": {},
   "outputs": [
    {
     "data": {
      "text/plain": [
       "0.011200000000000043"
      ]
     },
     "execution_count": 3,
     "metadata": {},
     "output_type": "execute_result"
    }
   ],
   "source": [
    "0.4801 - 0.4689"
   ]
  },
  {
   "cell_type": "code",
   "execution_count": 4,
   "id": "ed57a7c2",
   "metadata": {},
   "outputs": [
    {
     "data": {
      "text/plain": [
       "0.07769999999999999"
      ]
     },
     "execution_count": 4,
     "metadata": {},
     "output_type": "execute_result"
    }
   ],
   "source": [
    "0.1611 - 0.0834"
   ]
  },
  {
   "cell_type": "code",
   "execution_count": null,
   "id": "5a45dcc4",
   "metadata": {},
   "outputs": [],
   "source": []
  }
 ],
 "metadata": {
  "kernelspec": {
   "display_name": "TF20",
   "language": "python",
   "name": "tf2_gpu"
  },
  "language_info": {
   "codemirror_mode": {
    "name": "ipython",
    "version": 3
   },
   "file_extension": ".py",
   "mimetype": "text/x-python",
   "name": "python",
   "nbconvert_exporter": "python",
   "pygments_lexer": "ipython3",
   "version": "3.6.9"
  }
 },
 "nbformat": 4,
 "nbformat_minor": 5
}
