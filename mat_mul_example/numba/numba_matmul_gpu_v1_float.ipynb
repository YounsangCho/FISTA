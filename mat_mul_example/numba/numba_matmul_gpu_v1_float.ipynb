{
 "cells": [
  {
   "cell_type": "code",
   "execution_count": 1,
   "id": "0d033147",
   "metadata": {},
   "outputs": [],
   "source": [
    "import numpy as np\n",
    "import math\n",
    "import time\n",
    "from numba import cuda"
   ]
  },
  {
   "cell_type": "code",
   "execution_count": 2,
   "id": "abd94fde",
   "metadata": {},
   "outputs": [
    {
     "data": {
      "text/plain": [
       "<numba.cuda.cudadrv.devices._DeviceList at 0x7f949e24b940>"
      ]
     },
     "execution_count": 2,
     "metadata": {},
     "output_type": "execute_result"
    }
   ],
   "source": [
    "cuda.list_devices()"
   ]
  },
  {
   "cell_type": "code",
   "execution_count": 3,
   "id": "d6d096d0",
   "metadata": {},
   "outputs": [],
   "source": [
    "@cuda.jit\n",
    "def matmul_numba(A,B,C):\n",
    "    i,j = cuda.grid(2)    \n",
    "    if i < C.shape[0] and j <C.shape[1]:\n",
    "        tmp = 0.\n",
    "        for k in range(A.shape[1]):\n",
    "            tmp += A[i,k] * B[k,j]\n",
    "        C[i,j] = tmp"
   ]
  },
  {
   "cell_type": "code",
   "execution_count": 4,
   "id": "0dd1aff1",
   "metadata": {},
   "outputs": [],
   "source": [
    "np.random.seed(2022)\n",
    "n = 50\n",
    "A = np.random.randn(n,n).astype(np.float32)\n",
    "B = np.random.randn(n,n).astype(np.float32)\n",
    "C = np.zeros_like(A).astype(np.float32)"
   ]
  },
  {
   "cell_type": "code",
   "execution_count": 5,
   "id": "a5500499",
   "metadata": {},
   "outputs": [],
   "source": [
    "TPB = (32,32,1)\n",
    "block = math.ceil(n/32)\n",
    "BPG = (block, block,1)"
   ]
  },
  {
   "cell_type": "code",
   "execution_count": 6,
   "id": "b878b84a",
   "metadata": {},
   "outputs": [],
   "source": [
    "matmul_numba[BPG,TPB](A,B,C)"
   ]
  },
  {
   "cell_type": "code",
   "execution_count": 7,
   "id": "0cce4b8c",
   "metadata": {},
   "outputs": [
    {
     "data": {
      "text/plain": [
       "array([-4.2651687e+00,  4.4717903e+00,  2.8567140e+00,  1.1422408e+00,\n",
       "       -6.4879456e+00, -4.8427286e+00, -6.4231071e+00,  4.0089183e+00,\n",
       "       -4.5662956e+00, -3.9613004e+00,  3.1529095e+00, -2.8642147e+00,\n",
       "        1.5266349e+01,  8.8474398e+00,  1.3822375e+01, -1.1303353e+01,\n",
       "        1.7988276e+00,  1.3061627e+00, -9.8149681e-01, -1.2086377e+00,\n",
       "        1.2391439e+01, -3.9272151e+00, -4.4011540e+00,  5.5740175e+00,\n",
       "       -4.9696283e+00,  5.6897235e+00, -1.0580480e+01, -1.3111970e+01,\n",
       "       -2.0447898e+00, -3.0077920e+00, -1.1668246e+00, -6.6540704e+00,\n",
       "        3.6730716e+00, -5.8680344e+00,  6.0824604e+00,  9.8098640e+00,\n",
       "       -3.2595071e-01, -4.4762974e+00, -3.1373292e-01, -9.2296228e-03,\n",
       "        1.8256105e+00, -1.7101529e+00,  4.2715921e+00,  1.1261980e+01,\n",
       "       -6.8811331e+00, -1.1625252e+00, -7.9430013e+00, -7.8587799e+00,\n",
       "        4.6561503e-01,  1.0123330e+01], dtype=float32)"
      ]
     },
     "execution_count": 7,
     "metadata": {},
     "output_type": "execute_result"
    }
   ],
   "source": [
    "C[0]"
   ]
  },
  {
   "cell_type": "code",
   "execution_count": 8,
   "id": "49628697",
   "metadata": {},
   "outputs": [
    {
     "data": {
      "text/plain": [
       "dtype('float32')"
      ]
     },
     "execution_count": 8,
     "metadata": {},
     "output_type": "execute_result"
    }
   ],
   "source": [
    "C.dtype"
   ]
  },
  {
   "cell_type": "code",
   "execution_count": 9,
   "id": "85016f34",
   "metadata": {},
   "outputs": [
    {
     "data": {
      "text/plain": [
       "array([-4.2651687e+00,  4.4717889e+00,  2.8567147e+00,  1.1422411e+00,\n",
       "       -6.4879460e+00, -4.8427286e+00, -6.4231071e+00,  4.0089183e+00,\n",
       "       -4.5662951e+00, -3.9613001e+00,  3.1529100e+00, -2.8642142e+00,\n",
       "        1.5266350e+01,  8.8474398e+00,  1.3822375e+01, -1.1303352e+01,\n",
       "        1.7988281e+00,  1.3061628e+00, -9.8149627e-01, -1.2086369e+00,\n",
       "        1.2391439e+01, -3.9272153e+00, -4.4011531e+00,  5.5740185e+00,\n",
       "       -4.9696288e+00,  5.6897259e+00, -1.0580478e+01, -1.3111972e+01,\n",
       "       -2.0447896e+00, -3.0077918e+00, -1.1668241e+00, -6.6540699e+00,\n",
       "        3.6730716e+00, -5.8680353e+00,  6.0824609e+00,  9.8098640e+00,\n",
       "       -3.2595092e-01, -4.4762979e+00, -3.1373355e-01, -9.2294300e-03,\n",
       "        1.8256099e+00, -1.7101533e+00,  4.2715926e+00,  1.1261982e+01,\n",
       "       -6.8811331e+00, -1.1625246e+00, -7.9430013e+00, -7.8587794e+00,\n",
       "        4.6561626e-01,  1.0123331e+01], dtype=float32)"
      ]
     },
     "execution_count": 9,
     "metadata": {},
     "output_type": "execute_result"
    }
   ],
   "source": [
    "D = np.dot(A,B)\n",
    "D[0]"
   ]
  },
  {
   "cell_type": "code",
   "execution_count": 10,
   "id": "1176bbb1",
   "metadata": {},
   "outputs": [
    {
     "name": "stdout",
     "output_type": "stream",
     "text": [
      "\n",
      "  1 -th iteration, Collapsed Time:  0.6456441879272461\n",
      "\n",
      "  2 -th iteration, Collapsed Time:  0.46421241760253906\n",
      "\n",
      "  3 -th iteration, Collapsed Time:  0.47124338150024414\n",
      "\n",
      "  4 -th iteration, Collapsed Time:  0.466397762298584\n",
      "\n",
      "  5 -th iteration, Collapsed Time:  0.46881842613220215\n",
      "\n",
      "  6 -th iteration, Collapsed Time:  0.46660542488098145\n",
      "\n",
      "  7 -th iteration, Collapsed Time:  0.47759008407592773\n",
      "\n",
      "  8 -th iteration, Collapsed Time:  0.4664289951324463\n",
      "\n",
      "  9 -th iteration, Collapsed Time:  0.4686310291290283\n",
      "\n",
      "  10 -th iteration, Collapsed Time:  0.47237634658813477\n",
      "\n",
      "  11 -th iteration, Collapsed Time:  0.4663882255554199\n"
     ]
    }
   ],
   "source": [
    "import numpy as np\n",
    "import math\n",
    "import time\n",
    "from numba import cuda\n",
    "\n",
    "@cuda.jit\n",
    "def matmul_numba(A,B,C):\n",
    "    i,j = cuda.grid(2)    \n",
    "    if i < C.shape[0] and j <C.shape[1]:\n",
    "        tmp = 0.\n",
    "        for k in range(A.shape[1]):\n",
    "            tmp += A[i,k] * B[k,j]\n",
    "        C[i,j] = tmp\n",
    "        \n",
    "np.random.seed(2022)\n",
    "n = 2500\n",
    "A = np.random.randn(n,n).astype(np.float32)\n",
    "B = np.random.randn(n,n).astype(np.float32)\n",
    "niter = 11\n",
    "comp_time_numba = np.zeros(niter)\n",
    "\n",
    "for i in np.arange(niter):\n",
    "\n",
    "    C = np.zeros_like(A).astype(np.float32)\n",
    "    t1 = time.time()\n",
    "    TPB = (32,32,1)\n",
    "    block = math.ceil(n/32)\n",
    "    BPG = (block,block,1)\n",
    "    matmul_numba[BPG,TPB](A,B,C)\n",
    "    t2 = time.time()\n",
    "    comp_time_numba[i] = t2-t1\n",
    "        \n",
    "    print('\\n ',i+1,'-th iteration, Collapsed Time: ', comp_time_numba[i])\n",
    "    \n"
   ]
  },
  {
   "cell_type": "code",
   "execution_count": 12,
   "id": "655a654e",
   "metadata": {},
   "outputs": [
    {
     "data": {
      "text/plain": [
       "0.4689"
      ]
     },
     "execution_count": 12,
     "metadata": {},
     "output_type": "execute_result"
    }
   ],
   "source": [
    "np.round(np.mean(comp_time_numba[1:]),4)"
   ]
  },
  {
   "cell_type": "code",
   "execution_count": null,
   "id": "fa6aad54",
   "metadata": {},
   "outputs": [],
   "source": []
  }
 ],
 "metadata": {
  "kernelspec": {
   "display_name": "TF20",
   "language": "python",
   "name": "tf2_gpu"
  },
  "language_info": {
   "codemirror_mode": {
    "name": "ipython",
    "version": 3
   },
   "file_extension": ".py",
   "mimetype": "text/x-python",
   "name": "python",
   "nbconvert_exporter": "python",
   "pygments_lexer": "ipython3",
   "version": "3.6.9"
  }
 },
 "nbformat": 4,
 "nbformat_minor": 5
}
