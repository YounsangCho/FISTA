{
 "cells": [
  {
   "cell_type": "code",
   "execution_count": 1,
   "id": "a3b5ed05",
   "metadata": {},
   "outputs": [],
   "source": [
    "import pycuda.driver as cuda\n",
    "import pycuda.autoinit\n",
    "from pycuda.compiler import SourceModule\n",
    "from pycuda import gpuarray, tools, cumath\n",
    "import numpy as np\n",
    "import time\n",
    "from tqdm import tqdm\n"
   ]
  },
  {
   "cell_type": "code",
   "execution_count": 2,
   "id": "b439f02e",
   "metadata": {},
   "outputs": [
    {
     "data": {
      "text/plain": [
       "'/home/dyu/anaconda3/bin:/usr/texbin:/usr/local/sbin:/usr/local/bin:/usr/sbin:/usr/bin:/sbin:/bin:/usr/games:/usr/local/games:/snap/bin:/usr/local/cuda-11.1/bin'"
      ]
     },
     "execution_count": 2,
     "metadata": {},
     "output_type": "execute_result"
    }
   ],
   "source": [
    "import os\n",
    "os.environ[\"PATH\"]"
   ]
  },
  {
   "cell_type": "code",
   "execution_count": 3,
   "id": "77413973",
   "metadata": {},
   "outputs": [],
   "source": [
    "matmul_kernel_code = \"\"\"\n",
    "__global__ void d_MatMul(double *A, double *B, double *C, int n)\n",
    "{\n",
    "\t\n",
    "\tint i = blockIdx.y * blockDim.y + threadIdx.y;\n",
    "\tint j = blockIdx.x * blockDim.x + threadIdx.x;\n",
    "\n",
    "\tif ((i<n) && (j<n)) {\n",
    "        double Cvalue = 0.0;\n",
    "\t\tfor (int k = 0; k < n; ++k) {\n",
    "\t\t\tCvalue += A[i*n+k]*B[k*n+j];\n",
    "\t\t}\n",
    "\t\tC[i*n+j]=Cvalue;\n",
    "\t}\n",
    "}\n",
    "\"\"\""
   ]
  },
  {
   "cell_type": "code",
   "execution_count": 4,
   "id": "c8021e82",
   "metadata": {},
   "outputs": [],
   "source": [
    "with open('./matmul_pycuda_float.cu') as f:\n",
    "    matmul_kernel = f.read()\n",
    "    #print(matmul_kernel)"
   ]
  },
  {
   "cell_type": "code",
   "execution_count": 5,
   "id": "3703d296",
   "metadata": {},
   "outputs": [],
   "source": [
    "mod = SourceModule(matmul_kernel)\n",
    "matmul_pycuda = mod.get_function(\"d_MatMul\")"
   ]
  },
  {
   "cell_type": "code",
   "execution_count": 6,
   "id": "bf91fb45",
   "metadata": {},
   "outputs": [],
   "source": [
    "np.random.seed(2022)\n",
    "n = 50\n",
    "A = np.random.randn(n,n)\n",
    "B = np.random.randn(n,n)\n",
    "C = np.zeros_like(A)"
   ]
  },
  {
   "cell_type": "code",
   "execution_count": 7,
   "id": "8577aaf1",
   "metadata": {},
   "outputs": [],
   "source": [
    "d_A = gpuarray.to_gpu(A.astype(np.float32))\n",
    "d_B = gpuarray.to_gpu(B.astype(np.float32))\n",
    "d_C = gpuarray.to_gpu(C.astype(np.float32))"
   ]
  },
  {
   "cell_type": "code",
   "execution_count": 14,
   "id": "f0dc61cf",
   "metadata": {},
   "outputs": [],
   "source": [
    "TPB = (32, 32, 1)\n",
    "block = (np.ceil(n / 32)).astype(np.int32).item()\n",
    "BPG = (block, block, 1)"
   ]
  },
  {
   "cell_type": "code",
   "execution_count": 15,
   "id": "57e37b2c",
   "metadata": {
    "scrolled": true
   },
   "outputs": [],
   "source": [
    "matmul_pycuda(d_A,d_B,d_C, np.int32(n), block = TPB, grid = BPG)\n",
    "#cuda.Context.synchronize()"
   ]
  },
  {
   "cell_type": "code",
   "execution_count": 16,
   "id": "d5afb2f2",
   "metadata": {},
   "outputs": [
    {
     "data": {
      "text/plain": [
       "array([-7.3373866,  6.8135705,  1.0331956,  1.6117499], dtype=float32)"
      ]
     },
     "execution_count": 16,
     "metadata": {},
     "output_type": "execute_result"
    }
   ],
   "source": [
    "d_C[1:5,1]"
   ]
  },
  {
   "cell_type": "code",
   "execution_count": 17,
   "id": "c9d001c5",
   "metadata": {},
   "outputs": [],
   "source": [
    "del d_A, d_B, d_C"
   ]
  },
  {
   "cell_type": "code",
   "execution_count": 18,
   "id": "3e645535",
   "metadata": {
    "scrolled": true
   },
   "outputs": [
    {
     "data": {
      "text/plain": [
       "array([-7.33738934,  6.81357067,  1.03319585,  1.61174989])"
      ]
     },
     "execution_count": 18,
     "metadata": {},
     "output_type": "execute_result"
    }
   ],
   "source": [
    "np.dot(A,B)[1:5,1]"
   ]
  },
  {
   "cell_type": "code",
   "execution_count": 1,
   "id": "24e41807",
   "metadata": {},
   "outputs": [
    {
     "name": "stdout",
     "output_type": "stream",
     "text": [
      "\n",
      "  1 -th iteration, Collapsed Time:  0.0871882438659668\n",
      "\n",
      "  2 -th iteration, Collapsed Time:  0.0982816219329834\n",
      "\n",
      "  3 -th iteration, Collapsed Time:  0.0891573429107666\n",
      "\n",
      "  4 -th iteration, Collapsed Time:  0.09219098091125488\n",
      "\n",
      "  5 -th iteration, Collapsed Time:  0.08936619758605957\n",
      "\n",
      "  6 -th iteration, Collapsed Time:  0.09166669845581055\n",
      "\n",
      "  7 -th iteration, Collapsed Time:  0.08961367607116699\n",
      "\n",
      "  8 -th iteration, Collapsed Time:  0.09017777442932129\n",
      "\n",
      "  9 -th iteration, Collapsed Time:  0.11772894859313965\n",
      "\n",
      "  10 -th iteration, Collapsed Time:  0.09645867347717285\n",
      "\n",
      "  11 -th iteration, Collapsed Time:  0.09285187721252441\n"
     ]
    }
   ],
   "source": [
    "import pycuda.driver as cuda\n",
    "import pycuda.autoinit\n",
    "from pycuda.compiler import SourceModule\n",
    "from pycuda import gpuarray, tools, cumath\n",
    "import numpy as np\n",
    "import time\n",
    "\n",
    "\n",
    "with open('./matmul_pycuda_float.cu') as f:\n",
    "    matmul_kernel = f.read()\n",
    "\n",
    "mod = SourceModule(matmul_kernel)\n",
    "matmul_pycuda = mod.get_function(\"d_MatMul\")\n",
    "\n",
    "np.random.seed(2022)\n",
    "n = 2500\n",
    "A = np.random.randn(n,n).astype(np.float32)\n",
    "B = np.random.randn(n,n).astype(np.float32)\n",
    "C = np.zeros_like(A).astype(np.float32)\n",
    "niter = 11\n",
    "comp_time_pycuda = np.zeros(niter)\n",
    "\n",
    "for i in np.arange(niter):\n",
    "\n",
    "    t1 = time.time()\n",
    "    dA = gpuarray.to_gpu(A)\n",
    "    dB = gpuarray.to_gpu(B)\n",
    "    dC = gpuarray.to_gpu(C)\n",
    "    TPB = (32, 32, 1)\n",
    "    block = (np.ceil(n / 32)).astype(np.int32).item()\n",
    "    BPG = (block, block, 1)\n",
    "    matmul_pycuda(dA,dB,dC, np.int32(n), block = TPB, grid = BPG)\n",
    "    cuda.Context.synchronize()\n",
    "    t2 = time.time()\n",
    "    comp_time_pycuda[i] = t2-t1\n",
    "    \n",
    "    print('\\n ',i+1,'-th iteration, Collapsed Time: ', comp_time_pycuda[i])\n",
    "    \n"
   ]
  },
  {
   "cell_type": "code",
   "execution_count": 2,
   "id": "0499716d",
   "metadata": {
    "scrolled": true
   },
   "outputs": [
    {
     "data": {
      "text/plain": [
       "0.0834"
      ]
     },
     "execution_count": 2,
     "metadata": {},
     "output_type": "execute_result"
    }
   ],
   "source": [
    "np.round(np.mean(comp_time_pycuda),4)"
   ]
  },
  {
   "cell_type": "code",
   "execution_count": null,
   "id": "ce6dbf5c",
   "metadata": {},
   "outputs": [],
   "source": []
  }
 ],
 "metadata": {
  "kernelspec": {
   "display_name": "TF20",
   "language": "python",
   "name": "tf2_gpu"
  },
  "language_info": {
   "codemirror_mode": {
    "name": "ipython",
    "version": 3
   },
   "file_extension": ".py",
   "mimetype": "text/x-python",
   "name": "python",
   "nbconvert_exporter": "python",
   "pygments_lexer": "ipython3",
   "version": "3.6.9"
  }
 },
 "nbformat": 4,
 "nbformat_minor": 5
}
