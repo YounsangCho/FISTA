{
 "cells": [
  {
   "cell_type": "code",
   "execution_count": 1,
   "id": "a3b5ed05",
   "metadata": {},
   "outputs": [],
   "source": [
    "import pycuda.driver as cuda\n",
    "import pycuda.autoinit\n",
    "from pycuda.compiler import SourceModule\n",
    "from pycuda import gpuarray, tools, cumath\n",
    "import math\n",
    "import numpy as np\n",
    "import time\n",
    "from tqdm import tqdm"
   ]
  },
  {
   "cell_type": "code",
   "execution_count": 2,
   "id": "b439f02e",
   "metadata": {},
   "outputs": [
    {
     "data": {
      "text/plain": [
       "'/home/dyu/anaconda3/bin:/usr/texbin:/usr/local/sbin:/usr/local/bin:/usr/sbin:/usr/bin:/sbin:/bin:/usr/games:/usr/local/games:/snap/bin:/usr/local/cuda-11.1/bin'"
      ]
     },
     "execution_count": 2,
     "metadata": {},
     "output_type": "execute_result"
    }
   ],
   "source": [
    "import os\n",
    "os.environ[\"PATH\"]\n"
   ]
  },
  {
   "cell_type": "code",
   "execution_count": 3,
   "id": "77413973",
   "metadata": {},
   "outputs": [],
   "source": [
    "matmul_kernel_code = \"\"\"\n",
    "__global__ void d_MatMul(double *A, double *B, double *C, int n)\n",
    "{\n",
    "\t\n",
    "\tint i = blockIdx.y * blockDim.y + threadIdx.y;\n",
    "\tint j = blockIdx.x * blockDim.x + threadIdx.x;\n",
    "\n",
    "\tif ((i<n) && (j<n)) {\n",
    "        double Cvalue = 0.0;\n",
    "\t\tfor (int k = 0; k < n; ++k) {\n",
    "\t\t\tCvalue += A[i*n+k]*B[k*n+j];\n",
    "\t\t}\n",
    "\t\tC[i*n+j]=Cvalue;\n",
    "\t}\n",
    "}\n",
    "\"\"\""
   ]
  },
  {
   "cell_type": "code",
   "execution_count": 4,
   "id": "c8021e82",
   "metadata": {},
   "outputs": [],
   "source": [
    "with open('./matmul_pycuda.cu') as f:\n",
    "    matmul_kernel = f.read()\n",
    "    #print(matmul_kernel)"
   ]
  },
  {
   "cell_type": "code",
   "execution_count": 5,
   "id": "3703d296",
   "metadata": {},
   "outputs": [],
   "source": [
    "mod = SourceModule(matmul_kernel)\n",
    "matmul_pycuda = mod.get_function(\"d_MatMul\")"
   ]
  },
  {
   "cell_type": "code",
   "execution_count": 6,
   "id": "bf91fb45",
   "metadata": {},
   "outputs": [],
   "source": [
    "np.random.seed(2022)\n",
    "n = 50\n",
    "A = np.random.randn(n,n)\n",
    "B = np.random.randn(n,n)\n",
    "C = np.zeros_like(A)"
   ]
  },
  {
   "cell_type": "code",
   "execution_count": 7,
   "id": "8577aaf1",
   "metadata": {},
   "outputs": [],
   "source": [
    "d_A = gpuarray.to_gpu(A.astype(np.float64))\n",
    "d_B = gpuarray.to_gpu(B.astype(np.float64))\n",
    "d_C = gpuarray.to_gpu(C.astype(np.float64))"
   ]
  },
  {
   "cell_type": "code",
   "execution_count": 8,
   "id": "f0dc61cf",
   "metadata": {},
   "outputs": [],
   "source": [
    "TPB = (32, 32, 1)\n",
    "block = math.ceil(n//32)#(np.ceil(n / 32)).astype(np.int32).item()\n",
    "BPG = (block, block, 1)"
   ]
  },
  {
   "cell_type": "code",
   "execution_count": 9,
   "id": "57e37b2c",
   "metadata": {
    "scrolled": true
   },
   "outputs": [],
   "source": [
    "matmul_pycuda(d_A,d_B,d_C, np.int32(n), block = TPB, grid = BPG)"
   ]
  },
  {
   "cell_type": "code",
   "execution_count": 16,
   "id": "7862a025",
   "metadata": {},
   "outputs": [
    {
     "data": {
      "text/plain": [
       "array([-7.33738934,  6.81357067,  1.03319585,  1.61174989])"
      ]
     },
     "execution_count": 16,
     "metadata": {},
     "output_type": "execute_result"
    }
   ],
   "source": [
    "d_C[1:5,1]"
   ]
  },
  {
   "cell_type": "code",
   "execution_count": 17,
   "id": "3e645535",
   "metadata": {
    "scrolled": true
   },
   "outputs": [
    {
     "data": {
      "text/plain": [
       "array([-7.33738934,  6.81357067,  1.03319585,  1.61174989])"
      ]
     },
     "execution_count": 17,
     "metadata": {},
     "output_type": "execute_result"
    }
   ],
   "source": [
    "np.dot(A,B)[1:5,1]"
   ]
  },
  {
   "cell_type": "code",
   "execution_count": null,
   "id": "aeee8a13",
   "metadata": {},
   "outputs": [],
   "source": []
  },
  {
   "cell_type": "code",
   "execution_count": 1,
   "id": "24e41807",
   "metadata": {},
   "outputs": [
    {
     "name": "stdout",
     "output_type": "stream",
     "text": [
      "\n",
      "  1 -th iteration, Collapsed Time:  0.05661153793334961\n",
      "\n",
      "  2 -th iteration, Collapsed Time:  0.19960665702819824\n",
      "\n",
      "  3 -th iteration, Collapsed Time:  0.183197021484375\n",
      "\n",
      "  4 -th iteration, Collapsed Time:  0.16542315483093262\n",
      "\n",
      "  5 -th iteration, Collapsed Time:  0.1697826385498047\n",
      "\n",
      "  6 -th iteration, Collapsed Time:  0.1664140224456787\n",
      "\n",
      "  7 -th iteration, Collapsed Time:  0.16842961311340332\n",
      "\n",
      "  8 -th iteration, Collapsed Time:  0.16636300086975098\n",
      "\n",
      "  9 -th iteration, Collapsed Time:  0.16644835472106934\n",
      "\n",
      "  10 -th iteration, Collapsed Time:  0.16836333274841309\n"
     ]
    }
   ],
   "source": [
    "import pycuda.driver as cuda\n",
    "import pycuda.autoinit\n",
    "from pycuda.compiler import SourceModule\n",
    "from pycuda import gpuarray\n",
    "import time\n",
    "import numpy as np\n",
    "\n",
    "with open('./matmul_pycuda.cu') as f:\n",
    "    matmul_kernel = f.read()\n",
    "    \n",
    "mod = SourceModule(matmul_kernel)\n",
    "matmul_pycuda = mod.get_function(\"d_MatMul\")\n",
    "\n",
    "np.random.seed(2022)\n",
    "n = 2500\n",
    "A = np.random.randn(n,n)\n",
    "B = np.random.randn(n,n)\n",
    "C = np.zeros_like(A)\n",
    "niter = 10\n",
    "comp_time_pycuda = np.zeros(niter)\n",
    "\n",
    "for i in np.arange(niter):\n",
    "\n",
    "    t1 = time.time()\n",
    "    dA = gpuarray.to_gpu(A.astype(np.float64))\n",
    "    dB = gpuarray.to_gpu(B.astype(np.float64))\n",
    "    dC = gpuarray.to_gpu(C.astype(np.float64))\n",
    "    TPB = (32, 32, 1)\n",
    "    block = (np.ceil(n / 32)).astype(np.int32).item()\n",
    "    BPG = (block, block, 1)\n",
    "    matmul_pycuda(dA,dB,dC, np.int32(n), block = TPB, grid = BPG)\n",
    "    t2 = time.time()\n",
    "    comp_time_pycuda[i] = t2-t1\n",
    "        \n",
    "    print('\\n ',i+1,'-th iteration, Collapsed Time: ', comp_time_pycuda[i])\n",
    "    \n"
   ]
  },
  {
   "cell_type": "code",
   "execution_count": 2,
   "id": "0499716d",
   "metadata": {},
   "outputs": [
    {
     "data": {
      "text/plain": [
       "0.1611"
      ]
     },
     "execution_count": 2,
     "metadata": {},
     "output_type": "execute_result"
    }
   ],
   "source": [
    "np.round(np.mean(comp_time_pycuda),4)"
   ]
  },
  {
   "cell_type": "code",
   "execution_count": 19,
   "id": "ce6dbf5c",
   "metadata": {},
   "outputs": [
    {
     "data": {
      "text/plain": [
       "0.06563472747802734"
      ]
     },
     "execution_count": 19,
     "metadata": {},
     "output_type": "execute_result"
    }
   ],
   "source": [
    "t1 = time.time()\n",
    "D = A.dot(B)\n",
    "t2 = time.time()\n",
    "t2-t1"
   ]
  },
  {
   "cell_type": "code",
   "execution_count": 22,
   "id": "ae510d93",
   "metadata": {},
   "outputs": [
    {
     "data": {
      "text/plain": [
       "(2500, 2500)"
      ]
     },
     "execution_count": 22,
     "metadata": {},
     "output_type": "execute_result"
    }
   ],
   "source": [
    "A.shape"
   ]
  },
  {
   "cell_type": "code",
   "execution_count": null,
   "id": "2d0048a8",
   "metadata": {},
   "outputs": [],
   "source": []
  }
 ],
 "metadata": {
  "kernelspec": {
   "display_name": "TF20",
   "language": "python",
   "name": "tf2_gpu"
  },
  "language_info": {
   "codemirror_mode": {
    "name": "ipython",
    "version": 3
   },
   "file_extension": ".py",
   "mimetype": "text/x-python",
   "name": "python",
   "nbconvert_exporter": "python",
   "pygments_lexer": "ipython3",
   "version": "3.6.9"
  }
 },
 "nbformat": 4,
 "nbformat_minor": 5
}
