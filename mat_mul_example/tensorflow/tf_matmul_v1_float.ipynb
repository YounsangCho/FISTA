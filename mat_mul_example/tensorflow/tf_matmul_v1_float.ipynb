{
 "cells": [
  {
   "cell_type": "code",
   "execution_count": 1,
   "id": "8cb17151",
   "metadata": {},
   "outputs": [],
   "source": [
    "import numpy as np\n",
    "import tensorflow as tf"
   ]
  },
  {
   "cell_type": "code",
   "execution_count": 2,
   "id": "14bc3b3d",
   "metadata": {},
   "outputs": [
    {
     "data": {
      "text/plain": [
       "[PhysicalDevice(name='/physical_device:CPU:0', device_type='CPU'),\n",
       " PhysicalDevice(name='/physical_device:XLA_CPU:0', device_type='XLA_CPU'),\n",
       " PhysicalDevice(name='/physical_device:XLA_GPU:0', device_type='XLA_GPU'),\n",
       " PhysicalDevice(name='/physical_device:GPU:0', device_type='GPU')]"
      ]
     },
     "execution_count": 2,
     "metadata": {},
     "output_type": "execute_result"
    }
   ],
   "source": [
    "tf.config.list_physical_devices()"
   ]
  },
  {
   "cell_type": "code",
   "execution_count": 4,
   "id": "80ce5217",
   "metadata": {},
   "outputs": [],
   "source": [
    "np.random.seed(2022)\n",
    "n = 50\n",
    "A = np.random.randn(n,n).astype(np.float32)\n",
    "B = np.random.randn(n,n).astype(np.float32)"
   ]
  },
  {
   "cell_type": "code",
   "execution_count": 5,
   "id": "f729f4b3",
   "metadata": {},
   "outputs": [],
   "source": [
    "with tf.device('/GPU:0'):\n",
    "    dA = tf.constant(A,dtype=tf.float32)\n",
    "    dB = tf.constant(B,dtype=tf.float32)\n",
    "    dC = tf.matmul(A, B)\n",
    "\n",
    "C = dC.numpy()"
   ]
  },
  {
   "cell_type": "code",
   "execution_count": 6,
   "id": "0761c155",
   "metadata": {},
   "outputs": [
    {
     "data": {
      "text/plain": [
       "array([-4.2651682e+00,  4.4717894e+00,  2.8567140e+00,  1.1422405e+00,\n",
       "       -6.4879456e+00, -4.8427286e+00, -6.4231067e+00,  4.0089178e+00,\n",
       "       -4.5662951e+00, -3.9613004e+00,  3.1529098e+00, -2.8642151e+00,\n",
       "        1.5266349e+01,  8.8474407e+00,  1.3822375e+01, -1.1303354e+01,\n",
       "        1.7988284e+00,  1.3061624e+00, -9.8149610e-01, -1.2086377e+00,\n",
       "        1.2391439e+01, -3.9272158e+00, -4.4011540e+00,  5.5740180e+00,\n",
       "       -4.9696283e+00,  5.6897240e+00, -1.0580479e+01, -1.3111970e+01,\n",
       "       -2.0447900e+00, -3.0077927e+00, -1.1668243e+00, -6.6540704e+00,\n",
       "        3.6730709e+00, -5.8680348e+00,  6.0824614e+00,  9.8098640e+00,\n",
       "       -3.2595110e-01, -4.4762983e+00, -3.1373346e-01, -9.2297792e-03,\n",
       "        1.8256099e+00, -1.7101532e+00,  4.2715921e+00,  1.1261980e+01,\n",
       "       -6.8811326e+00, -1.1625242e+00, -7.9430017e+00, -7.8587799e+00,\n",
       "        4.6561575e-01,  1.0123330e+01], dtype=float32)"
      ]
     },
     "execution_count": 6,
     "metadata": {},
     "output_type": "execute_result"
    }
   ],
   "source": [
    "C[0]"
   ]
  },
  {
   "cell_type": "code",
   "execution_count": 7,
   "id": "1104f13b",
   "metadata": {
    "scrolled": true
   },
   "outputs": [
    {
     "data": {
      "text/plain": [
       "array([-4.2651687e+00,  4.4717889e+00,  2.8567147e+00,  1.1422411e+00,\n",
       "       -6.4879460e+00, -4.8427286e+00, -6.4231071e+00,  4.0089183e+00,\n",
       "       -4.5662951e+00, -3.9613001e+00,  3.1529100e+00, -2.8642142e+00,\n",
       "        1.5266350e+01,  8.8474398e+00,  1.3822375e+01, -1.1303352e+01,\n",
       "        1.7988281e+00,  1.3061628e+00, -9.8149627e-01, -1.2086369e+00,\n",
       "        1.2391439e+01, -3.9272153e+00, -4.4011531e+00,  5.5740185e+00,\n",
       "       -4.9696288e+00,  5.6897259e+00, -1.0580478e+01, -1.3111972e+01,\n",
       "       -2.0447896e+00, -3.0077918e+00, -1.1668241e+00, -6.6540699e+00,\n",
       "        3.6730716e+00, -5.8680353e+00,  6.0824609e+00,  9.8098640e+00,\n",
       "       -3.2595092e-01, -4.4762979e+00, -3.1373355e-01, -9.2294300e-03,\n",
       "        1.8256099e+00, -1.7101533e+00,  4.2715926e+00,  1.1261982e+01,\n",
       "       -6.8811331e+00, -1.1625246e+00, -7.9430013e+00, -7.8587794e+00,\n",
       "        4.6561626e-01,  1.0123331e+01], dtype=float32)"
      ]
     },
     "execution_count": 7,
     "metadata": {},
     "output_type": "execute_result"
    }
   ],
   "source": [
    "np.dot(A,B)[0]"
   ]
  },
  {
   "cell_type": "code",
   "execution_count": 8,
   "id": "16d8e62a",
   "metadata": {},
   "outputs": [
    {
     "name": "stdout",
     "output_type": "stream",
     "text": [
      "\n",
      "  1 -th iteration, Collapsed Time:  0.05407547950744629\n",
      "\n",
      "  2 -th iteration, Collapsed Time:  0.0642099380493164\n",
      "\n",
      "  3 -th iteration, Collapsed Time:  0.0541529655456543\n",
      "\n",
      "  4 -th iteration, Collapsed Time:  0.05482363700866699\n",
      "\n",
      "  5 -th iteration, Collapsed Time:  0.035675048828125\n",
      "\n",
      "  6 -th iteration, Collapsed Time:  0.0596919059753418\n",
      "\n",
      "  7 -th iteration, Collapsed Time:  0.05087733268737793\n",
      "\n",
      "  8 -th iteration, Collapsed Time:  0.04907536506652832\n",
      "\n",
      "  9 -th iteration, Collapsed Time:  0.04673337936401367\n",
      "\n",
      "  10 -th iteration, Collapsed Time:  0.04918670654296875\n"
     ]
    }
   ],
   "source": [
    "import numpy as np\n",
    "import tensorflow as tf\n",
    "import time\n",
    "\n",
    "np.random.seed(2022)\n",
    "n = 2500\n",
    "A = np.random.randn(n,n).astype(np.float32)\n",
    "B = np.random.randn(n,n).astype(np.float32)\n",
    "niter = 10\n",
    "comp_time_tf = np.zeros(niter)\n",
    "\n",
    "for i in np.arange(niter):\n",
    "\n",
    "    t1 = time.time()\n",
    "    with tf.device('/GPU:0'):\n",
    "        dA = tf.constant(A, dtype=tf.float32)\n",
    "        dB = tf.constant(B, dtype=tf.float32)\n",
    "        dC = tf.matmul(dA, dB)\n",
    "    C = dC.numpy()\n",
    "    t2 = time.time()\n",
    "    comp_time_tf[i] = t2-t1\n",
    "        \n",
    "    print('\\n ',i+1,'-th iteration, Collapsed Time: ', comp_time_tf[i])\n",
    "    \n"
   ]
  },
  {
   "cell_type": "code",
   "execution_count": 9,
   "id": "b6094f3b",
   "metadata": {},
   "outputs": [
    {
     "data": {
      "text/plain": [
       "0.0519"
      ]
     },
     "execution_count": 9,
     "metadata": {},
     "output_type": "execute_result"
    }
   ],
   "source": [
    "np.round(np.mean(comp_time_tf),4)"
   ]
  },
  {
   "cell_type": "code",
   "execution_count": null,
   "id": "42b75be0",
   "metadata": {},
   "outputs": [],
   "source": []
  }
 ],
 "metadata": {
  "kernelspec": {
   "display_name": "TF20",
   "language": "python",
   "name": "tf2_gpu"
  },
  "language_info": {
   "codemirror_mode": {
    "name": "ipython",
    "version": 3
   },
   "file_extension": ".py",
   "mimetype": "text/x-python",
   "name": "python",
   "nbconvert_exporter": "python",
   "pygments_lexer": "ipython3",
   "version": "3.6.9"
  }
 },
 "nbformat": 4,
 "nbformat_minor": 5
}
