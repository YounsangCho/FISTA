{
 "cells": [
  {
   "cell_type": "code",
   "execution_count": 1,
   "id": "8cb17151",
   "metadata": {},
   "outputs": [],
   "source": [
    "import numpy as np\n",
    "import tensorflow as tf"
   ]
  },
  {
   "cell_type": "code",
   "execution_count": 2,
   "id": "14bc3b3d",
   "metadata": {},
   "outputs": [
    {
     "data": {
      "text/plain": [
       "[PhysicalDevice(name='/physical_device:CPU:0', device_type='CPU'),\n",
       " PhysicalDevice(name='/physical_device:XLA_CPU:0', device_type='XLA_CPU'),\n",
       " PhysicalDevice(name='/physical_device:XLA_GPU:0', device_type='XLA_GPU'),\n",
       " PhysicalDevice(name='/physical_device:GPU:0', device_type='GPU')]"
      ]
     },
     "execution_count": 2,
     "metadata": {},
     "output_type": "execute_result"
    }
   ],
   "source": [
    "tf.config.list_physical_devices()"
   ]
  },
  {
   "cell_type": "code",
   "execution_count": 14,
   "id": "80ce5217",
   "metadata": {},
   "outputs": [],
   "source": [
    "np.random.seed(2022)\n",
    "n = 50\n",
    "A = np.random.randn(n,n).astype(np.float64)\n",
    "B = np.random.randn(n,n).astype(np.float64)"
   ]
  },
  {
   "cell_type": "code",
   "execution_count": 15,
   "id": "f729f4b3",
   "metadata": {},
   "outputs": [],
   "source": [
    "with tf.device('/GPU:0'):\n",
    "    dA = tf.constant(A,dtype=tf.float64)\n",
    "    dB = tf.constant(B,dtype=tf.float64)\n",
    "    dC = tf.matmul(A, B)\n",
    "\n",
    "C = dC.numpy()"
   ]
  },
  {
   "cell_type": "code",
   "execution_count": 16,
   "id": "0761c155",
   "metadata": {},
   "outputs": [
    {
     "data": {
      "text/plain": [
       "array([-4.26516861e+00,  4.47178964e+00,  2.85671449e+00,  1.14224092e+00,\n",
       "       -6.48794556e+00, -4.84272861e+00, -6.42310726e+00,  4.00891832e+00,\n",
       "       -4.56629541e+00, -3.96130001e+00,  3.15290990e+00, -2.86421472e+00,\n",
       "        1.52663492e+01,  8.84744005e+00,  1.38223755e+01, -1.13033539e+01,\n",
       "        1.79882781e+00,  1.30616217e+00, -9.81496667e-01, -1.20863747e+00,\n",
       "        1.23914394e+01, -3.92721535e+00, -4.40115427e+00,  5.57401826e+00,\n",
       "       -4.96962847e+00,  5.68972372e+00, -1.05804794e+01, -1.31119699e+01,\n",
       "       -2.04478926e+00, -3.00779215e+00, -1.16682453e+00, -6.65407033e+00,\n",
       "        3.67307120e+00, -5.86803479e+00,  6.08246045e+00,  9.80986417e+00,\n",
       "       -3.25950414e-01, -4.47629772e+00, -3.13733059e-01, -9.22952897e-03,\n",
       "        1.82561042e+00, -1.71015296e+00,  4.27159228e+00,  1.12619803e+01,\n",
       "       -6.88113315e+00, -1.16252493e+00, -7.94300161e+00, -7.85877981e+00,\n",
       "        4.65615654e-01,  1.01233305e+01])"
      ]
     },
     "execution_count": 16,
     "metadata": {},
     "output_type": "execute_result"
    }
   ],
   "source": [
    "C[0]"
   ]
  },
  {
   "cell_type": "code",
   "execution_count": 17,
   "id": "1104f13b",
   "metadata": {
    "scrolled": true
   },
   "outputs": [
    {
     "data": {
      "text/plain": [
       "array([-4.26516861e+00,  4.47178964e+00,  2.85671449e+00,  1.14224092e+00,\n",
       "       -6.48794556e+00, -4.84272861e+00, -6.42310726e+00,  4.00891832e+00,\n",
       "       -4.56629541e+00, -3.96130001e+00,  3.15290990e+00, -2.86421472e+00,\n",
       "        1.52663492e+01,  8.84744005e+00,  1.38223755e+01, -1.13033539e+01,\n",
       "        1.79882781e+00,  1.30616217e+00, -9.81496667e-01, -1.20863747e+00,\n",
       "        1.23914394e+01, -3.92721535e+00, -4.40115427e+00,  5.57401826e+00,\n",
       "       -4.96962847e+00,  5.68972372e+00, -1.05804794e+01, -1.31119699e+01,\n",
       "       -2.04478926e+00, -3.00779215e+00, -1.16682453e+00, -6.65407033e+00,\n",
       "        3.67307120e+00, -5.86803479e+00,  6.08246045e+00,  9.80986417e+00,\n",
       "       -3.25950414e-01, -4.47629772e+00, -3.13733059e-01, -9.22952897e-03,\n",
       "        1.82561042e+00, -1.71015296e+00,  4.27159228e+00,  1.12619803e+01,\n",
       "       -6.88113315e+00, -1.16252493e+00, -7.94300161e+00, -7.85877981e+00,\n",
       "        4.65615654e-01,  1.01233305e+01])"
      ]
     },
     "execution_count": 17,
     "metadata": {},
     "output_type": "execute_result"
    }
   ],
   "source": [
    "np.dot(A,B)[0]"
   ]
  },
  {
   "cell_type": "code",
   "execution_count": 3,
   "id": "16d8e62a",
   "metadata": {},
   "outputs": [
    {
     "name": "stdout",
     "output_type": "stream",
     "text": [
      "\n",
      "  1 -th iteration, Collapsed Time:  0.2452237606048584\n",
      "\n",
      "  2 -th iteration, Collapsed Time:  0.24432015419006348\n",
      "\n",
      "  3 -th iteration, Collapsed Time:  0.24471807479858398\n",
      "\n",
      "  4 -th iteration, Collapsed Time:  0.24366402626037598\n",
      "\n",
      "  5 -th iteration, Collapsed Time:  0.2446131706237793\n",
      "\n",
      "  6 -th iteration, Collapsed Time:  0.24371075630187988\n",
      "\n",
      "  7 -th iteration, Collapsed Time:  0.24552083015441895\n",
      "\n",
      "  8 -th iteration, Collapsed Time:  0.2432270050048828\n",
      "\n",
      "  9 -th iteration, Collapsed Time:  0.24337267875671387\n",
      "\n",
      "  10 -th iteration, Collapsed Time:  0.24462461471557617\n"
     ]
    }
   ],
   "source": [
    "import numpy as np\n",
    "import tensorflow as tf\n",
    "import time\n",
    "\n",
    "np.random.seed(2022)\n",
    "n = 2500\n",
    "A = np.random.randn(n,n).astype(np.float64)\n",
    "B = np.random.randn(n,n).astype(np.float64)\n",
    "niter = 10\n",
    "comp_time_tf = np.zeros(niter)\n",
    "\n",
    "for i in np.arange(niter):\n",
    "\n",
    "    t1 = time.time()\n",
    "    with tf.device('/GPU:0'):\n",
    "        dA = tf.constant(A, dtype=tf.float64)\n",
    "        dB = tf.constant(B, dtype=tf.float64)\n",
    "        dC = tf.matmul(A, B)\n",
    "    C = dC.numpy()\n",
    "    t2 = time.time()\n",
    "    comp_time_tf[i] = t2-t1\n",
    "        \n",
    "    print('\\n ',i+1,'-th iteration, Collapsed Time: ', comp_time_tf[i])\n",
    "    \n"
   ]
  },
  {
   "cell_type": "code",
   "execution_count": 4,
   "id": "b6094f3b",
   "metadata": {},
   "outputs": [
    {
     "data": {
      "text/plain": [
       "0.2443"
      ]
     },
     "execution_count": 4,
     "metadata": {},
     "output_type": "execute_result"
    }
   ],
   "source": [
    "np.round(np.mean(comp_time_tf),4)"
   ]
  },
  {
   "cell_type": "code",
   "execution_count": null,
   "id": "42b75be0",
   "metadata": {},
   "outputs": [],
   "source": []
  }
 ],
 "metadata": {
  "kernelspec": {
   "display_name": "TF20",
   "language": "python",
   "name": "tf2_gpu"
  },
  "language_info": {
   "codemirror_mode": {
    "name": "ipython",
    "version": 3
   },
   "file_extension": ".py",
   "mimetype": "text/x-python",
   "name": "python",
   "nbconvert_exporter": "python",
   "pygments_lexer": "ipython3",
   "version": "3.6.9"
  }
 },
 "nbformat": 4,
 "nbformat_minor": 5
}
