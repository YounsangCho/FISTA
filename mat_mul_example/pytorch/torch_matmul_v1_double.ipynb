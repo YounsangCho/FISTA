{
 "cells": [
  {
   "cell_type": "code",
   "execution_count": 11,
   "id": "16a96b66",
   "metadata": {},
   "outputs": [],
   "source": [
    "import numpy as np\n",
    "import torch"
   ]
  },
  {
   "cell_type": "code",
   "execution_count": 12,
   "id": "0174fbcf",
   "metadata": {},
   "outputs": [
    {
     "data": {
      "text/plain": [
       "True"
      ]
     },
     "execution_count": 12,
     "metadata": {},
     "output_type": "execute_result"
    }
   ],
   "source": [
    "torch.cuda.is_available()"
   ]
  },
  {
   "cell_type": "code",
   "execution_count": 13,
   "id": "83827caf",
   "metadata": {},
   "outputs": [
    {
     "data": {
      "text/plain": [
       "1"
      ]
     },
     "execution_count": 13,
     "metadata": {},
     "output_type": "execute_result"
    }
   ],
   "source": [
    "torch.cuda.device_count()"
   ]
  },
  {
   "cell_type": "code",
   "execution_count": 14,
   "id": "675ed541",
   "metadata": {},
   "outputs": [
    {
     "data": {
      "text/plain": [
       "'NVIDIA GeForce GTX 1080 Ti'"
      ]
     },
     "execution_count": 14,
     "metadata": {},
     "output_type": "execute_result"
    }
   ],
   "source": [
    "torch.cuda.get_device_name()"
   ]
  },
  {
   "cell_type": "code",
   "execution_count": 15,
   "id": "97cb0bb7",
   "metadata": {},
   "outputs": [
    {
     "data": {
      "text/plain": [
       "(6, 1)"
      ]
     },
     "execution_count": 15,
     "metadata": {},
     "output_type": "execute_result"
    }
   ],
   "source": [
    "torch.cuda.get_device_capability()"
   ]
  },
  {
   "cell_type": "code",
   "execution_count": 16,
   "id": "da3ef458",
   "metadata": {},
   "outputs": [],
   "source": [
    "np.random.seed(2022)\n",
    "n = 50\n",
    "A = np.random.randn(n,n).astype(np.float64)\n",
    "B = np.random.randn(n,n).astype(np.float64)"
   ]
  },
  {
   "cell_type": "code",
   "execution_count": 24,
   "id": "856790cf",
   "metadata": {},
   "outputs": [],
   "source": [
    "#\"cuda:0\"\n",
    "cuda = torch.device('cuda')\n",
    "cpu = torch.device('cpu')"
   ]
  },
  {
   "cell_type": "code",
   "execution_count": 20,
   "id": "ed8c03ae",
   "metadata": {},
   "outputs": [],
   "source": [
    "dA = torch.tensor(A).to('cuda:0')\n",
    "dB = torch.tensor(B).to('cuda:0')\n",
    "dC = torch.matmul(dA,dB)\n",
    "C = dC.to('cpu')\n"
   ]
  },
  {
   "cell_type": "code",
   "execution_count": 21,
   "id": "0ad779a1",
   "metadata": {},
   "outputs": [
    {
     "data": {
      "text/plain": [
       "tensor([-4.2652e+00,  4.4718e+00,  2.8567e+00,  1.1422e+00, -6.4879e+00,\n",
       "        -4.8427e+00, -6.4231e+00,  4.0089e+00, -4.5663e+00, -3.9613e+00,\n",
       "         3.1529e+00, -2.8642e+00,  1.5266e+01,  8.8474e+00,  1.3822e+01,\n",
       "        -1.1303e+01,  1.7988e+00,  1.3062e+00, -9.8150e-01, -1.2086e+00,\n",
       "         1.2391e+01, -3.9272e+00, -4.4012e+00,  5.5740e+00, -4.9696e+00,\n",
       "         5.6897e+00, -1.0580e+01, -1.3112e+01, -2.0448e+00, -3.0078e+00,\n",
       "        -1.1668e+00, -6.6541e+00,  3.6731e+00, -5.8680e+00,  6.0825e+00,\n",
       "         9.8099e+00, -3.2595e-01, -4.4763e+00, -3.1373e-01, -9.2295e-03,\n",
       "         1.8256e+00, -1.7102e+00,  4.2716e+00,  1.1262e+01, -6.8811e+00,\n",
       "        -1.1625e+00, -7.9430e+00, -7.8588e+00,  4.6562e-01,  1.0123e+01],\n",
       "       dtype=torch.float64)"
      ]
     },
     "execution_count": 21,
     "metadata": {},
     "output_type": "execute_result"
    }
   ],
   "source": [
    "C[0]"
   ]
  },
  {
   "cell_type": "code",
   "execution_count": 22,
   "id": "7ed229f8",
   "metadata": {},
   "outputs": [
    {
     "data": {
      "text/plain": [
       "array([-4.26516861e+00,  4.47178964e+00,  2.85671449e+00,  1.14224092e+00,\n",
       "       -6.48794556e+00, -4.84272861e+00, -6.42310726e+00,  4.00891832e+00,\n",
       "       -4.56629541e+00, -3.96130001e+00,  3.15290990e+00, -2.86421472e+00,\n",
       "        1.52663492e+01,  8.84744005e+00,  1.38223755e+01, -1.13033539e+01,\n",
       "        1.79882781e+00,  1.30616217e+00, -9.81496667e-01, -1.20863747e+00,\n",
       "        1.23914394e+01, -3.92721535e+00, -4.40115427e+00,  5.57401826e+00,\n",
       "       -4.96962847e+00,  5.68972372e+00, -1.05804794e+01, -1.31119699e+01,\n",
       "       -2.04478926e+00, -3.00779215e+00, -1.16682453e+00, -6.65407033e+00,\n",
       "        3.67307120e+00, -5.86803479e+00,  6.08246045e+00,  9.80986417e+00,\n",
       "       -3.25950414e-01, -4.47629772e+00, -3.13733059e-01, -9.22952897e-03,\n",
       "        1.82561042e+00, -1.71015296e+00,  4.27159228e+00,  1.12619803e+01,\n",
       "       -6.88113315e+00, -1.16252493e+00, -7.94300161e+00, -7.85877981e+00,\n",
       "        4.65615654e-01,  1.01233305e+01])"
      ]
     },
     "execution_count": 22,
     "metadata": {},
     "output_type": "execute_result"
    }
   ],
   "source": [
    "np.dot(A,B)[0]"
   ]
  },
  {
   "cell_type": "code",
   "execution_count": 27,
   "id": "74cf7f74",
   "metadata": {},
   "outputs": [
    {
     "name": "stdout",
     "output_type": "stream",
     "text": [
      "\n",
      "  1 -th iteration, Collapsed Time:  0.17372918128967285\n",
      "\n",
      "  2 -th iteration, Collapsed Time:  0.142805814743042\n",
      "\n",
      "  3 -th iteration, Collapsed Time:  0.13344502449035645\n",
      "\n",
      "  4 -th iteration, Collapsed Time:  0.13095450401306152\n",
      "\n",
      "  5 -th iteration, Collapsed Time:  0.1311178207397461\n",
      "\n",
      "  6 -th iteration, Collapsed Time:  0.13081693649291992\n",
      "\n",
      "  7 -th iteration, Collapsed Time:  0.13079357147216797\n",
      "\n",
      "  8 -th iteration, Collapsed Time:  0.1315474510192871\n",
      "\n",
      "  9 -th iteration, Collapsed Time:  0.13089275360107422\n",
      "\n",
      "  10 -th iteration, Collapsed Time:  0.13074088096618652\n",
      "\n",
      "  11 -th iteration, Collapsed Time:  0.13084912300109863\n"
     ]
    }
   ],
   "source": [
    "import numpy as np\n",
    "import torch\n",
    "import time\n",
    "\n",
    "np.random.seed(2022)\n",
    "n = 2500\n",
    "A = np.random.randn(n,n).astype(np.float64)\n",
    "B = np.random.randn(n,n).astype(np.float64)\n",
    "niter = 11\n",
    "comp_time_torch = np.zeros(niter)\n",
    "\n",
    "for i in np.arange(niter):\n",
    "\n",
    "    t1 = time.time()\n",
    "    dA = torch.tensor(A).to('cuda:0')\n",
    "    dB = torch.tensor(B).to('cuda:0')\n",
    "    dC = torch.matmul(dA,dB)\n",
    "    C = dC.to('cpu')\n",
    "    t2 = time.time()\n",
    "    comp_time_torch[i] = t2-t1\n",
    "        \n",
    "    print('\\n ',i+1,'-th iteration, Collapsed Time: ', comp_time_torch[i])\n",
    " "
   ]
  },
  {
   "cell_type": "code",
   "execution_count": 28,
   "id": "e63532ad",
   "metadata": {},
   "outputs": [
    {
     "data": {
      "text/plain": [
       "0.1324"
      ]
     },
     "execution_count": 28,
     "metadata": {},
     "output_type": "execute_result"
    }
   ],
   "source": [
    "np.round(np.mean(comp_time_torch[1:]),4)"
   ]
  },
  {
   "cell_type": "code",
   "execution_count": null,
   "id": "5949ead6",
   "metadata": {},
   "outputs": [],
   "source": []
  }
 ],
 "metadata": {
  "kernelspec": {
   "display_name": "TF20",
   "language": "python",
   "name": "tf2_gpu"
  },
  "language_info": {
   "codemirror_mode": {
    "name": "ipython",
    "version": 3
   },
   "file_extension": ".py",
   "mimetype": "text/x-python",
   "name": "python",
   "nbconvert_exporter": "python",
   "pygments_lexer": "ipython3",
   "version": "3.6.9"
  }
 },
 "nbformat": 4,
 "nbformat_minor": 5
}
