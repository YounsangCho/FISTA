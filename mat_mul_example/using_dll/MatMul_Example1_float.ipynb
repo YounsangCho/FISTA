{
 "cells": [
  {
   "cell_type": "code",
   "execution_count": 1,
   "metadata": {},
   "outputs": [],
   "source": [
    "from ctypes import *\n",
    "import numpy as np\n",
    "from tqdm import tqdm\n",
    "import time"
   ]
  },
  {
   "cell_type": "code",
   "execution_count": 2,
   "metadata": {},
   "outputs": [],
   "source": [
    "libc_matmul32 = CDLL(\"/home/dyu/Dropbox/tf-notebooks/cuda_comp/mat_mul_example/using_dll/matmul_kernel_f.so\")\n",
    "matmul32 = libc_matmul32.MatMul\n",
    "\n",
    "libc_matmul_cublas = CDLL(\"/home/dyu/Dropbox/tf-notebooks/cuda_comp/mat_mul_example/using_dll/matmul_cublas_f.so\")\n",
    "matmul_cublas = libc_matmul_cublas.MatMul_cuBLAS"
   ]
  },
  {
   "cell_type": "code",
   "execution_count": 3,
   "metadata": {},
   "outputs": [],
   "source": [
    "matmul32.restype = None\n",
    "matmul32.argtypes = (POINTER(c_float), POINTER(c_float),\n",
    "                     POINTER(c_float), POINTER(c_int))\n",
    "\n",
    "matmul_cublas.restype = None\n",
    "matmul_cublas.argtypes = (POINTER(c_float), POINTER(c_float),\n",
    "                          POINTER(c_float), POINTER(c_int))"
   ]
  },
  {
   "cell_type": "code",
   "execution_count": 4,
   "metadata": {},
   "outputs": [],
   "source": [
    "import numpy.random"
   ]
  },
  {
   "cell_type": "code",
   "execution_count": 5,
   "metadata": {},
   "outputs": [],
   "source": [
    "np.random.seed(2022)\n",
    "n = 50\n",
    "A = np.random.randn(n,n).astype(np.float32)\n",
    "B = np.random.randn(n,n).astype(np.float32)\n",
    "C = np.zeros_like(A).astype(np.float32)\n"
   ]
  },
  {
   "cell_type": "code",
   "execution_count": 6,
   "metadata": {},
   "outputs": [],
   "source": [
    "A_cr = A.ravel(order='C').ctypes.data_as(POINTER(c_float))"
   ]
  },
  {
   "cell_type": "code",
   "execution_count": 7,
   "metadata": {},
   "outputs": [
    {
     "data": {
      "text/plain": [
       "array([[0., 0., 0., ..., 0., 0., 0.],\n",
       "       [0., 0., 0., ..., 0., 0., 0.],\n",
       "       [0., 0., 0., ..., 0., 0., 0.],\n",
       "       ...,\n",
       "       [0., 0., 0., ..., 0., 0., 0.],\n",
       "       [0., 0., 0., ..., 0., 0., 0.],\n",
       "       [0., 0., 0., ..., 0., 0., 0.]], dtype=float32)"
      ]
     },
     "execution_count": 7,
     "metadata": {},
     "output_type": "execute_result"
    }
   ],
   "source": [
    "C"
   ]
  },
  {
   "cell_type": "code",
   "execution_count": 8,
   "metadata": {},
   "outputs": [
    {
     "data": {
      "text/plain": [
       "0.1393272876739502"
      ]
     },
     "execution_count": 8,
     "metadata": {},
     "output_type": "execute_result"
    }
   ],
   "source": [
    "N = A.shape[0]\n",
    "N_c = c_int(N)\n",
    "c_int(N)\n",
    "A_cr = A.ravel(order='C').ctypes.data_as(POINTER(c_float))\n",
    "B_cr = B.ravel(order='C').ctypes.data_as(POINTER(c_float))\n",
    "C_cr = C.ravel(order='C').ctypes.data_as(POINTER(c_float))\n",
    "\n",
    "t1 = time.time()\n",
    "matmul32(A_cr, B_cr, C_cr, N_c)\n",
    "t2 = time.time()\n",
    "\n",
    "C\n",
    "#C = C.reshape((N,N),order='C')\n",
    "t2-t1\n"
   ]
  },
  {
   "cell_type": "code",
   "execution_count": 9,
   "metadata": {},
   "outputs": [
    {
     "data": {
      "text/plain": [
       "(50, 50)"
      ]
     },
     "execution_count": 9,
     "metadata": {},
     "output_type": "execute_result"
    }
   ],
   "source": [
    "C.shape"
   ]
  },
  {
   "cell_type": "code",
   "execution_count": 10,
   "metadata": {},
   "outputs": [
    {
     "data": {
      "text/plain": [
       "array([-4.2651687e+00,  4.4717889e+00,  2.8567147e+00,  1.1422411e+00,\n",
       "       -6.4879460e+00, -4.8427286e+00, -6.4231071e+00,  4.0089183e+00,\n",
       "       -4.5662951e+00, -3.9613001e+00,  3.1529100e+00, -2.8642142e+00,\n",
       "        1.5266350e+01,  8.8474398e+00,  1.3822375e+01, -1.1303352e+01,\n",
       "        1.7988281e+00,  1.3061628e+00, -9.8149627e-01, -1.2086369e+00,\n",
       "        1.2391439e+01, -3.9272153e+00, -4.4011531e+00,  5.5740185e+00,\n",
       "       -4.9696288e+00,  5.6897259e+00, -1.0580478e+01, -1.3111972e+01,\n",
       "       -2.0447896e+00, -3.0077918e+00, -1.1668241e+00, -6.6540699e+00,\n",
       "        3.6730716e+00, -5.8680353e+00,  6.0824609e+00,  9.8098640e+00,\n",
       "       -3.2595092e-01, -4.4762979e+00, -3.1373355e-01, -9.2294300e-03,\n",
       "        1.8256099e+00, -1.7101533e+00,  4.2715926e+00,  1.1261982e+01,\n",
       "       -6.8811331e+00, -1.1625246e+00, -7.9430013e+00, -7.8587794e+00,\n",
       "        4.6561626e-01,  1.0123331e+01], dtype=float32)"
      ]
     },
     "execution_count": 10,
     "metadata": {},
     "output_type": "execute_result"
    }
   ],
   "source": [
    "C[0]"
   ]
  },
  {
   "cell_type": "code",
   "execution_count": 10,
   "metadata": {},
   "outputs": [
    {
     "data": {
      "text/plain": [
       "0.0009253025054931641"
      ]
     },
     "execution_count": 10,
     "metadata": {},
     "output_type": "execute_result"
    }
   ],
   "source": [
    "N = A.shape[0]\n",
    "N_c = c_int(N)\n",
    "\n",
    "A_cr = A.ctypes.data_as(POINTER(c_float))\n",
    "B_cr = B.ctypes.data_as(POINTER(c_float))\n",
    "\n",
    "C = np.zeros_like(A)\n",
    "C_cr = C.ctypes.data_as(POINTER(c_float))\n",
    "\n",
    "t1 = time.time()\n",
    "matmul32(A_cr, B_cr, C_cr, N_c)\n",
    "t2 = time.time()\n",
    "\n",
    "C = C.reshape(N,N, order = \"C\")\n",
    "t2-t1"
   ]
  },
  {
   "cell_type": "code",
   "execution_count": 11,
   "metadata": {},
   "outputs": [
    {
     "data": {
      "text/plain": [
       "array([-4.2651687e+00,  4.4717889e+00,  2.8567147e+00,  1.1422411e+00,\n",
       "       -6.4879460e+00, -4.8427286e+00, -6.4231071e+00,  4.0089183e+00,\n",
       "       -4.5662951e+00, -3.9613001e+00,  3.1529100e+00, -2.8642142e+00,\n",
       "        1.5266350e+01,  8.8474398e+00,  1.3822375e+01, -1.1303352e+01,\n",
       "        1.7988281e+00,  1.3061628e+00, -9.8149627e-01, -1.2086369e+00,\n",
       "        1.2391439e+01, -3.9272153e+00, -4.4011531e+00,  5.5740185e+00,\n",
       "       -4.9696288e+00,  5.6897259e+00, -1.0580478e+01, -1.3111972e+01,\n",
       "       -2.0447896e+00, -3.0077918e+00, -1.1668241e+00, -6.6540699e+00,\n",
       "        3.6730716e+00, -5.8680353e+00,  6.0824609e+00,  9.8098640e+00,\n",
       "       -3.2595092e-01, -4.4762979e+00, -3.1373355e-01, -9.2294300e-03,\n",
       "        1.8256099e+00, -1.7101533e+00,  4.2715926e+00,  1.1261982e+01,\n",
       "       -6.8811331e+00, -1.1625246e+00, -7.9430013e+00, -7.8587794e+00,\n",
       "        4.6561626e-01,  1.0123331e+01], dtype=float32)"
      ]
     },
     "execution_count": 11,
     "metadata": {},
     "output_type": "execute_result"
    }
   ],
   "source": [
    "C[0]"
   ]
  },
  {
   "cell_type": "code",
   "execution_count": 12,
   "metadata": {
    "scrolled": true
   },
   "outputs": [
    {
     "data": {
      "text/plain": [
       "array([[-4.2651687 ,  4.471789  ,  2.8567147 , ..., -7.8587794 ,\n",
       "         0.46561626, 10.123331  ],\n",
       "       [ 0.17802599, -7.3373866 , -9.555772  , ..., -2.558515  ,\n",
       "        -5.6395454 ,  7.8322344 ],\n",
       "       [-4.883615  ,  6.8135705 , -1.142484  , ...,  1.6628104 ,\n",
       "         5.6487055 , -4.1760306 ],\n",
       "       ...,\n",
       "       [ 3.7956095 ,  2.950998  ,  0.71643484, ..., -8.90769   ,\n",
       "        -4.7595043 ,  0.31343275],\n",
       "       [-4.7041545 , -3.3876402 ,  5.749583  , ..., -1.8417509 ,\n",
       "         3.3775368 , -5.8380384 ],\n",
       "       [ 0.56850034,  5.466258  ,  0.26090938, ...,  6.9832067 ,\n",
       "        11.622086  , -2.7714195 ]], dtype=float32)"
      ]
     },
     "execution_count": 12,
     "metadata": {},
     "output_type": "execute_result"
    }
   ],
   "source": [
    "np.matmul(A,B)"
   ]
  },
  {
   "cell_type": "code",
   "execution_count": 14,
   "metadata": {},
   "outputs": [
    {
     "data": {
      "text/plain": [
       "0.01983046531677246"
      ]
     },
     "execution_count": 14,
     "metadata": {},
     "output_type": "execute_result"
    }
   ],
   "source": [
    "Ac = A.ravel(order='F')\n",
    "A_cc = Ac.ctypes.data_as(POINTER(c_float))\n",
    "Bc = B.ravel(order='F')\n",
    "B_cc = Bc.ctypes.data_as(POINTER(c_float))\n",
    "\n",
    "Cc = np.zeros_like(A).ravel(order='F')\n",
    "C_cc = Cc.ravel(order='F').ctypes.data_as(POINTER(c_float))\n",
    "\n",
    "t1 = time.time()\n",
    "matmul_cublas(A_cc, B_cc, C_cc, N_c)\n",
    "t2 = time.time()\n",
    "\n",
    "Cc = Cc.reshape(N,N, order = \"F\")\n",
    "t2-t1\n"
   ]
  },
  {
   "cell_type": "code",
   "execution_count": 70,
   "metadata": {},
   "outputs": [
    {
     "name": "stdout",
     "output_type": "stream",
     "text": [
      "/usr/local/cuda-11.1/lib64/:/home/dyu/TensorRT-6.0.1.5/lib/\r\n"
     ]
    }
   ],
   "source": [
    "!echo $LD_LIBRARY_PATH"
   ]
  },
  {
   "cell_type": "code",
   "execution_count": 71,
   "metadata": {},
   "outputs": [],
   "source": [
    "#list(zip(A_c,B_c))"
   ]
  },
  {
   "cell_type": "code",
   "execution_count": 15,
   "metadata": {},
   "outputs": [
    {
     "data": {
      "text/plain": [
       "array([-4.2651682e+00,  4.4717894e+00,  2.8567140e+00,  1.1422405e+00,\n",
       "       -6.4879456e+00, -4.8427286e+00, -6.4231067e+00,  4.0089178e+00,\n",
       "       -4.5662951e+00, -3.9613004e+00,  3.1529098e+00, -2.8642151e+00,\n",
       "        1.5266349e+01,  8.8474407e+00,  1.3822375e+01, -1.1303354e+01,\n",
       "        1.7988284e+00,  1.3061624e+00, -9.8149610e-01, -1.2086377e+00,\n",
       "        1.2391439e+01, -3.9272158e+00, -4.4011540e+00,  5.5740180e+00,\n",
       "       -4.9696283e+00,  5.6897240e+00, -1.0580479e+01, -1.3111970e+01,\n",
       "       -2.0447900e+00, -3.0077927e+00, -1.1668243e+00, -6.6540704e+00,\n",
       "        3.6730709e+00, -5.8680348e+00,  6.0824614e+00,  9.8098640e+00,\n",
       "       -3.2595110e-01, -4.4762983e+00, -3.1373346e-01, -9.2297792e-03,\n",
       "        1.8256099e+00, -1.7101532e+00,  4.2715921e+00,  1.1261980e+01,\n",
       "       -6.8811326e+00, -1.1625242e+00, -7.9430017e+00, -7.8587799e+00,\n",
       "        4.6561575e-01,  1.0123330e+01], dtype=float32)"
      ]
     },
     "execution_count": 15,
     "metadata": {},
     "output_type": "execute_result"
    }
   ],
   "source": [
    "Cc[0]"
   ]
  },
  {
   "cell_type": "code",
   "execution_count": 14,
   "metadata": {},
   "outputs": [
    {
     "data": {
      "text/plain": [
       "['MatMul_Example1_float.ipynb',\n",
       " 'matmul_kernel_f.so',\n",
       " 'matmul_cuda_float.cu',\n",
       " '.ipynb_checkpoints',\n",
       " 'MatMul_Example1.ipynb',\n",
       " 'matmul_kernel.so',\n",
       " 'matmul_cublas.so',\n",
       " 'matmul_cuda.cu',\n",
       " 'matmul_cublas_float.cu',\n",
       " 'old',\n",
       " 'matmul_cublas.cu',\n",
       " 'matmul_cublas_f.so']"
      ]
     },
     "execution_count": 14,
     "metadata": {},
     "output_type": "execute_result"
    }
   ],
   "source": [
    "import os\n",
    "#os.getcwd()\n",
    "os.listdir()"
   ]
  },
  {
   "cell_type": "code",
   "execution_count": 16,
   "metadata": {},
   "outputs": [],
   "source": [
    "import numpy as np\n",
    "\n",
    "np.random.seed(2022)\n",
    "A = np.random.randn(5,5)\n",
    "B = np.random.randn(5,5)\n",
    "\n",
    "lib_matmul = CDLL(\"./matmul_kernel.so\")\n",
    "matmul_ker = lib_matmul.MatMul\n",
    "\n",
    "matmul_ker.restype = None\n",
    "matmul_ker.argtypes = (POINTER(c_float), POINTER(c_float),\n",
    "                       POINTER(c_float), POINTER(c_int))\n",
    "\n",
    "n = A.shape[0]\n",
    "nsq = n**2\n",
    "n_c = c_int(n)\n",
    "\n",
    "A_cr = A.ctypes.data_as(POINTER(c_float))\n",
    "B_cr = B.ctypes.data_as(POINTER(c_float))\n",
    "\n",
    "C = np.zeros_like(A)\n",
    "C_cr = C.ctypes.data_as(POINTER(c_float))\n",
    "\n",
    "matmul32(A_cr, B_cr, C_cr, n_c)\n",
    "\n",
    "C = C.reshape(n,n, order = \"C\")\n"
   ]
  },
  {
   "cell_type": "code",
   "execution_count": 17,
   "metadata": {},
   "outputs": [
    {
     "data": {
      "text/plain": [
       "array([[ 1.9589207 , -0.18495393, -1.904801  ,  1.2021145 ,  3.5421216 ],\n",
       "       [ 1.3897907 ,  0.30167198,  1.1877606 , -0.9365433 ,  0.6155618 ],\n",
       "       [-3.2913256 ,  0.49356195,  5.7312856 ,  2.959039  , -7.895276  ],\n",
       "       [ 0.9618915 , -1.7524593 , -1.2447041 ,  0.06135205,  3.6112087 ],\n",
       "       [-3.1212094 , -1.935519  ,  0.15948515,  0.9054616 ,  1.6629438 ]],\n",
       "      dtype=float32)"
      ]
     },
     "execution_count": 17,
     "metadata": {},
     "output_type": "execute_result"
    }
   ],
   "source": [
    "C"
   ]
  },
  {
   "cell_type": "code",
   "execution_count": 18,
   "metadata": {},
   "outputs": [
    {
     "data": {
      "text/plain": [
       "<__main__.c_float_Array_25 at 0x7fd956f659d8>"
      ]
     },
     "execution_count": 18,
     "metadata": {},
     "output_type": "execute_result"
    }
   ],
   "source": [
    "C_cr"
   ]
  },
  {
   "cell_type": "code",
   "execution_count": 19,
   "metadata": {},
   "outputs": [
    {
     "data": {
      "text/plain": [
       "[1.9589207172393799,\n",
       " -0.18495392799377441,\n",
       " -1.9048010110855103,\n",
       " 1.202114462852478,\n",
       " 3.542121648788452,\n",
       " 1.389790654182434,\n",
       " 0.30167198181152344,\n",
       " 1.187760591506958,\n",
       " -0.9365432858467102,\n",
       " 0.6155617833137512]"
      ]
     },
     "execution_count": 19,
     "metadata": {},
     "output_type": "execute_result"
    }
   ],
   "source": [
    "C_cr[0:10]"
   ]
  },
  {
   "cell_type": "markdown",
   "metadata": {},
   "source": [
    "## Numerical Comparison"
   ]
  },
  {
   "cell_type": "code",
   "execution_count": 43,
   "metadata": {},
   "outputs": [
    {
     "data": {
      "text/plain": [
       "array([0., 0., 0., 0., 0., 0., 0., 0., 0., 0.])"
      ]
     },
     "execution_count": 43,
     "metadata": {},
     "output_type": "execute_result"
    }
   ],
   "source": [
    "x = np.zeros(10)\n",
    "x"
   ]
  },
  {
   "cell_type": "code",
   "execution_count": 11,
   "metadata": {},
   "outputs": [
    {
     "name": "stdout",
     "output_type": "stream",
     "text": [
      "\n",
      "  1 -th iteration, Collapsed Time:  0.1247706413269043 ,   0.2007429599761963 , Total:  0.3255136013031006\n",
      "\n",
      "  2 -th iteration, Collapsed Time:  0.10743093490600586 ,   0.016197681427001953 , Total:  0.12362861633300781\n",
      "\n",
      "  3 -th iteration, Collapsed Time:  0.08952689170837402 ,   0.0233461856842041 , Total:  0.11287307739257812\n",
      "\n",
      "  4 -th iteration, Collapsed Time:  0.08809328079223633 ,   0.021433591842651367 , Total:  0.1095268726348877\n",
      "\n",
      "  5 -th iteration, Collapsed Time:  0.08746576309204102 ,   0.016199111938476562 , Total:  0.10366487503051758\n",
      "\n",
      "  6 -th iteration, Collapsed Time:  0.08689379692077637 ,   0.01614689826965332 , Total:  0.10304069519042969\n",
      "\n",
      "  7 -th iteration, Collapsed Time:  0.08868932723999023 ,   0.017761945724487305 , Total:  0.10645127296447754\n",
      "\n",
      "  8 -th iteration, Collapsed Time:  0.08796572685241699 ,   0.033212900161743164 , Total:  0.12117862701416016\n",
      "\n",
      "  9 -th iteration, Collapsed Time:  0.08748602867126465 ,   0.023749828338623047 , Total:  0.1112358570098877\n",
      "\n",
      "  10 -th iteration, Collapsed Time:  0.08806180953979492 ,   0.016081809997558594 , Total:  0.10414361953735352\n",
      "\n",
      "  11 -th iteration, Collapsed Time:  0.08709907531738281 ,   0.01667165756225586 , Total:  0.10377073287963867\n"
     ]
    }
   ],
   "source": [
    "from ctypes import *\n",
    "import numpy as np\n",
    "import time\n",
    "\n",
    "libc_matmul32 = CDLL(\"/home/dyu/Dropbox/tf-notebooks/cuda_comp/mat_mul_example/using_dll/matmul_kernel_f.so\")\n",
    "matmul32 = libc_matmul32.MatMul\n",
    "\n",
    "libc_matmul_cublas = CDLL(\"/home/dyu/Dropbox/tf-notebooks/cuda_comp/mat_mul_example/using_dll/matmul_cublas_f.so\")\n",
    "matmul_cublas = libc_matmul_cublas.MatMul_cuBLAS\n",
    "\n",
    "matmul32.restype = None\n",
    "matmul32.argtypes = (POINTER(c_float), POINTER(c_float),\n",
    "                     POINTER(c_float), POINTER(c_int))\n",
    "\n",
    "matmul_cublas.restype = None\n",
    "matmul_cublas.argtypes = (POINTER(c_float), POINTER(c_float),\n",
    "                          POINTER(c_float), POINTER(c_int))\n",
    "\n",
    "np.random.seed(2022)\n",
    "n = 2500\n",
    "A = np.random.randn(n,n).astype(np.float32)\n",
    "B = np.random.randn(n,n).astype(np.float32)\n",
    "C = np.zeros_like(A).astype(np.float32)\n",
    "niter = 11\n",
    "comp_time_ker = np.zeros(niter)\n",
    "comp_time_blas = np.zeros(niter)\n",
    "\n",
    "for i in np.arange(niter):\n",
    "    n_int = c_int(n)\n",
    "    \n",
    "    # kernel\n",
    "    A_ra = A.ctypes.data_as(POINTER(c_float))\n",
    "    B_ra = B.ctypes.data_as(POINTER(c_float))\n",
    "    C_ra = C.ctypes.data_as(POINTER(c_float))\n",
    "\n",
    "    t1 = time.time()\n",
    "    matmul32(A_ra, B_ra, C_ra, n_int)\n",
    "    t2 = time.time()\n",
    "    comp_time_ker[i] = t2-t1\n",
    "    \n",
    "    \n",
    "    # cublas\n",
    "    A_c = A.ravel(order='F')\n",
    "    A_ca = A_c.ctypes.data_as(POINTER(c_float))\n",
    "    B_c = B.ravel(order='F')\n",
    "    B_ca = B_c.ctypes.data_as(POINTER(c_float))\n",
    "    C_c = C.ravel(order='F')\n",
    "    C_ca = C_c.ctypes.data_as(POINTER(c_float))\n",
    "\n",
    "    t1 = time.time()\n",
    "    matmul_cublas(A_ca, B_ca, C_ca, n_int)\n",
    "    t2 = time.time()\n",
    "    comp_time_blas[i] = t2-t1\n",
    "    \n",
    "    print('\\n ',i+1,'-th iteration, Collapsed Time: ', comp_time_ker[i], ',  ', comp_time_blas[i],\n",
    "          ', Total: ',comp_time_ker[i]+comp_time_blas[i])\n",
    "    \n",
    "\n"
   ]
  },
  {
   "cell_type": "code",
   "execution_count": 12,
   "metadata": {},
   "outputs": [
    {
     "data": {
      "text/plain": [
       "(2500, 2500)"
      ]
     },
     "execution_count": 12,
     "metadata": {},
     "output_type": "execute_result"
    }
   ],
   "source": [
    "C.shape"
   ]
  },
  {
   "cell_type": "code",
   "execution_count": 13,
   "metadata": {},
   "outputs": [
    {
     "data": {
      "text/plain": [
       "array([[-12.897821 ,  25.157856 ,   6.22882  , -94.01637  , -42.02696  ],\n",
       "       [ 38.15462  ,  28.627695 ,  32.507763 ,  20.756927 , -14.107093 ],\n",
       "       [-76.4854   ,  14.265559 , -15.207016 , -45.09947  , -11.1243725],\n",
       "       [ -3.3712728,  42.972343 ,  -4.7928786, -49.861485 , -66.20471  ],\n",
       "       [-24.290062 ,  60.846813 ,  53.658283 ,  75.03848  , -64.98372  ]],\n",
       "      dtype=float32)"
      ]
     },
     "execution_count": 13,
     "metadata": {},
     "output_type": "execute_result"
    }
   ],
   "source": [
    "C[:5,:5]"
   ]
  },
  {
   "cell_type": "code",
   "execution_count": 3,
   "metadata": {
    "scrolled": true
   },
   "outputs": [
    {
     "data": {
      "text/plain": [
       "(0.0908, 0.0177)"
      ]
     },
     "execution_count": 3,
     "metadata": {},
     "output_type": "execute_result"
    }
   ],
   "source": [
    "np.round(np.mean(comp_time_ker[1:]),4), np.round(np.mean(comp_time_blas[1:]),4)"
   ]
  },
  {
   "cell_type": "code",
   "execution_count": 5,
   "metadata": {},
   "outputs": [
    {
     "data": {
      "text/plain": [
       "0.028599999999999987"
      ]
     },
     "execution_count": 5,
     "metadata": {},
     "output_type": "execute_result"
    }
   ],
   "source": [
    "0.0938, 0.0167"
   ]
  },
  {
   "cell_type": "code",
   "execution_count": 4,
   "metadata": {},
   "outputs": [
    {
     "data": {
      "text/plain": [
       "7.540372670807453"
      ]
     },
     "execution_count": 4,
     "metadata": {},
     "output_type": "execute_result"
    }
   ],
   "source": [
    "0.1214/0.0161"
   ]
  },
  {
   "cell_type": "code",
   "execution_count": 4,
   "metadata": {},
   "outputs": [
    {
     "data": {
      "text/plain": [
       "array([-12.897821 ,  38.15462  , -76.4854   ,  -3.3712728, -24.290062 ],\n",
       "      dtype=float32)"
      ]
     },
     "execution_count": 4,
     "metadata": {},
     "output_type": "execute_result"
    }
   ],
   "source": [
    "C[:5,0]"
   ]
  },
  {
   "cell_type": "code",
   "execution_count": 5,
   "metadata": {},
   "outputs": [
    {
     "data": {
      "text/plain": [
       "array([-12.897821 ,  38.15462  , -76.4854   ,  -3.3712728, -24.290062 ],\n",
       "      dtype=float32)"
      ]
     },
     "execution_count": 5,
     "metadata": {},
     "output_type": "execute_result"
    }
   ],
   "source": [
    "C_c[:5]"
   ]
  },
  {
   "cell_type": "code",
   "execution_count": null,
   "metadata": {},
   "outputs": [],
   "source": []
  }
 ],
 "metadata": {
  "kernelspec": {
   "display_name": "TF20",
   "language": "python",
   "name": "tf2_gpu"
  },
  "language_info": {
   "codemirror_mode": {
    "name": "ipython",
    "version": 3
   },
   "file_extension": ".py",
   "mimetype": "text/x-python",
   "name": "python",
   "nbconvert_exporter": "python",
   "pygments_lexer": "ipython3",
   "version": "3.6.9"
  }
 },
 "nbformat": 4,
 "nbformat_minor": 2
}
