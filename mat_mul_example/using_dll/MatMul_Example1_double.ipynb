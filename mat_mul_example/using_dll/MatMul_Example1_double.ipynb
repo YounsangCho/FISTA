{
 "cells": [
  {
   "cell_type": "code",
   "execution_count": 2,
   "metadata": {},
   "outputs": [],
   "source": [
    "from ctypes import *\n",
    "import numpy as np\n",
    "from tqdm import tqdm\n",
    "import time"
   ]
  },
  {
   "cell_type": "code",
   "execution_count": 3,
   "metadata": {},
   "outputs": [],
   "source": [
    "libc_matmul32 = CDLL(\"/home/dyu/Dropbox/tf-notebooks/cuda_comp/mat_mul_example/using_dll/matmul_kernel.so\")\n",
    "matmul32 = libc_matmul32.MatMul\n",
    "\n",
    "libc_matmul_cublas = CDLL(\"/home/dyu/Dropbox/tf-notebooks/cuda_comp/mat_mul_example/using_dll/matmul_cublas.so\")\n",
    "matmul_cublas = libc_matmul_cublas.MatMul_cuBLAS"
   ]
  },
  {
   "cell_type": "code",
   "execution_count": 4,
   "metadata": {},
   "outputs": [],
   "source": [
    "matmul32.restype = None\n",
    "matmul32.argtypes = (POINTER(c_double), POINTER(c_double),\n",
    "                     POINTER(c_double), POINTER(c_int))\n",
    "\n",
    "matmul_cublas.restype = None\n",
    "matmul_cublas.argtypes = (POINTER(c_double), POINTER(c_double),\n",
    "                          POINTER(c_double), POINTER(c_int))"
   ]
  },
  {
   "cell_type": "code",
   "execution_count": 5,
   "metadata": {},
   "outputs": [],
   "source": [
    "import numpy.random"
   ]
  },
  {
   "cell_type": "code",
   "execution_count": 6,
   "metadata": {},
   "outputs": [],
   "source": [
    "np.random.seed(2022)\n",
    "A = np.random.randn(5,5)\n",
    "B = np.random.randn(5,5)\n",
    "C = np.zeros_like(A)"
   ]
  },
  {
   "cell_type": "code",
   "execution_count": 7,
   "metadata": {},
   "outputs": [
    {
     "data": {
      "text/plain": [
       "0.14182019233703613"
      ]
     },
     "execution_count": 7,
     "metadata": {},
     "output_type": "execute_result"
    }
   ],
   "source": [
    "N = A.shape[0]\n",
    "N2 = N**2\n",
    "N_c = c_int(N)\n",
    "\n",
    "A_cr = (c_double * N2)(*A.ravel(order='C'))\n",
    "B_cr = (c_double * N2)(*B.ravel(order='C'))\n",
    "\n",
    "res = np.zeros_like(A)\n",
    "res_cr = (c_double * N2)(*res.ravel(order='C'))\n",
    "\n",
    "t1 = time.time()\n",
    "matmul32(A_cr, B_cr, res_cr, N_c)\n",
    "t2 = time.time()\n",
    "\n",
    "res = np.array(list(res_cr)).reshape(N,N, order = \"C\")\n",
    "t2-t1\n"
   ]
  },
  {
   "cell_type": "code",
   "execution_count": 8,
   "metadata": {},
   "outputs": [
    {
     "data": {
      "text/plain": [
       "array([[ 1.9589208 , -0.18495395, -1.90480098,  1.20211442,  3.54212188],\n",
       "       [ 1.38979071,  0.30167196,  1.18776044, -0.93654327,  0.61556178],\n",
       "       [-3.29132559,  0.49356196,  5.73128561,  2.95903904, -7.89527645],\n",
       "       [ 0.96189151, -1.75245935, -1.24470423,  0.06135214,  3.61120848],\n",
       "       [-3.12120937, -1.93551906,  0.15948521,  0.90546154,  1.6629438 ]])"
      ]
     },
     "execution_count": 8,
     "metadata": {},
     "output_type": "execute_result"
    }
   ],
   "source": [
    "np.matmul(A,B)"
   ]
  },
  {
   "cell_type": "code",
   "execution_count": 9,
   "metadata": {},
   "outputs": [
    {
     "data": {
      "text/plain": [
       "array([[ 1.9589208 , -0.18495395, -1.90480098,  1.20211442,  3.54212188],\n",
       "       [ 1.38979071,  0.30167196,  1.18776044, -0.93654327,  0.61556178],\n",
       "       [-3.29132559,  0.49356196,  5.73128561,  2.95903904, -7.89527645],\n",
       "       [ 0.96189151, -1.75245935, -1.24470423,  0.06135214,  3.61120848],\n",
       "       [-3.12120937, -1.93551906,  0.15948521,  0.90546154,  1.6629438 ]])"
      ]
     },
     "execution_count": 9,
     "metadata": {},
     "output_type": "execute_result"
    }
   ],
   "source": [
    "res"
   ]
  },
  {
   "cell_type": "code",
   "execution_count": 10,
   "metadata": {},
   "outputs": [],
   "source": [
    "#list(zip(A_c,B_c))"
   ]
  },
  {
   "cell_type": "code",
   "execution_count": 11,
   "metadata": {},
   "outputs": [
    {
     "data": {
      "text/plain": [
       "0.2296292781829834"
      ]
     },
     "execution_count": 11,
     "metadata": {},
     "output_type": "execute_result"
    }
   ],
   "source": [
    "A_cc = (c_double * N2)(*A.ravel(order='F'))\n",
    "B_cc = (c_double * N2)(*B.ravel(order='F'))\n",
    "\n",
    "res = np.zeros_like(A)\n",
    "res_cc = (c_double * N2)(*res.ravel(order='F'))\n",
    "\n",
    "t1 = time.time()\n",
    "matmul_cublas(A_cc, B_cc, res_cc, N_c)\n",
    "t2 = time.time()\n",
    "\n",
    "res_cublas = np.array(list(res_cc)).reshape(N,N, order = \"F\")\n",
    "t2-t1\n"
   ]
  },
  {
   "cell_type": "code",
   "execution_count": 12,
   "metadata": {},
   "outputs": [],
   "source": [
    "#list(zip(A_c,B_c))"
   ]
  },
  {
   "cell_type": "code",
   "execution_count": 13,
   "metadata": {},
   "outputs": [
    {
     "data": {
      "text/plain": [
       "array([[ 1.9589208 , -0.18495395, -1.90480098,  1.20211442,  3.54212188],\n",
       "       [ 1.38979071,  0.30167196,  1.18776044, -0.93654327,  0.61556178],\n",
       "       [-3.29132559,  0.49356196,  5.73128561,  2.95903904, -7.89527645],\n",
       "       [ 0.96189151, -1.75245935, -1.24470423,  0.06135214,  3.61120848],\n",
       "       [-3.12120937, -1.93551906,  0.15948521,  0.90546154,  1.6629438 ]])"
      ]
     },
     "execution_count": 13,
     "metadata": {},
     "output_type": "execute_result"
    }
   ],
   "source": [
    "res_cublas"
   ]
  },
  {
   "cell_type": "code",
   "execution_count": 14,
   "metadata": {},
   "outputs": [
    {
     "data": {
      "text/plain": [
       "['MatMul_Example1_float.ipynb',\n",
       " 'matmul_kernel_f.so',\n",
       " 'matmul_cuda_float.cu',\n",
       " '.ipynb_checkpoints',\n",
       " 'MatMul_Example1.ipynb',\n",
       " 'matmul_kernel.so',\n",
       " 'matmul_cublas.so',\n",
       " 'matmul_cuda.cu',\n",
       " 'matmul_cublas_float.cu',\n",
       " 'old',\n",
       " 'matmul_cublas.cu',\n",
       " 'matmul_cublas_f.so']"
      ]
     },
     "execution_count": 14,
     "metadata": {},
     "output_type": "execute_result"
    }
   ],
   "source": [
    "import os\n",
    "#os.getcwd()\n",
    "os.listdir()"
   ]
  },
  {
   "cell_type": "code",
   "execution_count": 15,
   "metadata": {},
   "outputs": [],
   "source": [
    "import numpy as np\n",
    "\n",
    "np.random.seed(2022)\n",
    "A = np.random.randn(5,5)\n",
    "B = np.random.randn(5,5)\n",
    "\n",
    "lib_matmul = CDLL(\"./matmul_kernel.so\")\n",
    "matmul_ker = lib_matmul.MatMul\n",
    "\n",
    "matmul_ker.restype = None\n",
    "matmul_ker.argtypes = (POINTER(c_double), POINTER(c_double),\n",
    "                       POINTER(c_double), POINTER(c_int))\n",
    "\n",
    "n = A.shape[0]\n",
    "nsq = n**2\n",
    "n_c = c_int(n)\n",
    "\n",
    "A_cr = (c_double * nsq)(*A.ravel(order='C'))\n",
    "B_cr = (c_double * nsq)(*B.ravel(order='C'))\n",
    "\n",
    "C = np.zeros_like(A)\n",
    "C_cr = (c_double * nsq)(*C.ravel(order='C'))\n",
    "\n",
    "matmul32(A_cr, B_cr, C_cr, n_c)\n",
    "\n",
    "C = np.array(C_cr).reshape(n,n, order = \"C\")\n"
   ]
  },
  {
   "cell_type": "code",
   "execution_count": 16,
   "metadata": {},
   "outputs": [
    {
     "data": {
      "text/plain": [
       "array([[ 1.9589208 , -0.18495395, -1.90480098,  1.20211442,  3.54212188],\n",
       "       [ 1.38979071,  0.30167196,  1.18776044, -0.93654327,  0.61556178],\n",
       "       [-3.29132559,  0.49356196,  5.73128561,  2.95903904, -7.89527645],\n",
       "       [ 0.96189151, -1.75245935, -1.24470423,  0.06135214,  3.61120848],\n",
       "       [-3.12120937, -1.93551906,  0.15948521,  0.90546154,  1.6629438 ]])"
      ]
     },
     "execution_count": 16,
     "metadata": {},
     "output_type": "execute_result"
    }
   ],
   "source": [
    "C"
   ]
  },
  {
   "cell_type": "code",
   "execution_count": 40,
   "metadata": {},
   "outputs": [
    {
     "data": {
      "text/plain": [
       "<__main__.c_double_Array_25 at 0x7f5c1c26ed90>"
      ]
     },
     "execution_count": 40,
     "metadata": {},
     "output_type": "execute_result"
    }
   ],
   "source": [
    "C_cr"
   ]
  },
  {
   "cell_type": "code",
   "execution_count": 41,
   "metadata": {},
   "outputs": [
    {
     "data": {
      "text/plain": [
       "[1.9589207985462411,\n",
       " -0.18495394619847472,\n",
       " -1.9048009770738679,\n",
       " 1.2021144201521272,\n",
       " 3.54212187899325,\n",
       " 1.3897907092212443,\n",
       " 0.3016719595183009,\n",
       " 1.1877604426849977,\n",
       " -0.9365432683503286,\n",
       " 0.6155617759705471]"
      ]
     },
     "execution_count": 41,
     "metadata": {},
     "output_type": "execute_result"
    }
   ],
   "source": [
    "C_cr[0:10]"
   ]
  },
  {
   "cell_type": "markdown",
   "metadata": {},
   "source": [
    "## Numerical Comparison"
   ]
  },
  {
   "cell_type": "code",
   "execution_count": 43,
   "metadata": {},
   "outputs": [
    {
     "data": {
      "text/plain": [
       "array([0., 0., 0., 0., 0., 0., 0., 0., 0., 0.])"
      ]
     },
     "execution_count": 43,
     "metadata": {},
     "output_type": "execute_result"
    }
   ],
   "source": [
    "x = np.zeros(10)\n",
    "x"
   ]
  },
  {
   "cell_type": "code",
   "execution_count": 1,
   "metadata": {},
   "outputs": [
    {
     "name": "stdout",
     "output_type": "stream",
     "text": [
      "\n",
      "  1 -th iteration, Collapsed Time:  0.3050234317779541 ,   0.2974860668182373 , Total:  0.6025094985961914\n",
      "\n",
      "  2 -th iteration, Collapsed Time:  0.14057016372680664 ,   0.11767077445983887 , Total:  0.2582409381866455\n",
      "\n",
      "  3 -th iteration, Collapsed Time:  0.14240121841430664 ,   0.12072324752807617 , Total:  0.2631244659423828\n",
      "\n",
      "  4 -th iteration, Collapsed Time:  0.14037013053894043 ,   0.10969948768615723 , Total:  0.25006961822509766\n",
      "\n",
      "  5 -th iteration, Collapsed Time:  0.14217925071716309 ,   0.11232423782348633 , Total:  0.2545034885406494\n",
      "\n",
      "  6 -th iteration, Collapsed Time:  0.14081525802612305 ,   0.11555075645446777 , Total:  0.2563660144805908\n",
      "\n",
      "  7 -th iteration, Collapsed Time:  0.1406104564666748 ,   0.11308979988098145 , Total:  0.25370025634765625\n",
      "\n",
      "  8 -th iteration, Collapsed Time:  0.1404714584350586 ,   0.10933113098144531 , Total:  0.2498025894165039\n",
      "\n",
      "  9 -th iteration, Collapsed Time:  0.14280915260314941 ,   0.11237478256225586 , Total:  0.2551839351654053\n",
      "\n",
      "  10 -th iteration, Collapsed Time:  0.14042973518371582 ,   0.11117339134216309 , Total:  0.2516031265258789\n",
      "\n",
      "  11 -th iteration, Collapsed Time:  0.14054536819458008 ,   0.11208462715148926 , Total:  0.25262999534606934\n"
     ]
    }
   ],
   "source": [
    "from ctypes import *\n",
    "import numpy as np\n",
    "import time\n",
    "\n",
    "libc_matmul32 = CDLL(\"/home/dyu/Dropbox/tf-notebooks/cuda_comp/mat_mul_example/using_dll/matmul_kernel.so\")\n",
    "matmul32 = libc_matmul32.MatMul\n",
    "\n",
    "libc_matmul_cublas = CDLL(\"/home/dyu/Dropbox/tf-notebooks/cuda_comp/mat_mul_example/using_dll/matmul_cublas.so\")\n",
    "matmul_cublas = libc_matmul_cublas.MatMul_cuBLAS\n",
    "\n",
    "matmul32.restype = None\n",
    "matmul32.argtypes = (POINTER(c_double), POINTER(c_double),\n",
    "                     POINTER(c_double), POINTER(c_int))\n",
    "\n",
    "matmul_cublas.restype = None\n",
    "matmul_cublas.argtypes = (POINTER(c_double), POINTER(c_double),\n",
    "                          POINTER(c_double), POINTER(c_int))\n",
    "\n",
    "np.random.seed(2022)\n",
    "n = 2500\n",
    "A = np.random.randn(n,n).astype(np.float64)\n",
    "B = np.random.randn(n,n).astype(np.float64)\n",
    "niter = 11\n",
    "comp_time_ker = np.zeros(niter)\n",
    "comp_time_blas = np.zeros(niter)\n",
    "\n",
    "for i in np.arange(niter):\n",
    "    n_int = c_int(n)\n",
    "    \n",
    "    # kernel\n",
    "    A_ra = A.ctypes.data_as(POINTER(c_double))\n",
    "    B_ra = B.ctypes.data_as(POINTER(c_double))\n",
    "\n",
    "    C = np.zeros_like(A)\n",
    "    C_ra = C.ctypes.data_as(POINTER(c_double))\n",
    "\n",
    "    t1 = time.time()\n",
    "    matmul32(A_ra, B_ra, C_ra, n_int)\n",
    "    t2 = time.time()\n",
    "    comp_time_ker[i] = t2-t1\n",
    "    \n",
    "    \n",
    "    # cublas\n",
    "    A_c = A.ravel(order='F')\n",
    "    A_ca = A_c.ctypes.data_as(POINTER(c_double))\n",
    "    B_c = B.ravel(order='F')\n",
    "    B_ca = B_c.ctypes.data_as(POINTER(c_double))\n",
    "\n",
    "    C_c = np.zeros_like(A).ravel(order='F')\n",
    "    C_ca = C_c.ctypes.data_as(POINTER(c_double))\n",
    "\n",
    "    t1 = time.time()\n",
    "    matmul_cublas(A_ca, B_ca, C_ca, n_int)\n",
    "    t2 = time.time()\n",
    "    comp_time_blas[i] = t2-t1\n",
    "    \n",
    "    print('\\n ',i+1,'-th iteration, Collapsed Time: ', comp_time_ker[i], ',  ', comp_time_blas[i],\n",
    "          ', Total: ',comp_time_ker[i]+comp_time_blas[i])\n",
    "    \n"
   ]
  },
  {
   "cell_type": "code",
   "execution_count": 2,
   "metadata": {},
   "outputs": [
    {
     "data": {
      "text/plain": [
       "(0.1411, 0.1134)"
      ]
     },
     "execution_count": 2,
     "metadata": {},
     "output_type": "execute_result"
    }
   ],
   "source": [
    "np.round(np.mean(comp_time_ker[1:]),4), np.round(np.mean(comp_time_blas[1:]),4)"
   ]
  },
  {
   "cell_type": "code",
   "execution_count": 5,
   "metadata": {},
   "outputs": [
    {
     "data": {
      "text/plain": [
       "0.0291"
      ]
     },
     "execution_count": 5,
     "metadata": {},
     "output_type": "execute_result"
    }
   ],
   "source": [
    "0.1444-0.1153"
   ]
  },
  {
   "cell_type": "code",
   "execution_count": null,
   "metadata": {},
   "outputs": [],
   "source": []
  }
 ],
 "metadata": {
  "kernelspec": {
   "display_name": "TF20",
   "language": "python",
   "name": "tf2_gpu"
  },
  "language_info": {
   "codemirror_mode": {
    "name": "ipython",
    "version": 3
   },
   "file_extension": ".py",
   "mimetype": "text/x-python",
   "name": "python",
   "nbconvert_exporter": "python",
   "pygments_lexer": "ipython3",
   "version": "3.6.9"
  }
 },
 "nbformat": 4,
 "nbformat_minor": 2
}
